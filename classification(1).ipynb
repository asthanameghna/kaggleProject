{
 "cells": [
  {
   "cell_type": "code",
   "execution_count": 10,
   "metadata": {},
   "outputs": [
    {
     "name": "stdout",
     "output_type": "stream",
     "text": [
      "\n"
     ]
    }
   ],
   "source": [
    "# standard libraries\n",
    "import csv\n",
    "import time\n",
    "import numpy as np\n",
    "import pandas as pd\n",
    "import re\n",
    "import gc\n",
    "from collections import defaultdict\n",
    "\n",
    "# data visualization\n",
    "%matplotlib inline\n",
    "import matplotlib.pyplot as plt\n",
    "import seaborn as sns\n",
    "\n",
    "from sklearn.model_selection import train_test_split\n",
    "import sklearn as sk  \n",
    "from sklearn.metrics import classification_report, confusion_matrix, accuracy_score\n",
    "from sklearn.linear_model import LogisticRegression  \n",
    "from sklearn import svm  \n",
    "from sklearn.ensemble import RandomForestClassifier  \n",
    "from sklearn.neural_network import MLPClassifier\n",
    "from sklearn import preprocessing\n",
    "from sklearn.neighbors import KNeighborsClassifier"
   ]
  },
  {
   "cell_type": "code",
   "execution_count": 2,
   "metadata": {},
   "outputs": [
    {
     "name": "stderr",
     "output_type": "stream",
     "text": [
      "C:\\Users\\Alice\\Anaconda2\\lib\\site-packages\\numpy\\lib\\arraysetops.py:463: FutureWarning: elementwise comparison failed; returning scalar instead, but in the future will perform elementwise comparison\n",
      "  mask |= (ar1 == a)\n"
     ]
    },
    {
     "data": {
      "text/html": [
       "<div>\n",
       "<style scoped>\n",
       "    .dataframe tbody tr th:only-of-type {\n",
       "        vertical-align: middle;\n",
       "    }\n",
       "\n",
       "    .dataframe tbody tr th {\n",
       "        vertical-align: top;\n",
       "    }\n",
       "\n",
       "    .dataframe thead th {\n",
       "        text-align: right;\n",
       "    }\n",
       "</style>\n",
       "<table border=\"1\" class=\"dataframe\">\n",
       "  <thead>\n",
       "    <tr style=\"text-align: right;\">\n",
       "      <th></th>\n",
       "      <th>name</th>\n",
       "      <th>item_condition_id</th>\n",
       "      <th>category_name</th>\n",
       "      <th>brand_name</th>\n",
       "      <th>price</th>\n",
       "      <th>shipping</th>\n",
       "      <th>item_description</th>\n",
       "    </tr>\n",
       "    <tr>\n",
       "      <th>train_id</th>\n",
       "      <th></th>\n",
       "      <th></th>\n",
       "      <th></th>\n",
       "      <th></th>\n",
       "      <th></th>\n",
       "      <th></th>\n",
       "      <th></th>\n",
       "    </tr>\n",
       "  </thead>\n",
       "  <tbody>\n",
       "    <tr>\n",
       "      <th>0</th>\n",
       "      <td>MLB Cincinnati Reds T Shirt Size XL</td>\n",
       "      <td>3</td>\n",
       "      <td>Men/Tops/T-shirts</td>\n",
       "      <td>NaN</td>\n",
       "      <td>10.0</td>\n",
       "      <td>1</td>\n",
       "      <td>No description yet</td>\n",
       "    </tr>\n",
       "    <tr>\n",
       "      <th>1</th>\n",
       "      <td>Razer BlackWidow Chroma Keyboard</td>\n",
       "      <td>3</td>\n",
       "      <td>Electronics/Computers &amp; Tablets/Components &amp; P...</td>\n",
       "      <td>Razer</td>\n",
       "      <td>52.0</td>\n",
       "      <td>0</td>\n",
       "      <td>This keyboard is in great condition and works ...</td>\n",
       "    </tr>\n",
       "    <tr>\n",
       "      <th>2</th>\n",
       "      <td>AVA-VIV Blouse</td>\n",
       "      <td>1</td>\n",
       "      <td>Women/Tops &amp; Blouses/Blouse</td>\n",
       "      <td>Target</td>\n",
       "      <td>10.0</td>\n",
       "      <td>1</td>\n",
       "      <td>Adorable top with a hint of lace and a key hol...</td>\n",
       "    </tr>\n",
       "    <tr>\n",
       "      <th>3</th>\n",
       "      <td>Leather Horse Statues</td>\n",
       "      <td>1</td>\n",
       "      <td>Home/Home Décor/Home Décor Accents</td>\n",
       "      <td>NaN</td>\n",
       "      <td>35.0</td>\n",
       "      <td>1</td>\n",
       "      <td>New with tags. Leather horses. Retail for [rm]...</td>\n",
       "    </tr>\n",
       "    <tr>\n",
       "      <th>4</th>\n",
       "      <td>24K GOLD plated rose</td>\n",
       "      <td>1</td>\n",
       "      <td>Women/Jewelry/Necklaces</td>\n",
       "      <td>NaN</td>\n",
       "      <td>44.0</td>\n",
       "      <td>0</td>\n",
       "      <td>Complete with certificate of authenticity</td>\n",
       "    </tr>\n",
       "  </tbody>\n",
       "</table>\n",
       "</div>"
      ],
      "text/plain": [
       "                                         name  item_condition_id  \\\n",
       "train_id                                                           \n",
       "0         MLB Cincinnati Reds T Shirt Size XL                  3   \n",
       "1            Razer BlackWidow Chroma Keyboard                  3   \n",
       "2                              AVA-VIV Blouse                  1   \n",
       "3                       Leather Horse Statues                  1   \n",
       "4                        24K GOLD plated rose                  1   \n",
       "\n",
       "                                              category_name brand_name  price  \\\n",
       "train_id                                                                        \n",
       "0                                         Men/Tops/T-shirts        NaN   10.0   \n",
       "1         Electronics/Computers & Tablets/Components & P...      Razer   52.0   \n",
       "2                               Women/Tops & Blouses/Blouse     Target   10.0   \n",
       "3                        Home/Home Décor/Home Décor Accents        NaN   35.0   \n",
       "4                                   Women/Jewelry/Necklaces        NaN   44.0   \n",
       "\n",
       "          shipping                                   item_description  \n",
       "train_id                                                               \n",
       "0                1                                 No description yet  \n",
       "1                0  This keyboard is in great condition and works ...  \n",
       "2                1  Adorable top with a hint of lace and a key hol...  \n",
       "3                1  New with tags. Leather horses. Retail for [rm]...  \n",
       "4                0          Complete with certificate of authenticity  "
      ]
     },
     "execution_count": 2,
     "metadata": {},
     "output_type": "execute_result"
    }
   ],
   "source": [
    "df_train = pd.read_csv('train.tsv', delimiter='\\t', index_col=['train_id'])\n",
    "df_test = pd.read_csv('test.tsv', delimiter='\\t', index_col=['test_id'])\n",
    "\n",
    "df_train.head(5)"
   ]
  },
  {
   "cell_type": "code",
   "execution_count": 3,
   "metadata": {},
   "outputs": [
    {
     "data": {
      "text/html": [
       "<div>\n",
       "<style scoped>\n",
       "    .dataframe tbody tr th:only-of-type {\n",
       "        vertical-align: middle;\n",
       "    }\n",
       "\n",
       "    .dataframe tbody tr th {\n",
       "        vertical-align: top;\n",
       "    }\n",
       "\n",
       "    .dataframe thead th {\n",
       "        text-align: right;\n",
       "    }\n",
       "</style>\n",
       "<table border=\"1\" class=\"dataframe\">\n",
       "  <thead>\n",
       "    <tr style=\"text-align: right;\">\n",
       "      <th></th>\n",
       "      <th>name</th>\n",
       "      <th>item_condition_id</th>\n",
       "      <th>category_name</th>\n",
       "      <th>brand_name</th>\n",
       "      <th>shipping</th>\n",
       "      <th>item_description</th>\n",
       "    </tr>\n",
       "    <tr>\n",
       "      <th>test_id</th>\n",
       "      <th></th>\n",
       "      <th></th>\n",
       "      <th></th>\n",
       "      <th></th>\n",
       "      <th></th>\n",
       "      <th></th>\n",
       "    </tr>\n",
       "  </thead>\n",
       "  <tbody>\n",
       "    <tr>\n",
       "      <th>0</th>\n",
       "      <td>Breast cancer \"I fight like a girl\" ring</td>\n",
       "      <td>1</td>\n",
       "      <td>Women/Jewelry/Rings</td>\n",
       "      <td>NaN</td>\n",
       "      <td>1</td>\n",
       "      <td>Size 7</td>\n",
       "    </tr>\n",
       "    <tr>\n",
       "      <th>1</th>\n",
       "      <td>25 pcs NEW 7.5\"x12\" Kraft Bubble Mailers</td>\n",
       "      <td>1</td>\n",
       "      <td>Other/Office supplies/Shipping Supplies</td>\n",
       "      <td>NaN</td>\n",
       "      <td>1</td>\n",
       "      <td>25 pcs NEW 7.5\"x12\" Kraft Bubble Mailers Lined...</td>\n",
       "    </tr>\n",
       "    <tr>\n",
       "      <th>2</th>\n",
       "      <td>Coach bag</td>\n",
       "      <td>1</td>\n",
       "      <td>Vintage &amp; Collectibles/Bags and Purses/Handbag</td>\n",
       "      <td>Coach</td>\n",
       "      <td>1</td>\n",
       "      <td>Brand new coach bag. Bought for [rm] at a Coac...</td>\n",
       "    </tr>\n",
       "    <tr>\n",
       "      <th>3</th>\n",
       "      <td>Floral Kimono</td>\n",
       "      <td>2</td>\n",
       "      <td>Women/Sweaters/Cardigan</td>\n",
       "      <td>NaN</td>\n",
       "      <td>0</td>\n",
       "      <td>-floral kimono -never worn -lightweight and pe...</td>\n",
       "    </tr>\n",
       "    <tr>\n",
       "      <th>4</th>\n",
       "      <td>Life after Death</td>\n",
       "      <td>3</td>\n",
       "      <td>Other/Books/Religion &amp; Spirituality</td>\n",
       "      <td>NaN</td>\n",
       "      <td>1</td>\n",
       "      <td>Rediscovering life after the loss of a loved o...</td>\n",
       "    </tr>\n",
       "  </tbody>\n",
       "</table>\n",
       "</div>"
      ],
      "text/plain": [
       "                                             name  item_condition_id  \\\n",
       "test_id                                                                \n",
       "0        Breast cancer \"I fight like a girl\" ring                  1   \n",
       "1        25 pcs NEW 7.5\"x12\" Kraft Bubble Mailers                  1   \n",
       "2                                       Coach bag                  1   \n",
       "3                                   Floral Kimono                  2   \n",
       "4                                Life after Death                  3   \n",
       "\n",
       "                                          category_name brand_name  shipping  \\\n",
       "test_id                                                                        \n",
       "0                                   Women/Jewelry/Rings        NaN         1   \n",
       "1               Other/Office supplies/Shipping Supplies        NaN         1   \n",
       "2        Vintage & Collectibles/Bags and Purses/Handbag      Coach         1   \n",
       "3                               Women/Sweaters/Cardigan        NaN         0   \n",
       "4                   Other/Books/Religion & Spirituality        NaN         1   \n",
       "\n",
       "                                          item_description  \n",
       "test_id                                                     \n",
       "0                                                   Size 7  \n",
       "1        25 pcs NEW 7.5\"x12\" Kraft Bubble Mailers Lined...  \n",
       "2        Brand new coach bag. Bought for [rm] at a Coac...  \n",
       "3        -floral kimono -never worn -lightweight and pe...  \n",
       "4        Rediscovering life after the loss of a loved o...  "
      ]
     },
     "execution_count": 3,
     "metadata": {},
     "output_type": "execute_result"
    }
   ],
   "source": [
    "df_test.head(5)"
   ]
  },
  {
   "cell_type": "code",
   "execution_count": 4,
   "metadata": {},
   "outputs": [
    {
     "name": "stdout",
     "output_type": "stream",
     "text": [
      "There are unique brands: 4809\n",
      "of which 632682 have no brand assigned\n"
     ]
    },
    {
     "data": {
      "text/plain": [
       "brand_name\n",
       "PINK                 54088\n",
       "Nike                 54043\n",
       "Victoria's Secret    48036\n",
       "LuLaRoe              31024\n",
       "Apple                17322\n",
       "FOREVER 21           15186\n",
       "Nintendo             15007\n",
       "Lululemon            14558\n",
       "Michael Kors         13928\n",
       "American Eagle       13254\n",
       "Rae Dunn             12305\n",
       "Sephora              12172\n",
       "Coach                10463\n",
       "Disney               10360\n",
       "Bath & Body Works    10354\n",
       "Adidas               10202\n",
       "Funko                 9237\n",
       "Under Armour          8461\n",
       "Sony                  7994\n",
       "Old Navy              7567\n",
       "dtype: int64"
      ]
     },
     "execution_count": 4,
     "metadata": {},
     "output_type": "execute_result"
    }
   ],
   "source": [
    "brands = df_train.groupby(['brand_name']).size()\n",
    "\n",
    "print \"There are unique brands:\", brands.shape[0]\n",
    "print \"of which {} have no brand assigned\".format(df_train[df_train['brand_name'].isnull()].shape[0])\n",
    "\n",
    "brands.sort_values(ascending=False).head(20)"
   ]
  },
  {
   "cell_type": "code",
   "execution_count": 5,
   "metadata": {},
   "outputs": [
    {
     "name": "stdout",
     "output_type": "stream",
     "text": [
      "(1482535, 7)\n",
      "(1482535L,)\n"
     ]
    }
   ],
   "source": [
    "#vectorize the brand name for training data\n",
    "\n",
    "le = preprocessing.LabelEncoder()\n",
    "X_tr = le.fit_transform(df_train['brand_name'])\n",
    "X_tr=np.array(X_tr)\n",
    "#X_tr=X_tr.reshape(-1, 1)\n",
    "\n",
    "print df_train.shape\n",
    "print X_tr.shape"
   ]
  },
  {
   "cell_type": "code",
   "execution_count": 6,
   "metadata": {},
   "outputs": [
    {
     "name": "stdout",
     "output_type": "stream",
     "text": [
      "(1482535L,)\n",
      "(1482535L,)\n"
     ]
    }
   ],
   "source": [
    "#make three classes for price\n",
    "def priceClass(p):\n",
    "    if p < 50:\n",
    "        p_class=0\n",
    "    elif p>50 and p<100:\n",
    "        p_class = 1\n",
    "    else:\n",
    "        p_class=2\n",
    "        \n",
    "    return p_class   \n",
    "\n",
    "price_class = []\n",
    "for p in df_train['price']:\n",
    "    price_class.append(priceClass(p)) \n",
    "\n",
    "y_tr=np.array(price_class)\n",
    "\n",
    "df_test.head()\n",
    "\n",
    "print df_train['price'].shape\n",
    "print y_tr.shape\n",
    "X_tr, X_val, y_tr, y_val = train_test_split(X_tr, y_tr, test_size=0.25)\n"
   ]
  },
  {
   "cell_type": "code",
   "execution_count": 7,
   "metadata": {},
   "outputs": [],
   "source": [
    "X_tr=X_tr.reshape(-1, 1)\n",
    "X_val=X_val.reshape(-1, 1)"
   ]
  },
  {
   "cell_type": "code",
   "execution_count": null,
   "metadata": {},
   "outputs": [],
   "source": [
    "#training SVM model, takes a long  time\n",
    "#clf = svm.SVC(gamma='auto')\n",
    "#clf.fit(X_tr, y_tr) \n",
    "#y_pred=clf.predict(X_val)"
   ]
  },
  {
   "cell_type": "code",
   "execution_count": 8,
   "metadata": {},
   "outputs": [],
   "source": [
    "k=3\n",
    "neigh = KNeighborsClassifier(n_neighbors=k)\n",
    "neigh.fit(X_tr, y_tr)\n",
    "y_pred=neigh.predict(X_val)"
   ]
  },
  {
   "cell_type": "code",
   "execution_count": 11,
   "metadata": {},
   "outputs": [
    {
     "name": "stdout",
     "output_type": "stream",
     "text": [
      "accuracy score:  0.885814577184\n",
      "\n",
      "\n",
      "confusion matrix: \n",
      "[[323849   3959   2782]\n",
      " [ 22592   2407   1564]\n",
      " [ 10205   1219   2057]]\n",
      "\n",
      "\n",
      "             precision    recall  f1-score   support\n",
      "\n",
      "          0       0.91      0.98      0.94    330590\n",
      "          1       0.32      0.09      0.14     26563\n",
      "          2       0.32      0.15      0.21     13481\n",
      "\n",
      "avg / total       0.84      0.89      0.86    370634\n",
      "\n"
     ]
    }
   ],
   "source": [
    "print \"accuracy score: \",accuracy_score(y_val, y_pred)\n",
    "print '\\n'\n",
    "print 'confusion matrix: \\n',confusion_matrix(y_val,y_pred)\n",
    "print '\\n'\n",
    "print(classification_report(y_val, y_pred))"
   ]
  },
  {
   "cell_type": "code",
   "execution_count": null,
   "metadata": {},
   "outputs": [],
   "source": [
    "#optional logistic regression\n",
    "#LR = LogisticRegression(random_state=0, solver='lbfgs', multi_class='multinomial').fit(X_tr, y_tr)"
   ]
  },
  {
   "cell_type": "code",
   "execution_count": 17,
   "metadata": {},
   "outputs": [
    {
     "name": "stdout",
     "output_type": "stream",
     "text": [
      "accuracy score:  0.891958104221\n",
      "\n",
      "\n",
      "confusion matrix: \n",
      "[[330590      0      0]\n",
      " [ 26563      0      0]\n",
      " [ 13481      0      0]]\n",
      "\n",
      "\n",
      "             precision    recall  f1-score   support\n",
      "\n",
      "          0       0.89      1.00      0.94    330590\n",
      "          1       0.00      0.00      0.00     26563\n",
      "          2       0.00      0.00      0.00     13481\n",
      "\n",
      "avg / total       0.80      0.89      0.84    370634\n",
      "\n"
     ]
    },
    {
     "name": "stderr",
     "output_type": "stream",
     "text": [
      "C:\\Users\\Alice\\Anaconda2\\lib\\site-packages\\sklearn\\metrics\\classification.py:1135: UndefinedMetricWarning: Precision and F-score are ill-defined and being set to 0.0 in labels with no predicted samples.\n",
      "  'precision', 'predicted', average, warn_for)\n"
     ]
    }
   ],
   "source": [
    "#mlp = MLPClassifier(hidden_layer_sizes=(20, 20, 20), max_iter=5000)  \n",
    "mlp=MLPClassifier(solver='lbfgs', alpha=1e-5,hidden_layer_sizes=(2, 2), random_state=1)\n",
    "mlp.fit(X_tr, y_tr) \n",
    "y_predi = mlp.predict(X_val) \n",
    "\n",
    "print \"accuracy score: \",accuracy_score(y_val, y_predi)\n",
    "print '\\n'\n",
    "print 'confusion matrix: \\n',confusion_matrix(y_val,y_predi)\n",
    "print '\\n'\n",
    "print(classification_report(y_val, y_predi))"
   ]
  },
  {
   "cell_type": "code",
   "execution_count": null,
   "metadata": {},
   "outputs": [],
   "source": []
  }
 ],
 "metadata": {
  "kernelspec": {
   "display_name": "Python 2",
   "language": "python",
   "name": "python2"
  },
  "language_info": {
   "codemirror_mode": {
    "name": "ipython",
    "version": 2
   },
   "file_extension": ".py",
   "mimetype": "text/x-python",
   "name": "python",
   "nbconvert_exporter": "python",
   "pygments_lexer": "ipython2",
   "version": "2.7.15"
  }
 },
 "nbformat": 4,
 "nbformat_minor": 2
}
