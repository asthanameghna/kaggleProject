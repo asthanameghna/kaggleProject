{
 "cells": [
  {
   "cell_type": "markdown",
   "metadata": {},
   "source": [
    "## Libraries"
   ]
  },
  {
   "cell_type": "code",
   "execution_count": 1,
   "metadata": {},
   "outputs": [
    {
     "name": "stderr",
     "output_type": "stream",
     "text": [
      "Using TensorFlow backend.\n"
     ]
    }
   ],
   "source": [
    "# standard libraries\n",
    "import csv\n",
    "import time\n",
    "import numpy as np\n",
    "import pandas as pd\n",
    "import re\n",
    "import gc\n",
    "from collections import defaultdict\n",
    "\n",
    "# data visualization\n",
    "%matplotlib inline\n",
    "import matplotlib.pyplot as plt\n",
    "import seaborn as sns\n",
    "\n",
    "from scipy.sparse import csr_matrix, hstack\n",
    "from sklearn.feature_extraction.text import CountVectorizer, TfidfVectorizer\n",
    "from sklearn.model_selection import train_test_split\n",
    "\n",
    "# Neural Network\n",
    "import keras\n",
    "import keras.backend as K\n",
    "from keras.layers import Dense\n",
    "from keras.models import Sequential\n",
    "from keras.callbacks import EarlyStopping"
   ]
  },
  {
   "cell_type": "markdown",
   "metadata": {},
   "source": [
    "## Loading kaggle data_sets into Pandas dataframes"
   ]
  },
  {
   "cell_type": "code",
   "execution_count": 2,
   "metadata": {},
   "outputs": [],
   "source": [
    "# Record total notebook run time\n",
    "notebook_start = time.time()"
   ]
  },
  {
   "cell_type": "code",
   "execution_count": 3,
   "metadata": {},
   "outputs": [
    {
     "name": "stdout",
     "output_type": "stream",
     "text": [
      "Parsing data from TSV files...\n"
     ]
    },
    {
     "name": "stderr",
     "output_type": "stream",
     "text": [
      "/home/sergio/.local/lib/python3.6/site-packages/numpy/lib/arraysetops.py:569: FutureWarning: elementwise comparison failed; returning scalar instead, but in the future will perform elementwise comparison\n",
      "  mask |= (ar1 == a)\n"
     ]
    },
    {
     "name": "stdout",
     "output_type": "stream",
     "text": [
      "Done. Took 12.42s\n"
     ]
    }
   ],
   "source": [
    "print('Parsing data from TSV files...')\n",
    "\n",
    "start_time = time.time()\n",
    "df_train = pd.read_csv('Data/train.tsv', delimiter='\\t', index_col=['train_id'])\n",
    "df_test = pd.read_csv('Data/test.tsv', delimiter='\\t', index_col=['test_id'])\n",
    "\n",
    "print(f'Done. Took {time.time() - start_time:.2f}s')"
   ]
  },
  {
   "cell_type": "markdown",
   "metadata": {},
   "source": [
    "## Data fields for reference:\n",
    "(from kaggle competition)\n",
    "\n",
    "The files consist of a list of product listings. These files are tab-delimited.\n",
    "* train_id or test_id - the id of the listing\n",
    "* <b>name</b> - the title of the listing. Note that we have cleaned the data to remove text that look like prices to avoid leakage. These removed prices are represented as [rm]\n",
    "* <b>item_condition_id</b> - the condition of the items provided by the seller, 1=Good,...,5=Poor\n",
    "* <b>category_name</b> - category of the listing\n",
    "* <b>brand_name</b>\n",
    "* <b>price</b> - the price that the item was sold for. This is the target variable that you will predict. The unit is USD. This column doesn't exist in test.tsv since that is what you will predict.\n",
    "* <b>shipping</b> - 1 if shipping fee is paid by seller and 0 by buyer\n",
    "* <b>item_description</b> - the full description of the item. Note that we have cleaned the data to remove text that look like prices to avoid leakage. These removed prices are represented as [rm]"
   ]
  },
  {
   "cell_type": "markdown",
   "metadata": {},
   "source": [
    "## Data exploration - visualization\n",
    "\n",
    "Summary so far:\n",
    " * There are unique <b>4,810</b> brands.\n",
    " * There are <b>82,489</b> items with <b>\"No description yet\"</b>, around 6% of our dataset. (what you think)\n",
    " * There are <b>874</b> entries with <b>price = 0/free</b>, should we drop them? as it does not make sence and will confuse our model I think.\n",
    " * prices are skewed to the right.\n",
    " * top brands (PINK, Nike, Victoria's Secret, etc)\n",
    "     * Note there are <b>632,682</b> items with no brand assigned ~ 43% of our training set!"
   ]
  },
  {
   "cell_type": "code",
   "execution_count": 4,
   "metadata": {},
   "outputs": [
    {
     "data": {
      "text/html": [
       "<div>\n",
       "<style scoped>\n",
       "    .dataframe tbody tr th:only-of-type {\n",
       "        vertical-align: middle;\n",
       "    }\n",
       "\n",
       "    .dataframe tbody tr th {\n",
       "        vertical-align: top;\n",
       "    }\n",
       "\n",
       "    .dataframe thead th {\n",
       "        text-align: right;\n",
       "    }\n",
       "</style>\n",
       "<table border=\"1\" class=\"dataframe\">\n",
       "  <thead>\n",
       "    <tr style=\"text-align: right;\">\n",
       "      <th></th>\n",
       "      <th>name</th>\n",
       "      <th>item_condition_id</th>\n",
       "      <th>category_name</th>\n",
       "      <th>brand_name</th>\n",
       "      <th>price</th>\n",
       "      <th>shipping</th>\n",
       "      <th>item_description</th>\n",
       "    </tr>\n",
       "    <tr>\n",
       "      <th>train_id</th>\n",
       "      <th></th>\n",
       "      <th></th>\n",
       "      <th></th>\n",
       "      <th></th>\n",
       "      <th></th>\n",
       "      <th></th>\n",
       "      <th></th>\n",
       "    </tr>\n",
       "  </thead>\n",
       "  <tbody>\n",
       "    <tr>\n",
       "      <th>0</th>\n",
       "      <td>MLB Cincinnati Reds T Shirt Size XL</td>\n",
       "      <td>3</td>\n",
       "      <td>Men/Tops/T-shirts</td>\n",
       "      <td>NaN</td>\n",
       "      <td>10.0</td>\n",
       "      <td>1</td>\n",
       "      <td>No description yet</td>\n",
       "    </tr>\n",
       "    <tr>\n",
       "      <th>1</th>\n",
       "      <td>Razer BlackWidow Chroma Keyboard</td>\n",
       "      <td>3</td>\n",
       "      <td>Electronics/Computers &amp; Tablets/Components &amp; P...</td>\n",
       "      <td>Razer</td>\n",
       "      <td>52.0</td>\n",
       "      <td>0</td>\n",
       "      <td>This keyboard is in great condition and works ...</td>\n",
       "    </tr>\n",
       "    <tr>\n",
       "      <th>2</th>\n",
       "      <td>AVA-VIV Blouse</td>\n",
       "      <td>1</td>\n",
       "      <td>Women/Tops &amp; Blouses/Blouse</td>\n",
       "      <td>Target</td>\n",
       "      <td>10.0</td>\n",
       "      <td>1</td>\n",
       "      <td>Adorable top with a hint of lace and a key hol...</td>\n",
       "    </tr>\n",
       "    <tr>\n",
       "      <th>3</th>\n",
       "      <td>Leather Horse Statues</td>\n",
       "      <td>1</td>\n",
       "      <td>Home/Home Décor/Home Décor Accents</td>\n",
       "      <td>NaN</td>\n",
       "      <td>35.0</td>\n",
       "      <td>1</td>\n",
       "      <td>New with tags. Leather horses. Retail for [rm]...</td>\n",
       "    </tr>\n",
       "    <tr>\n",
       "      <th>4</th>\n",
       "      <td>24K GOLD plated rose</td>\n",
       "      <td>1</td>\n",
       "      <td>Women/Jewelry/Necklaces</td>\n",
       "      <td>NaN</td>\n",
       "      <td>44.0</td>\n",
       "      <td>0</td>\n",
       "      <td>Complete with certificate of authenticity</td>\n",
       "    </tr>\n",
       "  </tbody>\n",
       "</table>\n",
       "</div>"
      ],
      "text/plain": [
       "                                         name  item_condition_id  \\\n",
       "train_id                                                           \n",
       "0         MLB Cincinnati Reds T Shirt Size XL                  3   \n",
       "1            Razer BlackWidow Chroma Keyboard                  3   \n",
       "2                              AVA-VIV Blouse                  1   \n",
       "3                       Leather Horse Statues                  1   \n",
       "4                        24K GOLD plated rose                  1   \n",
       "\n",
       "                                              category_name brand_name  price  \\\n",
       "train_id                                                                        \n",
       "0                                         Men/Tops/T-shirts        NaN   10.0   \n",
       "1         Electronics/Computers & Tablets/Components & P...      Razer   52.0   \n",
       "2                               Women/Tops & Blouses/Blouse     Target   10.0   \n",
       "3                        Home/Home Décor/Home Décor Accents        NaN   35.0   \n",
       "4                                   Women/Jewelry/Necklaces        NaN   44.0   \n",
       "\n",
       "          shipping                                   item_description  \n",
       "train_id                                                               \n",
       "0                1                                 No description yet  \n",
       "1                0  This keyboard is in great condition and works ...  \n",
       "2                1  Adorable top with a hint of lace and a key hol...  \n",
       "3                1  New with tags. Leather horses. Retail for [rm]...  \n",
       "4                0          Complete with certificate of authenticity  "
      ]
     },
     "execution_count": 4,
     "metadata": {},
     "output_type": "execute_result"
    }
   ],
   "source": [
    "# check data\n",
    "df_train.head(5)"
   ]
  },
  {
   "cell_type": "code",
   "execution_count": 5,
   "metadata": {},
   "outputs": [
    {
     "name": "stdout",
     "output_type": "stream",
     "text": [
      "There are unique brands: 4809\n",
      "of which 632682 have no brand assigned\n"
     ]
    },
    {
     "data": {
      "text/plain": [
       "brand_name\n",
       "PINK                 54088\n",
       "Nike                 54043\n",
       "Victoria's Secret    48036\n",
       "LuLaRoe              31024\n",
       "Apple                17322\n",
       "FOREVER 21           15186\n",
       "Nintendo             15007\n",
       "Lululemon            14558\n",
       "Michael Kors         13928\n",
       "American Eagle       13254\n",
       "Rae Dunn             12305\n",
       "Sephora              12172\n",
       "Coach                10463\n",
       "Disney               10360\n",
       "Bath & Body Works    10354\n",
       "Adidas               10202\n",
       "Funko                 9237\n",
       "Under Armour          8461\n",
       "Sony                  7994\n",
       "Old Navy              7567\n",
       "dtype: int64"
      ]
     },
     "execution_count": 5,
     "metadata": {},
     "output_type": "execute_result"
    }
   ],
   "source": [
    "# group by brands and check the most popular\n",
    "brands = df_train.groupby(['brand_name']).size()\n",
    "\n",
    "print('There are unique brands:', brands.shape[0])\n",
    "print('of which {} have no brand assigned'.format(df_train[df_train['brand_name'].isnull()].shape[0]))\n",
    "\n",
    "brands.sort_values(ascending=False).head(20)"
   ]
  },
  {
   "cell_type": "code",
   "execution_count": 6,
   "metadata": {},
   "outputs": [
    {
     "data": {
      "image/png": "[encoded data removed]",
      "text/plain": [
       "<Figure size 1080x720 with 1 Axes>"
      ]
     },
     "metadata": {
      "needs_background": "light"
     },
     "output_type": "display_data"
    }
   ],
   "source": [
    "# Top 50 common brands\n",
    "top_brands = df_train['brand_name'].value_counts()[0:50].reset_index()\\\n",
    "            .rename(columns={'index': 'brand_name', 'brand_name':'count'})\n",
    "\n",
    "plt.figure(figsize=(15,10))\n",
    "ax = sns.barplot(x=\"brand_name\", y=\"count\", data=top_brands, palette='Paired')\n",
    "ax.set_xticklabels(ax.get_xticklabels(),rotation=90)\n",
    "\n",
    "# set title\n",
    "ax.set_title('Top 50 most popular brands')\n",
    "plt.show()"
   ]
  },
  {
   "cell_type": "code",
   "execution_count": 7,
   "metadata": {},
   "outputs": [
    {
     "data": {
      "image/png": "[encoded data removed]",
      "text/plain": [
       "<Figure size 1080x720 with 1 Axes>"
      ]
     },
     "metadata": {
      "needs_background": "light"
     },
     "output_type": "display_data"
    }
   ],
   "source": [
    "# Top 50 expensive brands\n",
    "top_expensive = df_train.groupby('brand_name', axis=0).mean()\n",
    "df_top_expensive = pd.DataFrame(top_expensive.sort_values('price', ascending = False)\\\n",
    "                                ['price'][0:50].reset_index())\n",
    "\n",
    "\n",
    "plt.figure(figsize=(15, 10))\n",
    "ax = sns.barplot(x=\"brand_name\", y=\"price\", data=df_top_expensive, palette='Paired')\n",
    "ax.set_xticklabels(ax.get_xticklabels(), rotation=90, fontsize=12)\n",
    "\n",
    "# set title\n",
    "ax.set_title('Top 50 Expensive Brand')\n",
    "plt.show()"
   ]
  },
  {
   "cell_type": "code",
   "execution_count": 8,
   "metadata": {},
   "outputs": [
    {
     "data": {
      "image/png": "[encoded data removed]",
      "text/plain": [
       "<Figure size 1080x720 with 1 Axes>"
      ]
     },
     "metadata": {
      "needs_background": "light"
     },
     "output_type": "display_data"
    }
   ],
   "source": [
    "# price distribution for items with and without shiping\n",
    "# items with no shiping tend to be a slightly more expensive\n",
    "\n",
    "shipping = df_train[df_train['shipping']==1]['price']\n",
    "no_shipping = df_train[df_train['shipping']==0]['price']\n",
    "\n",
    "plt.figure(figsize=(15, 10))\n",
    "plt.hist(shipping, bins=50, range=[0,250], alpha=0.5, label='Price WITH shipping', color='orange')\n",
    "plt.hist(no_shipping, bins=50, range=[0,250], alpha=0.3, label='Price NO shipping', color='blue')\n",
    "plt.title('Price distrubution with and without shipping', fontsize=15)\n",
    "\n",
    "plt.xlabel('Price', fontsize=20)\n",
    "plt.ylabel('Samples', fontsize=20)\n",
    "plt.legend()\n",
    "\n",
    "plt.show()"
   ]
  },
  {
   "cell_type": "code",
   "execution_count": 9,
   "metadata": {},
   "outputs": [
    {
     "data": {
      "image/png": "[encoded data removed]",
      "text/plain": [
       "<Figure size 1080x720 with 1 Axes>"
      ]
     },
     "metadata": {
      "needs_background": "light"
     },
     "output_type": "display_data"
    }
   ],
   "source": [
    "# item condition distribution\n",
    "# Most itmes are in good condition: 1,2 and 3\n",
    "\n",
    "plt.figure(figsize=(15, 10))\n",
    "\n",
    "ax = sns.distplot(df_train['item_condition_id'], kde=False)\n",
    "plt.title('Item condition distribution', fontsize=20)\n",
    "plt.xlabel('Item condition', fontsize=20)\n",
    "plt.ylabel('Samples', fontsize=15)\n",
    "\n",
    "plt.show()"
   ]
  },
  {
   "cell_type": "code",
   "execution_count": 10,
   "metadata": {},
   "outputs": [
    {
     "name": "stdout",
     "output_type": "stream",
     "text": [
      "There are 82489 items with no description\n"
     ]
    },
    {
     "data": {
      "text/html": [
       "<div>\n",
       "<style scoped>\n",
       "    .dataframe tbody tr th:only-of-type {\n",
       "        vertical-align: middle;\n",
       "    }\n",
       "\n",
       "    .dataframe tbody tr th {\n",
       "        vertical-align: top;\n",
       "    }\n",
       "\n",
       "    .dataframe thead th {\n",
       "        text-align: right;\n",
       "    }\n",
       "</style>\n",
       "<table border=\"1\" class=\"dataframe\">\n",
       "  <thead>\n",
       "    <tr style=\"text-align: right;\">\n",
       "      <th></th>\n",
       "      <th>name</th>\n",
       "      <th>item_condition_id</th>\n",
       "      <th>category_name</th>\n",
       "      <th>brand_name</th>\n",
       "      <th>price</th>\n",
       "      <th>shipping</th>\n",
       "      <th>item_description</th>\n",
       "    </tr>\n",
       "    <tr>\n",
       "      <th>train_id</th>\n",
       "      <th></th>\n",
       "      <th></th>\n",
       "      <th></th>\n",
       "      <th></th>\n",
       "      <th></th>\n",
       "      <th></th>\n",
       "      <th></th>\n",
       "    </tr>\n",
       "  </thead>\n",
       "  <tbody>\n",
       "    <tr>\n",
       "      <th>0</th>\n",
       "      <td>MLB Cincinnati Reds T Shirt Size XL</td>\n",
       "      <td>3</td>\n",
       "      <td>Men/Tops/T-shirts</td>\n",
       "      <td>NaN</td>\n",
       "      <td>10.0</td>\n",
       "      <td>1</td>\n",
       "      <td>No description yet</td>\n",
       "    </tr>\n",
       "    <tr>\n",
       "      <th>13</th>\n",
       "      <td>Sharpener and eraser</td>\n",
       "      <td>1</td>\n",
       "      <td>Other/Office supplies/School Supplies</td>\n",
       "      <td>Scholastic</td>\n",
       "      <td>4.0</td>\n",
       "      <td>1</td>\n",
       "      <td>No description yet</td>\n",
       "    </tr>\n",
       "    <tr>\n",
       "      <th>31</th>\n",
       "      <td>New Lularoe OS leggings, stars</td>\n",
       "      <td>1</td>\n",
       "      <td>Women/Athletic Apparel/Pants, Tights, Leggings</td>\n",
       "      <td>NaN</td>\n",
       "      <td>50.0</td>\n",
       "      <td>1</td>\n",
       "      <td>No description yet</td>\n",
       "    </tr>\n",
       "    <tr>\n",
       "      <th>90</th>\n",
       "      <td>Jewel holder</td>\n",
       "      <td>2</td>\n",
       "      <td>Home/Storage &amp; Organization/Jewelry Boxes &amp; Or...</td>\n",
       "      <td>Target</td>\n",
       "      <td>7.0</td>\n",
       "      <td>1</td>\n",
       "      <td>No description yet</td>\n",
       "    </tr>\n",
       "    <tr>\n",
       "      <th>117</th>\n",
       "      <td>Eyeko liquid eyeliner</td>\n",
       "      <td>1</td>\n",
       "      <td>Beauty/Makeup/Eyes</td>\n",
       "      <td>NaN</td>\n",
       "      <td>5.0</td>\n",
       "      <td>1</td>\n",
       "      <td>No description yet</td>\n",
       "    </tr>\n",
       "  </tbody>\n",
       "</table>\n",
       "</div>"
      ],
      "text/plain": [
       "                                         name  item_condition_id  \\\n",
       "train_id                                                           \n",
       "0         MLB Cincinnati Reds T Shirt Size XL                  3   \n",
       "13                       Sharpener and eraser                  1   \n",
       "31             New Lularoe OS leggings, stars                  1   \n",
       "90                               Jewel holder                  2   \n",
       "117                     Eyeko liquid eyeliner                  1   \n",
       "\n",
       "                                              category_name  brand_name  \\\n",
       "train_id                                                                  \n",
       "0                                         Men/Tops/T-shirts         NaN   \n",
       "13                    Other/Office supplies/School Supplies  Scholastic   \n",
       "31           Women/Athletic Apparel/Pants, Tights, Leggings         NaN   \n",
       "90        Home/Storage & Organization/Jewelry Boxes & Or...      Target   \n",
       "117                                      Beauty/Makeup/Eyes         NaN   \n",
       "\n",
       "          price  shipping    item_description  \n",
       "train_id                                       \n",
       "0          10.0         1  No description yet  \n",
       "13          4.0         1  No description yet  \n",
       "31         50.0         1  No description yet  \n",
       "90          7.0         1  No description yet  \n",
       "117         5.0         1  No description yet  "
      ]
     },
     "execution_count": 10,
     "metadata": {},
     "output_type": "execute_result"
    }
   ],
   "source": [
    "# items with no description\n",
    "no_description = df_train[df_train['item_description']=='No description yet']\n",
    "print('There are {} items with no description'.format(no_description.shape[0]))\n",
    "\n",
    "# select top 5\n",
    "no_description.head(5)"
   ]
  },
  {
   "cell_type": "code",
   "execution_count": 11,
   "metadata": {},
   "outputs": [
    {
     "data": {
      "text/plain": [
       "<Figure size 1080x720 with 0 Axes>"
      ]
     },
     "metadata": {},
     "output_type": "display_data"
    },
    {
     "data": {
      "image/png": "[encoded data removed]",
      "text/plain": [
       "<Figure size 432x432 with 3 Axes>"
      ]
     },
     "metadata": {
      "needs_background": "light"
     },
     "output_type": "display_data"
    }
   ],
   "source": [
    "# looking for correlations between price and item condition\n",
    "# expect to get higher price from items in condition = 1, cheaper as condition = 5\n",
    "# there is not a very clear correlation other than bad (4,5) items tend to be cheaper\n",
    "\n",
    "plt.figure(figsize=(15, 10))\n",
    "sns.jointplot(x=\"item_condition_id\", y=\"price\", data=df_train)\n",
    "\n",
    "plt.show()"
   ]
  },
  {
   "cell_type": "code",
   "execution_count": 12,
   "metadata": {},
   "outputs": [
    {
     "data": {
      "image/png": "[encoded data removed]",
      "text/plain": [
       "<Figure size 1080x720 with 1 Axes>"
      ]
     },
     "metadata": {
      "needs_background": "light"
     },
     "output_type": "display_data"
    }
   ],
   "source": [
    "# Check prices, everything seems to be on the \"cheaper side\"\n",
    "plt.figure(figsize=(15, 10))\n",
    "ax = sns.distplot(df_train['price'], label='Price')\n",
    "plt.xlabel('Price', fontsize=20)\n",
    "\n",
    "plt.legend()\n",
    "plt.show()"
   ]
  },
  {
   "cell_type": "code",
   "execution_count": 13,
   "metadata": {},
   "outputs": [
    {
     "data": {
      "image/png": "[encoded data removed]",
      "text/plain": [
       "<Figure size 1080x720 with 1 Axes>"
      ]
     },
     "metadata": {
      "needs_background": "light"
     },
     "output_type": "display_data"
    }
   ],
   "source": [
    "# Log price much better distribution\n",
    "plt.figure(figsize=(15, 10))\n",
    "ax = sns.distplot(np.log1p(df_train['price']), label='Log Price')\n",
    "plt.xlabel('Log Price', fontsize=20)\n",
    "\n",
    "plt.legend()\n",
    "plt.show()"
   ]
  },
  {
   "cell_type": "markdown",
   "metadata": {},
   "source": [
    "# Data wrangling and Cleansing\n",
    "\n",
    "* There are <b>874</b> entries with <b>price = 0/free</b>, should we drop them? as it does not make sence and will confuse our model.\n",
    "* Replace <b>NaN</b> values with empty spaces?"
   ]
  },
  {
   "cell_type": "code",
   "execution_count": 14,
   "metadata": {},
   "outputs": [
    {
     "data": {
      "text/html": [
       "<div>\n",
       "<style scoped>\n",
       "    .dataframe tbody tr th:only-of-type {\n",
       "        vertical-align: middle;\n",
       "    }\n",
       "\n",
       "    .dataframe tbody tr th {\n",
       "        vertical-align: top;\n",
       "    }\n",
       "\n",
       "    .dataframe thead th {\n",
       "        text-align: right;\n",
       "    }\n",
       "</style>\n",
       "<table border=\"1\" class=\"dataframe\">\n",
       "  <thead>\n",
       "    <tr style=\"text-align: right;\">\n",
       "      <th></th>\n",
       "      <th>name</th>\n",
       "      <th>item_condition_id</th>\n",
       "      <th>category_name</th>\n",
       "      <th>brand_name</th>\n",
       "      <th>price</th>\n",
       "      <th>shipping</th>\n",
       "      <th>item_description</th>\n",
       "    </tr>\n",
       "    <tr>\n",
       "      <th>train_id</th>\n",
       "      <th></th>\n",
       "      <th></th>\n",
       "      <th></th>\n",
       "      <th></th>\n",
       "      <th></th>\n",
       "      <th></th>\n",
       "      <th></th>\n",
       "    </tr>\n",
       "  </thead>\n",
       "  <tbody>\n",
       "    <tr>\n",
       "      <th>1325</th>\n",
       "      <td>Alabama Crimson Tide Quality Lanyard</td>\n",
       "      <td>1</td>\n",
       "      <td>Sports &amp; Outdoors/Fan Shop/NCAA</td>\n",
       "      <td>NaN</td>\n",
       "      <td>0.0</td>\n",
       "      <td>1</td>\n",
       "      <td>TOP QUALITY THICK LANYARD Reversible sides wit...</td>\n",
       "    </tr>\n",
       "    <tr>\n",
       "      <th>2544</th>\n",
       "      <td>Levi leggings</td>\n",
       "      <td>3</td>\n",
       "      <td>Women/Jeans/Slim, Skinny</td>\n",
       "      <td>Levi's®</td>\n",
       "      <td>0.0</td>\n",
       "      <td>0</td>\n",
       "      <td>Light wash. Hardly worn. Size 24 but fits like...</td>\n",
       "    </tr>\n",
       "    <tr>\n",
       "      <th>2712</th>\n",
       "      <td>Simple Red Lace Lingerie Top</td>\n",
       "      <td>3</td>\n",
       "      <td>Women/Underwear/G-Strings &amp; Thongs</td>\n",
       "      <td>NaN</td>\n",
       "      <td>0.0</td>\n",
       "      <td>0</td>\n",
       "      <td>Very simple but cute, a little form fitting as...</td>\n",
       "    </tr>\n",
       "    <tr>\n",
       "      <th>3576</th>\n",
       "      <td>Turquoise 15 Pc Makeup Brush Set</td>\n",
       "      <td>1</td>\n",
       "      <td>Beauty/Tools &amp; Accessories/Makeup Brushes &amp; Tools</td>\n",
       "      <td>NaN</td>\n",
       "      <td>0.0</td>\n",
       "      <td>1</td>\n",
       "      <td>1 left!</td>\n",
       "    </tr>\n",
       "    <tr>\n",
       "      <th>3761</th>\n",
       "      <td>Girls size 7/8</td>\n",
       "      <td>3</td>\n",
       "      <td>Kids/Girls (4+)/Tops &amp; T-Shirts</td>\n",
       "      <td>NaN</td>\n",
       "      <td>0.0</td>\n",
       "      <td>1</td>\n",
       "      <td>5 pair gap jean excellent used condition 3 chi...</td>\n",
       "    </tr>\n",
       "  </tbody>\n",
       "</table>\n",
       "</div>"
      ],
      "text/plain": [
       "                                          name  item_condition_id  \\\n",
       "train_id                                                            \n",
       "1325      Alabama Crimson Tide Quality Lanyard                  1   \n",
       "2544                             Levi leggings                  3   \n",
       "2712              Simple Red Lace Lingerie Top                  3   \n",
       "3576          Turquoise 15 Pc Makeup Brush Set                  1   \n",
       "3761                            Girls size 7/8                  3   \n",
       "\n",
       "                                              category_name brand_name  price  \\\n",
       "train_id                                                                        \n",
       "1325                        Sports & Outdoors/Fan Shop/NCAA        NaN    0.0   \n",
       "2544                               Women/Jeans/Slim, Skinny    Levi's®    0.0   \n",
       "2712                     Women/Underwear/G-Strings & Thongs        NaN    0.0   \n",
       "3576      Beauty/Tools & Accessories/Makeup Brushes & Tools        NaN    0.0   \n",
       "3761                        Kids/Girls (4+)/Tops & T-Shirts        NaN    0.0   \n",
       "\n",
       "          shipping                                   item_description  \n",
       "train_id                                                               \n",
       "1325             1  TOP QUALITY THICK LANYARD Reversible sides wit...  \n",
       "2544             0  Light wash. Hardly worn. Size 24 but fits like...  \n",
       "2712             0  Very simple but cute, a little form fitting as...  \n",
       "3576             1                                            1 left!  \n",
       "3761             1  5 pair gap jean excellent used condition 3 chi...  "
      ]
     },
     "execution_count": 14,
     "metadata": {},
     "output_type": "execute_result"
    }
   ],
   "source": [
    "# free items??? price == 0\n",
    "# not very useful\n",
    "\n",
    "df_train[df_train['price']==0].head(5)"
   ]
  },
  {
   "cell_type": "code",
   "execution_count": 15,
   "metadata": {},
   "outputs": [
    {
     "name": "stdout",
     "output_type": "stream",
     "text": [
      "Dropped 874 zero-price entries\n"
     ]
    }
   ],
   "source": [
    "# Drop entries where price is zero\n",
    "initial_size = df_train.shape[0]\n",
    "df_train = df_train.drop(df_train[(df_train['price'] == 0)].index)\n",
    "print(f'Dropped {initial_size - df_train.shape[0]} zero-price entries')"
   ]
  },
  {
   "cell_type": "code",
   "execution_count": 16,
   "metadata": {},
   "outputs": [],
   "source": [
    "# Replace NaN with brand unknown\n",
    "df_train['brand_name'].fillna('unknown', inplace=True)\n",
    "# Replace NaN and 'No description yet' with ''\n",
    "df_train['item_description'] = df_train['item_description'].apply(lambda x: '' if x=='No description yet' or type(x) != str else x)"
   ]
  },
  {
   "cell_type": "markdown",
   "metadata": {},
   "source": [
    "### Split categories"
   ]
  },
  {
   "cell_type": "code",
   "execution_count": 17,
   "metadata": {},
   "outputs": [],
   "source": [
    "\"\"\"\n",
    "# Split category into 3 columns (cat1/cat2/cat3 -> separate columns). NaN returns ''\n",
    "def split_categories(category, level):\n",
    "    if type(category) != str:\n",
    "        return ''\n",
    "    else:\n",
    "        categories = category.split('/')\n",
    "        return categories[level]\n",
    "        \n",
    "X['category1'] = X['category_name'].apply(lambda x: split_categories(x, 0))\n",
    "X['category2'] = X['category_name'].apply(lambda x: split_categories(x, 1))\n",
    "X['category3'] = X['category_name'].apply(lambda x: split_categories(x, 2))\n",
    "\n",
    "X.head()\n",
    "\"\"\"\n",
    "\n",
    "def catego_to_subcategos(category_name):\n",
    "    \"\"\" this function will split the category into multiple sub categories \"\"\"\n",
    "    \n",
    "    # try as some of the entries do not have 3 categories\n",
    "    try:\n",
    "        category_1, category_2, category_3 = category_name.split('/')\n",
    "        return category_1, category_2, category_3\n",
    "    except:\n",
    "        return np.nan,np.nan,np.nan\n",
    "    "
   ]
  },
  {
   "cell_type": "code",
   "execution_count": 18,
   "metadata": {},
   "outputs": [],
   "source": [
    "# spliting category into sub-categories\n",
    "df_train['category1'],df_train['category2'],df_train['category3']=\\\n",
    "zip(*df_train['category_name'].apply(catego_to_subcategos))"
   ]
  },
  {
   "cell_type": "code",
   "execution_count": 19,
   "metadata": {},
   "outputs": [
    {
     "data": {
      "text/html": [
       "<div>\n",
       "<style scoped>\n",
       "    .dataframe tbody tr th:only-of-type {\n",
       "        vertical-align: middle;\n",
       "    }\n",
       "\n",
       "    .dataframe tbody tr th {\n",
       "        vertical-align: top;\n",
       "    }\n",
       "\n",
       "    .dataframe thead th {\n",
       "        text-align: right;\n",
       "    }\n",
       "</style>\n",
       "<table border=\"1\" class=\"dataframe\">\n",
       "  <thead>\n",
       "    <tr style=\"text-align: right;\">\n",
       "      <th></th>\n",
       "      <th>name</th>\n",
       "      <th>item_condition_id</th>\n",
       "      <th>category_name</th>\n",
       "      <th>brand_name</th>\n",
       "      <th>price</th>\n",
       "      <th>shipping</th>\n",
       "      <th>item_description</th>\n",
       "      <th>category1</th>\n",
       "      <th>category2</th>\n",
       "      <th>category3</th>\n",
       "    </tr>\n",
       "    <tr>\n",
       "      <th>train_id</th>\n",
       "      <th></th>\n",
       "      <th></th>\n",
       "      <th></th>\n",
       "      <th></th>\n",
       "      <th></th>\n",
       "      <th></th>\n",
       "      <th></th>\n",
       "      <th></th>\n",
       "      <th></th>\n",
       "      <th></th>\n",
       "    </tr>\n",
       "  </thead>\n",
       "  <tbody>\n",
       "    <tr>\n",
       "      <th>0</th>\n",
       "      <td>MLB Cincinnati Reds T Shirt Size XL</td>\n",
       "      <td>3</td>\n",
       "      <td>Men/Tops/T-shirts</td>\n",
       "      <td>unknown</td>\n",
       "      <td>10.0</td>\n",
       "      <td>1</td>\n",
       "      <td></td>\n",
       "      <td>Men</td>\n",
       "      <td>Tops</td>\n",
       "      <td>T-shirts</td>\n",
       "    </tr>\n",
       "    <tr>\n",
       "      <th>1</th>\n",
       "      <td>Razer BlackWidow Chroma Keyboard</td>\n",
       "      <td>3</td>\n",
       "      <td>Electronics/Computers &amp; Tablets/Components &amp; P...</td>\n",
       "      <td>Razer</td>\n",
       "      <td>52.0</td>\n",
       "      <td>0</td>\n",
       "      <td>This keyboard is in great condition and works ...</td>\n",
       "      <td>Electronics</td>\n",
       "      <td>Computers &amp; Tablets</td>\n",
       "      <td>Components &amp; Parts</td>\n",
       "    </tr>\n",
       "    <tr>\n",
       "      <th>2</th>\n",
       "      <td>AVA-VIV Blouse</td>\n",
       "      <td>1</td>\n",
       "      <td>Women/Tops &amp; Blouses/Blouse</td>\n",
       "      <td>Target</td>\n",
       "      <td>10.0</td>\n",
       "      <td>1</td>\n",
       "      <td>Adorable top with a hint of lace and a key hol...</td>\n",
       "      <td>Women</td>\n",
       "      <td>Tops &amp; Blouses</td>\n",
       "      <td>Blouse</td>\n",
       "    </tr>\n",
       "    <tr>\n",
       "      <th>3</th>\n",
       "      <td>Leather Horse Statues</td>\n",
       "      <td>1</td>\n",
       "      <td>Home/Home Décor/Home Décor Accents</td>\n",
       "      <td>unknown</td>\n",
       "      <td>35.0</td>\n",
       "      <td>1</td>\n",
       "      <td>New with tags. Leather horses. Retail for [rm]...</td>\n",
       "      <td>Home</td>\n",
       "      <td>Home Décor</td>\n",
       "      <td>Home Décor Accents</td>\n",
       "    </tr>\n",
       "    <tr>\n",
       "      <th>4</th>\n",
       "      <td>24K GOLD plated rose</td>\n",
       "      <td>1</td>\n",
       "      <td>Women/Jewelry/Necklaces</td>\n",
       "      <td>unknown</td>\n",
       "      <td>44.0</td>\n",
       "      <td>0</td>\n",
       "      <td>Complete with certificate of authenticity</td>\n",
       "      <td>Women</td>\n",
       "      <td>Jewelry</td>\n",
       "      <td>Necklaces</td>\n",
       "    </tr>\n",
       "  </tbody>\n",
       "</table>\n",
       "</div>"
      ],
      "text/plain": [
       "                                         name  item_condition_id  \\\n",
       "train_id                                                           \n",
       "0         MLB Cincinnati Reds T Shirt Size XL                  3   \n",
       "1            Razer BlackWidow Chroma Keyboard                  3   \n",
       "2                              AVA-VIV Blouse                  1   \n",
       "3                       Leather Horse Statues                  1   \n",
       "4                        24K GOLD plated rose                  1   \n",
       "\n",
       "                                              category_name brand_name  price  \\\n",
       "train_id                                                                        \n",
       "0                                         Men/Tops/T-shirts    unknown   10.0   \n",
       "1         Electronics/Computers & Tablets/Components & P...      Razer   52.0   \n",
       "2                               Women/Tops & Blouses/Blouse     Target   10.0   \n",
       "3                        Home/Home Décor/Home Décor Accents    unknown   35.0   \n",
       "4                                   Women/Jewelry/Necklaces    unknown   44.0   \n",
       "\n",
       "          shipping                                   item_description  \\\n",
       "train_id                                                                \n",
       "0                1                                                      \n",
       "1                0  This keyboard is in great condition and works ...   \n",
       "2                1  Adorable top with a hint of lace and a key hol...   \n",
       "3                1  New with tags. Leather horses. Retail for [rm]...   \n",
       "4                0          Complete with certificate of authenticity   \n",
       "\n",
       "            category1            category2           category3  \n",
       "train_id                                                        \n",
       "0                 Men                 Tops            T-shirts  \n",
       "1         Electronics  Computers & Tablets  Components & Parts  \n",
       "2               Women       Tops & Blouses              Blouse  \n",
       "3                Home           Home Décor  Home Décor Accents  \n",
       "4               Women              Jewelry           Necklaces  "
      ]
     },
     "execution_count": 19,
     "metadata": {},
     "output_type": "execute_result"
    }
   ],
   "source": [
    "# data split into sub categories\n",
    "df_train.head()"
   ]
  },
  {
   "cell_type": "code",
   "execution_count": 20,
   "metadata": {},
   "outputs": [
    {
     "name": "stdout",
     "output_type": "stream",
     "text": [
      "full list of stop words:\n",
      " ['i', 'me', 'my', 'myself', 'we', 'our', 'ours', 'ourselves', 'you', \"you're\", \"you've\", \"you'll\", \"you'd\", 'your', 'yours', 'yourself', 'yourselves', 'he', 'him', 'his', 'himself', 'she', \"she's\", 'her', 'hers', 'herself', 'it', \"it's\", 'its', 'itself', 'they', 'them', 'their', 'theirs', 'themselves', 'what', 'which', 'who', 'whom', 'this', 'that', \"that'll\", 'these', 'those', 'am', 'is', 'are', 'was', 'were', 'be', 'been', 'being', 'have', 'has', 'had', 'having', 'do', 'does', 'did', 'doing', 'a', 'an', 'the', 'and', 'but', 'if', 'or', 'because', 'as', 'until', 'while', 'of', 'at', 'by', 'for', 'with', 'about', 'against', 'between', 'into', 'through', 'during', 'before', 'after', 'above', 'below', 'to', 'from', 'up', 'down', 'in', 'out', 'on', 'off', 'over', 'under', 'again', 'further', 'then', 'once', 'here', 'there', 'when', 'where', 'why', 'how', 'all', 'any', 'both', 'each', 'few', 'more', 'most', 'other', 'some', 'such', 'no', 'nor', 'not', 'only', 'own', 'same', 'so', 'than', 'too', 'very', 's', 't', 'can', 'will', 'just', 'don', \"don't\", 'should', \"should've\", 'now', 'd', 'll', 'm', 'o', 're', 've', 'y', 'ain', 'aren', \"aren't\", 'couldn', \"couldn't\", 'didn', \"didn't\", 'doesn', \"doesn't\", 'hadn', \"hadn't\", 'hasn', \"hasn't\", 'haven', \"haven't\", 'isn', \"isn't\", 'ma', 'mightn', \"mightn't\", 'mustn', \"mustn't\", 'needn', \"needn't\", 'shan', \"shan't\", 'shouldn', \"shouldn't\", 'wasn', \"wasn't\", 'weren', \"weren't\", 'won', \"won't\", 'wouldn', \"wouldn't\"]\n",
      "# words: 179\n"
     ]
    }
   ],
   "source": [
    "from nltk.corpus import stopwords\n",
    "eng_stp_words = stopwords.words('english')\n",
    "\n",
    "# should we keep some words from this list?\n",
    "# ('no', 'nor', 'not', 'few') do they indicate something useful like negative description?\n",
    "print('full list of stop words:\\n', eng_stp_words)\n",
    "# 179 words\n",
    "print('# words:', len(eng_stp_words))"
   ]
  },
  {
   "cell_type": "code",
   "execution_count": 21,
   "metadata": {},
   "outputs": [
    {
     "name": "stdout",
     "output_type": "stream",
     "text": [
      "hello world test  remove special chars keep words\n"
     ]
    }
   ],
   "source": [
    "# data transformation functions\n",
    "\n",
    "def remove_stop_words(sentence):\n",
    "    \"\"\" using the nltk lib, gets rid of english stopwords \"\"\"\n",
    "    \n",
    "    sentence = ' '.join([w for w in sentence.split(' ') if w not in eng_stp_words])\n",
    "    \n",
    "    return sentence\n",
    "\n",
    "def to_lower_case(sentence):\n",
    "    \"\"\" returns lower case \"\"\"\n",
    "    \n",
    "    lower_sentence = sentence.lower()\n",
    "    \n",
    "    return lower_sentence\n",
    "\n",
    "def remove_numbers(sentence):\n",
    "    \"\"\" removes numeric values from sentence using regular expression \"\"\"\n",
    "    \n",
    "    sentence_no_digit = re.sub(r'\\d+', '', sentence)\n",
    "    \n",
    "    return sentence_no_digit\n",
    "\n",
    "def remove_special_chars(sentence):\n",
    "    \"\"\" removes special characters from sentence using regular expression \"\"\"\n",
    "    \n",
    "    # remove special characters EXCEPT white spaces\n",
    "    sentence_no_spchar = re.sub(r'\\W+',' ', sentence)\n",
    "    \n",
    "    return sentence_no_spchar\n",
    "\n",
    "def clean_sentence(sentence):\n",
    "    \"\"\" piles up cleaning functions defined by the team \"\"\"\n",
    "    \n",
    "    # remove special characters\n",
    "    sentence = remove_special_chars(sentence)\n",
    "    # remove numbers\n",
    "    sentence = remove_numbers(sentence)\n",
    "    # lowercase\n",
    "    sentence = to_lower_case(sentence)\n",
    "    # remove stopwords\n",
    "    sentence = remove_stop_words(sentence)\n",
    "\n",
    "    return sentence\n",
    "\n",
    "def clean_brand(sentence):\n",
    "    \"\"\" piles up cleaning functions defined by the team \"\"\"\n",
    "    \n",
    "    # remove special characters\n",
    "    #sentence = remove_special_chars(sentence)\n",
    "    # lowercase\n",
    "    sentence = to_lower_case(sentence)\n",
    "\n",
    "    return sentence\n",
    "\n",
    "# test #\n",
    "print(clean_sentence('Hello World! this is TesT 54 TO remove $ = speciaL CHars & keep words'))"
   ]
  },
  {
   "cell_type": "code",
   "execution_count": 22,
   "metadata": {},
   "outputs": [],
   "source": [
    "# clean sentence from description and adds to new column 'item_description_cln'\n",
    "\n",
    "# df_train['item_description'] = df_train['item_description'].apply(clean_sentence)\n",
    "#df_train['name'] = df_train['name'].apply(clean_sentence)\n",
    "\n",
    "# to help recover brand from other columns\n",
    "#df_train['brand_name'] = df_train['brand_name'].apply(clean_brand)"
   ]
  },
  {
   "cell_type": "code",
   "execution_count": 23,
   "metadata": {},
   "outputs": [],
   "source": [
    "# clean item description and name\n",
    "#df_train.head()"
   ]
  },
  {
   "cell_type": "code",
   "execution_count": 24,
   "metadata": {},
   "outputs": [
    {
     "name": "stdout",
     "output_type": "stream",
     "text": [
      "Unique categories 1: 11\n",
      "Unique categories 2: 114\n",
      "Unique categories 3: 865\n",
      "Number of entries with 3 categories: 1470962\n",
      "Number of entries with null categories: 6314\n",
      "Number of entries with 5 categories: 3055\n",
      "Number of entries with 4 categories: 1330\n"
     ]
    }
   ],
   "source": [
    "print('Unique categories 1:', len(df_train['category1'].unique()))\n",
    "print('Unique categories 2:', len(df_train['category2'].unique()))\n",
    "print('Unique categories 3:', len(df_train['category3'].unique()))\n",
    "\n",
    "# Count of category lengths\n",
    "num_categories_dict = defaultdict(int)\n",
    "for i, category in enumerate(df_train['category_name']):\n",
    "    if type(category) != str:\n",
    "        num_categories_dict['null'] += 1\n",
    "        continue\n",
    "    else:\n",
    "        categories = category.split('/')\n",
    "        num_categories = len(categories)\n",
    "        num_categories_dict[num_categories] += 1\n",
    "        \n",
    "for k, v in num_categories_dict.items():\n",
    "    print(f'Number of entries with {k} categories: {v}')"
   ]
  },
  {
   "cell_type": "code",
   "execution_count": 25,
   "metadata": {},
   "outputs": [
    {
     "data": {
      "image/png": "[encoded data removed]",
      "text/plain": [
       "<Figure size 1080x720 with 1 Axes>"
      ]
     },
     "metadata": {
      "needs_background": "light"
     },
     "output_type": "display_data"
    }
   ],
   "source": [
    "# There is a total of 10 category 1\n",
    "plt.figure(figsize=(15, 10))\n",
    "x = df_train['category1']\n",
    "y = df_train['category1'].value_counts().index\n",
    "\n",
    "sns.countplot(x, order=y, palette='Paired')\n",
    "\n",
    "plt.title('Top Categories 1', fontsize=15)\n",
    "plt.xlabel('Category 1', fontsize=15)\n",
    "plt.ylabel('Items in category', fontsize=15)\n",
    "plt.xticks(rotation=-45)\n",
    "\n",
    "plt.show()"
   ]
  },
  {
   "cell_type": "code",
   "execution_count": 26,
   "metadata": {},
   "outputs": [
    {
     "data": {
      "image/png": "[encoded data removed]",
      "text/plain": [
       "<Figure size 1080x720 with 1 Axes>"
      ]
     },
     "metadata": {
      "needs_background": "light"
     },
     "output_type": "display_data"
    }
   ],
   "source": [
    "# plot category 2  \n",
    "plt.figure(figsize=(15, 10))\n",
    "x = df_train['category2']\n",
    "y = df_train['category2'].value_counts().index[:10]\n",
    "\n",
    "sns.countplot(x, order=y, palette='Paired')\n",
    "\n",
    "plt.title('Top Categories 2', fontsize=15)\n",
    "plt.xlabel('Category 2', fontsize=15)\n",
    "plt.ylabel('Items in category', fontsize=15)\n",
    "plt.xticks(rotation=-45)\n",
    "\n",
    "plt.show()"
   ]
  },
  {
   "cell_type": "code",
   "execution_count": 27,
   "metadata": {},
   "outputs": [
    {
     "data": {
      "image/png": "[encoded data removed]",
      "text/plain": [
       "<Figure size 1080x720 with 1 Axes>"
      ]
     },
     "metadata": {
      "needs_background": "light"
     },
     "output_type": "display_data"
    }
   ],
   "source": [
    "# plot category 3\n",
    "plt.figure(figsize=(15, 10))\n",
    "x = df_train['category3']\n",
    "y = df_train['category3'].value_counts().index[:10]\n",
    "\n",
    "sns.countplot(x, order=y, palette='Paired')\n",
    "\n",
    "plt.title('Top Categories 3', fontsize=15)\n",
    "plt.xlabel('Category 3', fontsize=15)\n",
    "plt.ylabel('Items in category', fontsize=15)\n",
    "plt.xticks(rotation=-45)\n",
    "\n",
    "plt.show()"
   ]
  },
  {
   "cell_type": "markdown",
   "metadata": {},
   "source": [
    "## X/y split"
   ]
  },
  {
   "cell_type": "code",
   "execution_count": 28,
   "metadata": {},
   "outputs": [
    {
     "data": {
      "text/html": [
       "<div>\n",
       "<style scoped>\n",
       "    .dataframe tbody tr th:only-of-type {\n",
       "        vertical-align: middle;\n",
       "    }\n",
       "\n",
       "    .dataframe tbody tr th {\n",
       "        vertical-align: top;\n",
       "    }\n",
       "\n",
       "    .dataframe thead th {\n",
       "        text-align: right;\n",
       "    }\n",
       "</style>\n",
       "<table border=\"1\" class=\"dataframe\">\n",
       "  <thead>\n",
       "    <tr style=\"text-align: right;\">\n",
       "      <th></th>\n",
       "      <th>name</th>\n",
       "      <th>item_condition_id</th>\n",
       "      <th>category_name</th>\n",
       "      <th>brand_name</th>\n",
       "      <th>shipping</th>\n",
       "      <th>item_description</th>\n",
       "      <th>category1</th>\n",
       "      <th>category2</th>\n",
       "      <th>category3</th>\n",
       "    </tr>\n",
       "    <tr>\n",
       "      <th>train_id</th>\n",
       "      <th></th>\n",
       "      <th></th>\n",
       "      <th></th>\n",
       "      <th></th>\n",
       "      <th></th>\n",
       "      <th></th>\n",
       "      <th></th>\n",
       "      <th></th>\n",
       "      <th></th>\n",
       "    </tr>\n",
       "  </thead>\n",
       "  <tbody>\n",
       "    <tr>\n",
       "      <th>0</th>\n",
       "      <td>MLB Cincinnati Reds T Shirt Size XL</td>\n",
       "      <td>3</td>\n",
       "      <td>Men/Tops/T-shirts</td>\n",
       "      <td>unknown</td>\n",
       "      <td>1</td>\n",
       "      <td></td>\n",
       "      <td>Men</td>\n",
       "      <td>Tops</td>\n",
       "      <td>T-shirts</td>\n",
       "    </tr>\n",
       "    <tr>\n",
       "      <th>1</th>\n",
       "      <td>Razer BlackWidow Chroma Keyboard</td>\n",
       "      <td>3</td>\n",
       "      <td>Electronics/Computers &amp; Tablets/Components &amp; P...</td>\n",
       "      <td>Razer</td>\n",
       "      <td>0</td>\n",
       "      <td>This keyboard is in great condition and works ...</td>\n",
       "      <td>Electronics</td>\n",
       "      <td>Computers &amp; Tablets</td>\n",
       "      <td>Components &amp; Parts</td>\n",
       "    </tr>\n",
       "    <tr>\n",
       "      <th>2</th>\n",
       "      <td>AVA-VIV Blouse</td>\n",
       "      <td>1</td>\n",
       "      <td>Women/Tops &amp; Blouses/Blouse</td>\n",
       "      <td>Target</td>\n",
       "      <td>1</td>\n",
       "      <td>Adorable top with a hint of lace and a key hol...</td>\n",
       "      <td>Women</td>\n",
       "      <td>Tops &amp; Blouses</td>\n",
       "      <td>Blouse</td>\n",
       "    </tr>\n",
       "    <tr>\n",
       "      <th>3</th>\n",
       "      <td>Leather Horse Statues</td>\n",
       "      <td>1</td>\n",
       "      <td>Home/Home Décor/Home Décor Accents</td>\n",
       "      <td>unknown</td>\n",
       "      <td>1</td>\n",
       "      <td>New with tags. Leather horses. Retail for [rm]...</td>\n",
       "      <td>Home</td>\n",
       "      <td>Home Décor</td>\n",
       "      <td>Home Décor Accents</td>\n",
       "    </tr>\n",
       "    <tr>\n",
       "      <th>4</th>\n",
       "      <td>24K GOLD plated rose</td>\n",
       "      <td>1</td>\n",
       "      <td>Women/Jewelry/Necklaces</td>\n",
       "      <td>unknown</td>\n",
       "      <td>0</td>\n",
       "      <td>Complete with certificate of authenticity</td>\n",
       "      <td>Women</td>\n",
       "      <td>Jewelry</td>\n",
       "      <td>Necklaces</td>\n",
       "    </tr>\n",
       "  </tbody>\n",
       "</table>\n",
       "</div>"
      ],
      "text/plain": [
       "                                         name  item_condition_id  \\\n",
       "train_id                                                           \n",
       "0         MLB Cincinnati Reds T Shirt Size XL                  3   \n",
       "1            Razer BlackWidow Chroma Keyboard                  3   \n",
       "2                              AVA-VIV Blouse                  1   \n",
       "3                       Leather Horse Statues                  1   \n",
       "4                        24K GOLD plated rose                  1   \n",
       "\n",
       "                                              category_name brand_name  \\\n",
       "train_id                                                                 \n",
       "0                                         Men/Tops/T-shirts    unknown   \n",
       "1         Electronics/Computers & Tablets/Components & P...      Razer   \n",
       "2                               Women/Tops & Blouses/Blouse     Target   \n",
       "3                        Home/Home Décor/Home Décor Accents    unknown   \n",
       "4                                   Women/Jewelry/Necklaces    unknown   \n",
       "\n",
       "          shipping                                   item_description  \\\n",
       "train_id                                                                \n",
       "0                1                                                      \n",
       "1                0  This keyboard is in great condition and works ...   \n",
       "2                1  Adorable top with a hint of lace and a key hol...   \n",
       "3                1  New with tags. Leather horses. Retail for [rm]...   \n",
       "4                0          Complete with certificate of authenticity   \n",
       "\n",
       "            category1            category2           category3  \n",
       "train_id                                                        \n",
       "0                 Men                 Tops            T-shirts  \n",
       "1         Electronics  Computers & Tablets  Components & Parts  \n",
       "2               Women       Tops & Blouses              Blouse  \n",
       "3                Home           Home Décor  Home Décor Accents  \n",
       "4               Women              Jewelry           Necklaces  "
      ]
     },
     "execution_count": 28,
     "metadata": {},
     "output_type": "execute_result"
    }
   ],
   "source": [
    "# We will now split the dataframe into X (features/inputs) and y (target variable).\n",
    "y = df_train.loc[:, 'price']\n",
    "y = pd.to_numeric(y)\n",
    "\n",
    "X = df_train\n",
    "del X['price']\n",
    "\n",
    "X.head()"
   ]
  },
  {
   "cell_type": "markdown",
   "metadata": {},
   "source": [
    "### Create dummy variables (one-hot encoding)"
   ]
  },
  {
   "cell_type": "code",
   "execution_count": 29,
   "metadata": {},
   "outputs": [
    {
     "name": "stdout",
     "output_type": "stream",
     "text": [
      "Creating dummy variables and storing as sparse matrices...\n",
      "Done. Time taken: 122.09s\n"
     ]
    }
   ],
   "source": [
    "start_time = time.time()\n",
    "\n",
    "print('Creating dummy variables and storing as sparse matrices...')\n",
    "X_brand = csr_matrix(pd.get_dummies(X['brand_name'], sparse=True, prefix='brand'))\n",
    "X_cat1 = csr_matrix(pd.get_dummies(X['category1'], sparse=True, prefix='cat1'))\n",
    "X_cat2 = csr_matrix(pd.get_dummies(X['category2'], sparse=True, prefix='cat2'))\n",
    "X_cat3 = csr_matrix(pd.get_dummies(X['category3'], sparse=True, prefix='cat3'))\n",
    "X_cond = csr_matrix(pd.get_dummies(X['item_condition_id'], sparse=True, prefix='cond'))\n",
    "X_ship = csr_matrix(pd.get_dummies(X['shipping'], sparse=True, prefix='ship'))\n",
    "\n",
    "print(f'Done. Time taken: {time.time() - start_time:.2f}s')"
   ]
  },
  {
   "cell_type": "markdown",
   "metadata": {},
   "source": [
    "### Transform name and item_description"
   ]
  },
  {
   "cell_type": "code",
   "execution_count": 30,
   "metadata": {},
   "outputs": [
    {
     "name": "stdout",
     "output_type": "stream",
     "text": [
      "Vectorising name...\n",
      "Done. Time taken: 8.58s\n",
      "\n",
      "Vectorising item description...\n",
      "Done. Time taken: 87.39s\n"
     ]
    }
   ],
   "source": [
    "cv_name = CountVectorizer(max_features=5000, lowercase=True, token_pattern='\\w+', ngram_range=(1,1))\n",
    "tv_desc = TfidfVectorizer(max_features=5000, lowercase=True, token_pattern='\\w+', ngram_range=(1,2))\n",
    "\n",
    "# Vectorise name\n",
    "start_time = time.time()\n",
    "print('Vectorising name...')\n",
    "X_name = cv_name.fit_transform(X['name'])\n",
    "print(f'Done. Time taken: {time.time() - start_time:.2f}s\\n')\n",
    "\n",
    "# Vectorise item description\n",
    "start_time = time.time()\n",
    "print('Vectorising item description...')\n",
    "X_desc = tv_desc.fit_transform(X['item_description'])\n",
    "print(f'Done. Time taken: {time.time() - start_time:.2f}s')"
   ]
  },
  {
   "cell_type": "markdown",
   "metadata": {},
   "source": [
    "### Combine features and prepare for training"
   ]
  },
  {
   "cell_type": "code",
   "execution_count": 31,
   "metadata": {},
   "outputs": [
    {
     "name": "stdout",
     "output_type": "stream",
     "text": [
      "Feature dimensions:\n",
      "(1481661, 5000)\n",
      "(1481661, 5)\n",
      "(1481661, 2)\n",
      "(1481661, 5000)\n",
      "(1481661, 4808)\n",
      "(1481661, 10)\n",
      "(1481661, 113)\n",
      "(1481661, 864)\n"
     ]
    }
   ],
   "source": [
    "print('Feature dimensions:')\n",
    "for feature in (X_name,\n",
    "                X_cond,\n",
    "                X_ship,\n",
    "                X_desc,\n",
    "                X_brand,\n",
    "                X_cat1,\n",
    "                X_cat2,\n",
    "                X_cat3):\n",
    "    print(feature.shape)"
   ]
  },
  {
   "cell_type": "code",
   "execution_count": 32,
   "metadata": {},
   "outputs": [
    {
     "name": "stdout",
     "output_type": "stream",
     "text": [
      "Creating overall input data...\n",
      "Done. Time taken: 3.50s\n"
     ]
    }
   ],
   "source": [
    "start_time = time.time()\n",
    "print('Creating overall input data...')\n",
    "\n",
    "# Create final sparse matrix for X\n",
    "X_input = hstack((X_name,\n",
    "                  X_cond,\n",
    "                  X_ship,\n",
    "                  X_desc,\n",
    "                  X_brand,\n",
    "                  X_cat1,\n",
    "                  X_cat2,\n",
    "                  X_cat3)\n",
    "                ).tocsr()\n",
    "\n",
    "# y -> numpy array, then log(y+1)\n",
    "y_input = np.array(y).reshape(-1,1)\n",
    "y_input = np.log1p(y_input)\n",
    "\n",
    "print(f'Done. Time taken: {time.time() - start_time:.2f}s')"
   ]
  },
  {
   "cell_type": "code",
   "execution_count": 33,
   "metadata": {},
   "outputs": [
    {
     "name": "stdout",
     "output_type": "stream",
     "text": [
      "(1481661, 15802)\n",
      "(1481661, 1)\n"
     ]
    }
   ],
   "source": [
    "print(X_input.shape)\n",
    "print(y_input.shape)"
   ]
  },
  {
   "cell_type": "code",
   "execution_count": 34,
   "metadata": {},
   "outputs": [
    {
     "name": "stdout",
     "output_type": "stream",
     "text": [
      "Creating train/validation split...\n",
      "Done. Time taken: 1.78s\n",
      "\n",
      "Train shapes\n",
      "X: (1333494, 15802)\n",
      "Y: (1333494, 1)\n",
      "\n",
      "Validation shapes\n",
      "X: (148167, 15802)\n",
      "Y: (148167, 1)\n"
     ]
    }
   ],
   "source": [
    "start_time = time.time()\n",
    "print('Creating train/validation split...')\n",
    "\n",
    "X_train, X_val, y_train, y_val = train_test_split(X_input, y_input, test_size=0.1)\n",
    "\n",
    "print(f'Done. Time taken: {time.time() - start_time:.2f}s\\n')\n",
    "\n",
    "print(f'Train shapes\\nX: {X_train.shape}\\nY: {y_train.shape}\\n')\n",
    "print(f'Validation shapes\\nX: {X_val.shape}\\nY: {y_val.shape}')"
   ]
  },
  {
   "cell_type": "markdown",
   "metadata": {},
   "source": [
    "## Neural Network"
   ]
  },
  {
   "cell_type": "code",
   "execution_count": 35,
   "metadata": {},
   "outputs": [],
   "source": [
    "## Metrics\n",
    "## Keras functions\n",
    "def r2_metric(y, y_hat):\n",
    "    RSS = K.sum(K.square(y - y_hat))\n",
    "    TSS = K.sum(K.square(y - K.mean(y)))\n",
    "    r2 = 1 - RSS / (TSS + K.epsilon())\n",
    "    return r2\n",
    "\n",
    "def RMSLE_metric(y, y_hat):    \n",
    "    RMSLE = K.sqrt(K.mean(K.square(y_hat - y)))\n",
    "    return RMSLE\n",
    "\n",
    "## Numpy functions\n",
    "def calc_r2(y, y_hat):\n",
    "    RSS = np.sum((y - y_hat)**2)\n",
    "    TSS = np.sum((y - np.mean(y))**2)\n",
    "    r2 = 1 - RSS / TSS\n",
    "    return r2\n",
    "\n",
    "def calc_RMSLE(y, y_hat):\n",
    "    RMSLE = np.sqrt(np.mean((np.log(y_hat + 1) - np.log(y + 1))**2))\n",
    "    return RMSLE"
   ]
  },
  {
   "cell_type": "code",
   "execution_count": 36,
   "metadata": {
    "scrolled": false
   },
   "outputs": [
    {
     "name": "stdout",
     "output_type": "stream",
     "text": [
      "_________________________________________________________________\n",
      "Layer (type)                 Output Shape              Param #   \n",
      "=================================================================\n",
      "input_1 (InputLayer)         (None, 15802)             0         \n",
      "_________________________________________________________________\n",
      "dense_1 (Dense)              (None, 192)               3034176   \n",
      "_________________________________________________________________\n",
      "dense_2 (Dense)              (None, 64)                12352     \n",
      "_________________________________________________________________\n",
      "dense_3 (Dense)              (None, 64)                4160      \n",
      "_________________________________________________________________\n",
      "dense_4 (Dense)              (None, 1)                 65        \n",
      "=================================================================\n",
      "Total params: 3,050,753\n",
      "Trainable params: 3,050,753\n",
      "Non-trainable params: 0\n",
      "_________________________________________________________________\n",
      "None\n"
     ]
    }
   ],
   "source": [
    "model_input = keras.Input(shape=(X_input.shape[1],), dtype='float32', sparse=True)\n",
    "hidden1 = keras.layers.Dense(192, activation='relu')(model_input)\n",
    "hidden2 = keras.layers.Dense(64, activation='relu')(hidden1)\n",
    "hidden3 = keras.layers.Dense(64, activation='relu')(hidden2)\n",
    "model_output = keras.layers.Dense(1)(hidden3)\n",
    "\n",
    "model = keras.Model(model_input, model_output)\n",
    "model.compile(loss='mean_squared_error', optimizer=keras.optimizers.adam(lr=3e-3), metrics=[RMSLE_metric])\n",
    "print(model.summary())"
   ]
  },
  {
   "cell_type": "code",
   "execution_count": 37,
   "metadata": {},
   "outputs": [
    {
     "name": "stdout",
     "output_type": "stream",
     "text": [
      "Train on 1333494 samples, validate on 148167 samples\n",
      "Epoch 1/1\n",
      "1333494/1333494 [==============================] - 42s 31us/step - loss: 0.3139 - RMSLE_metric: 0.5144 - val_loss: 0.2071 - val_RMSLE_metric: 0.4550\n",
      "\n",
      "Train on 1333494 samples, validate on 148167 samples\n",
      "Epoch 1/1\n",
      "1333494/1333494 [==============================] - 12s 9us/step - loss: 0.1814 - RMSLE_metric: 0.4259 - val_loss: 0.1911 - val_RMSLE_metric: 0.4371\n",
      "\n",
      "Training finished. Time taken: 54.56s\n"
     ]
    }
   ],
   "source": [
    "epochs = 2\n",
    "training_start = time.time() # 0.5036,0.4439 / 0.4071,0.4332\n",
    "\n",
    "# Epochs done via for loop so we can increase batch size over time\n",
    "for i in range(1, epochs+1): # verbose ~3.5% slower\n",
    "    epoch_start = time.time()\n",
    "    # print(f'Epoch {i}/{epochs}')\n",
    "    model.fit(X_train, y_train, batch_size=2048*i, epochs=1, validation_data=(X_val, y_val), verbose=1,\n",
    "              callbacks=[EarlyStopping(patience=1, monitor='val_loss', restore_best_weights=True)])\n",
    "    print()\n",
    "    # print(f'Finished. Time taken: {time.time() - epoch_start:.2f}s')\n",
    "    \n",
    "print(f'Training finished. Time taken: {time.time() - training_start:.2f}s')"
   ]
  },
  {
   "cell_type": "code",
   "execution_count": 38,
   "metadata": {},
   "outputs": [
    {
     "name": "stdout",
     "output_type": "stream",
     "text": [
      "1333494/1333494 [==============================] - 55s 41us/step\n",
      "148167/148167 [==============================] - 7s 45us/step\n"
     ]
    }
   ],
   "source": [
    "# Get train/validation predictions\n",
    "y_hat_train = model.predict(X_train, verbose=1)\n",
    "y_hat_val = model.predict(X_val, verbose=1)"
   ]
  },
  {
   "cell_type": "code",
   "execution_count": 40,
   "metadata": {},
   "outputs": [
    {
     "name": "stdout",
     "output_type": "stream",
     "text": [
      "RMSLE\n",
      "Train: 0.3676\n",
      "Val: 0.4271\n",
      "\n",
      "r2\n",
      "Train: 0.6568\n",
      "Val: 0.5215\n",
      "\n",
      "log r2\n",
      "Train: 0.7571\n",
      "Val: 0.6735\n"
     ]
    }
   ],
   "source": [
    "# Root mean squared logarithmic error\n",
    "RMSLE_train = calc_RMSLE(np.expm1(y_train), np.expm1(y_hat_train))\n",
    "RMSLE_val = calc_RMSLE(np.expm1(y_val), np.expm1(y_hat_val))\n",
    "print(f'RMSLE\\nTrain: {RMSLE_train:.4f}\\nVal: {RMSLE_val:.4f}\\n')\n",
    "# Best | Train: 0.3272 | Val: 0.4254 | 20k/20k CV/TV\n",
    "\n",
    "# R squared (fraction of variance explained)\n",
    "# Non-log\n",
    "r2_train = calc_r2(np.expm1(y_train), np.expm1(y_hat_train))\n",
    "r2_val = calc_r2(np.expm1(y_val), np.expm1(y_hat_val))\n",
    "print(f'r2\\nTrain: {r2_train:.4f}\\nVal: {r2_val:.4f}\\n')\n",
    "\n",
    "# Log\n",
    "log_r2_train = calc_r2(y_train, y_hat_train)\n",
    "log_r2_val = calc_r2(y_val, y_hat_val)\n",
    "print(f'log r2\\nTrain: {log_r2_train:.4f}\\nVal: {log_r2_val:.4f}')"
   ]
  },
  {
   "cell_type": "code",
   "execution_count": 41,
   "metadata": {},
   "outputs": [
    {
     "name": "stdout",
     "output_type": "stream",
     "text": [
      "Total notebook run time: 617.97s\n"
     ]
    }
   ],
   "source": [
    "print(f'Total notebook run time: {time.time() - notebook_start:.2f}s')"
   ]
  },
  {
   "cell_type": "markdown",
   "metadata": {},
   "source": [
    "### Ridge regression (for comparison)"
   ]
  },
  {
   "cell_type": "code",
   "execution_count": 51,
   "metadata": {},
   "outputs": [
    {
     "data": {
      "text/plain": [
       "'# saving resources\\ndf_train = None\\ncv_name = None\\ntv_desc = None\\nX_name = None\\nX_cond = None\\nX_ship = None\\nX_desc = None\\nX_brand = None\\nX_cat1 = None\\nX_cat2 = None\\nX_cat3 = None\\nX = None\\ngc.collect()'"
      ]
     },
     "execution_count": 51,
     "metadata": {},
     "output_type": "execute_result"
    }
   ],
   "source": [
    "\"\"\"# saving resources\n",
    "df_train = None\n",
    "cv_name = None\n",
    "tv_desc = None\n",
    "X_name = None\n",
    "X_cond = None\n",
    "X_ship = None\n",
    "X_desc = None\n",
    "X_brand = None\n",
    "X_cat1 = None\n",
    "X_cat2 = None\n",
    "X_cat3 = None\n",
    "X = None\n",
    "gc.collect()\"\"\""
   ]
  },
  {
   "cell_type": "code",
   "execution_count": 46,
   "metadata": {},
   "outputs": [],
   "source": [
    "class RidgeRegression():\n",
    "    \"\"\" Ridge regression model \"\"\"\n",
    "    \n",
    "    def __init__(self, lam=0.1):\n",
    "        self.lam = lam\n",
    "    \n",
    "    def fit(self, X, y):\n",
    "        # w = (X.T X + λI)^-1 X.Ty <-- formula\n",
    "        term_1 = X.T @ X + self.lam * np.eye(X.shape[1])\n",
    "        term_2 = X.T @ y\n",
    "        self.w = np.linalg.inv(term_1) @ term_2\n",
    "\n",
    "    def predict(self, X):\n",
    "        prediction = X @ self.w\n",
    "        prediction = np.squeeze(np.asarray(prediction))\n",
    "        return np.array(prediction).reshape(-1,1)\n",
    "    \n",
    "    def rmsle(y, y_hat):\n",
    "        rmsle = np.sqrt(np.mean(np.power(np.log1p(y)-np.log1p(y_hat), 2)))\n",
    "        return rmsle\n",
    "    \n",
    "    def set_params(self, lam=0.1):\n",
    "        self.lam = lam\n",
    "        return self"
   ]
  },
  {
   "cell_type": "code",
   "execution_count": 47,
   "metadata": {},
   "outputs": [
    {
     "name": "stdout",
     "output_type": "stream",
     "text": [
      "Ridge Regression Training time: 135.87470364570618 seconds\n"
     ]
    }
   ],
   "source": [
    "# RIDGE REGRESSION\n",
    "start_time = time.time()\n",
    "\n",
    "ridge_model = RidgeRegression()\n",
    "ridge_model.fit(X_train, y_train)\n",
    "\n",
    "print(\"Ridge Regression Training time: %s seconds\" % (time.time() - start_time))"
   ]
  },
  {
   "cell_type": "code",
   "execution_count": 54,
   "metadata": {},
   "outputs": [],
   "source": [
    "#from sklearn.linear_model import Ridge\n",
    "\n",
    "#start_time = time.time()\n",
    "#model2 = Ridge(solver='sag', fit_intercept=False)\n",
    "#print('Fitting ridge regression...')\n",
    "#model2.fit(X_train, y_train)\n",
    "#print(f'Done. Time taken: {time.time() - start_time:.2f}s')"
   ]
  },
  {
   "cell_type": "code",
   "execution_count": 55,
   "metadata": {},
   "outputs": [
    {
     "name": "stdout",
     "output_type": "stream",
     "text": [
      "RMSLE\n",
      "Train: 0.4502\n",
      "Val: 0.4539\n",
      "\n",
      "r2\n",
      "Train: 0.4247\n",
      "Val: 0.4239\n",
      "\n",
      "log r2\n",
      "Train: 0.5972\n",
      "Val: 0.5878\n"
     ]
    }
   ],
   "source": [
    "y_hat_train2 = ridge_model.predict(X_train)\n",
    "y_hat_val2 = ridge_model.predict(X_val)\n",
    "\n",
    "#y_hat_train2 = model2.predict(X_train)\n",
    "#y_hat_val2 = model2.predict(X_val)\n",
    "\n",
    "RMSLE_train2 = calc_RMSLE(np.exp(y_train), np.exp(y_hat_train2))\n",
    "RMSLE_val2 = calc_RMSLE(np.exp(y_val), np.exp(y_hat_val2))\n",
    "\n",
    "print(f'RMSLE\\nTrain: {RMSLE_train2:.4f}\\nVal: {RMSLE_val2:.4f}\\n')\n",
    "\n",
    "r2_train2 = calc_r2(np.exp(y_train), np.exp(y_hat_train2))\n",
    "r2_val2 = calc_r2(np.exp(y_val), np.exp(y_hat_val2))\n",
    "\n",
    "print(f'r2\\nTrain: {r2_train2:.4f}\\nVal: {r2_val2:.4f}\\n')\n",
    "\n",
    "log_r2_train2 = calc_r2(y_train, y_hat_train2)\n",
    "log_r2_val2 = calc_r2(y_val, y_hat_val2)\n",
    "\n",
    "print(f'log r2\\nTrain: {log_r2_train2:.4f}\\nVal: {log_r2_val2:.4f}')\n",
    "\n"
   ]
  }
 ],
 "metadata": {
  "kernelspec": {
   "display_name": "Python 3",
   "language": "python",
   "name": "python3"
  },
  "language_info": {
   "codemirror_mode": {
    "name": "ipython",
    "version": 3
   },
   "file_extension": ".py",
   "mimetype": "text/x-python",
   "name": "python",
   "nbconvert_exporter": "python",
   "pygments_lexer": "ipython3",
   "version": "3.6.8"
  }
 },
 "nbformat": 4,
 "nbformat_minor": 2
}
