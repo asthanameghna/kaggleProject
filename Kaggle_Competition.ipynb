{
 "cells": [
  {
   "cell_type": "markdown",
   "metadata": {},
   "source": [
    "## Libraries"
   ]
  },
  {
   "cell_type": "code",
   "execution_count": 1,
   "metadata": {},
   "outputs": [],
   "source": [
    "# standard libraries\n",
    "import string\n",
    "import re\n",
    "import numpy as np\n",
    "import pandas as pd\n",
    "import time \n",
    "\n",
    "# data visualization\n",
    "%matplotlib inline\n",
    "import matplotlib.pyplot as plt\n",
    "import seaborn as sns\n",
    "\n",
    "# sklearn for test train splits\n",
    "from sklearn.model_selection import train_test_split\n",
    "\n",
    "# sparece matrices are required for memory management\n",
    "from scipy.sparse import csr_matrix, hstack\n",
    "from sklearn.preprocessing import LabelBinarizer\n",
    "from sklearn.feature_extraction.text import TfidfVectorizer, CountVectorizer\n",
    "\n",
    "# Ridge regression regularization (L2)\n",
    "from sklearn.linear_model import Ridge\n",
    "from sklearn.linear_model import LinearRegression\n",
    "\n",
    "# Data wrangling utilities\n",
    "import re\n",
    "from nltk.corpus import stopwords\n",
    "eng_stp_words = stopwords.words('english')\n"
   ]
  },
  {
   "cell_type": "markdown",
   "metadata": {},
   "source": [
    "## Loading kaggle data_sets into Pandas dataframes"
   ]
  },
  {
   "cell_type": "code",
   "execution_count": 2,
   "metadata": {},
   "outputs": [
    {
     "name": "stdout",
     "output_type": "stream",
     "text": [
      "Data frames loaded:\n",
      "Train data shape: (1482535, 8)\n"
     ]
    }
   ],
   "source": [
    "# tsv is tab separeted so... delimiter='\\t'\n",
    "train_data_set = pd.read_csv('Data/train.tsv', delimiter='\\t', encoding='utf-8')\n",
    "\n",
    "# test_set not required yet \n",
    "# test_set = pd.read_csv('Data/test.tsv', delimiter='\\t', encoding='utf-8')\n",
    "# test_stg2 = pd.read_csv('Data/test_stg2.tsv', delimiter='\\t', encoding='utf-8')\n",
    "\n",
    "# check pandas dataframe dimension\n",
    "print('Data frames loaded:')\n",
    "print('Train data shape:', train_data_set.shape)\n",
    "# print('test_set shape:', test_set.shape)\n",
    "# print('test_stg2 shape:', test_stg2.shape)"
   ]
  },
  {
   "cell_type": "markdown",
   "metadata": {},
   "source": [
    "## Data fields for reference:\n",
    "(from kaggle competition)\n",
    "\n",
    "The files consist of a list of product listings. These files are tab-delimited.\n",
    "* train_id or test_id - the id of the listing\n",
    "* <b>name</b> - the title of the listing. Note that we have cleaned the data to remove text that look like prices to avoid leakage. These removed prices are represented as [rm]\n",
    "* <b>item_condition_id</b> - the condition of the items provided by the seller, 1=Good,...,5=Poor\n",
    "* <b>category_name</b> - category of the listing\n",
    "* <b>brand_name</b>\n",
    "* <b>price</b> - the price that the item was sold for. This is the target variable that you will predict. The unit is USD. This column doesn't exist in test.tsv since that is what you will predict.\n",
    "* <b>shipping</b> - 1 if shipping fee is paid by seller and 0 by buyer\n",
    "* <b>item_description</b> - the full description of the item. Note that we have cleaned the data to remove text that look like prices to avoid leakage. These removed prices are represented as [rm]"
   ]
  },
  {
   "cell_type": "markdown",
   "metadata": {},
   "source": [
    "## Data exploration - visualization\n",
    "\n",
    "Summary so far:\n",
    " * There are unique <b>4,810</b> brands.\n",
    " * There are <b>82,489</b> items with <b>\"No description yet\"</b>, around 6% of our dataset. (what you think)\n",
    " * There are <b>874</b> entries with <b>price = 0/free</b>, should we drop them? as it does not make sence and will confuse our model I think.\n",
    " * prices are skewed to the right.\n",
    " * top brands (PINK, Nike, Victoria's Secret, etc)\n",
    "     * Note there are <b>632,682</b> items with no brand assigned ~ 43% of our training set!"
   ]
  },
  {
   "cell_type": "code",
   "execution_count": 3,
   "metadata": {},
   "outputs": [
    {
     "data": {
      "text/html": [
       "<div>\n",
       "<style scoped>\n",
       "    .dataframe tbody tr th:only-of-type {\n",
       "        vertical-align: middle;\n",
       "    }\n",
       "\n",
       "    .dataframe tbody tr th {\n",
       "        vertical-align: top;\n",
       "    }\n",
       "\n",
       "    .dataframe thead th {\n",
       "        text-align: right;\n",
       "    }\n",
       "</style>\n",
       "<table border=\"1\" class=\"dataframe\">\n",
       "  <thead>\n",
       "    <tr style=\"text-align: right;\">\n",
       "      <th></th>\n",
       "      <th>train_id</th>\n",
       "      <th>name</th>\n",
       "      <th>item_condition_id</th>\n",
       "      <th>category_name</th>\n",
       "      <th>brand_name</th>\n",
       "      <th>price</th>\n",
       "      <th>shipping</th>\n",
       "      <th>item_description</th>\n",
       "    </tr>\n",
       "  </thead>\n",
       "  <tbody>\n",
       "    <tr>\n",
       "      <th>0</th>\n",
       "      <td>0</td>\n",
       "      <td>MLB Cincinnati Reds T Shirt Size XL</td>\n",
       "      <td>3</td>\n",
       "      <td>Men/Tops/T-shirts</td>\n",
       "      <td>NaN</td>\n",
       "      <td>10.0</td>\n",
       "      <td>1</td>\n",
       "      <td>No description yet</td>\n",
       "    </tr>\n",
       "    <tr>\n",
       "      <th>1</th>\n",
       "      <td>1</td>\n",
       "      <td>Razer BlackWidow Chroma Keyboard</td>\n",
       "      <td>3</td>\n",
       "      <td>Electronics/Computers &amp; Tablets/Components &amp; P...</td>\n",
       "      <td>Razer</td>\n",
       "      <td>52.0</td>\n",
       "      <td>0</td>\n",
       "      <td>This keyboard is in great condition and works ...</td>\n",
       "    </tr>\n",
       "    <tr>\n",
       "      <th>2</th>\n",
       "      <td>2</td>\n",
       "      <td>AVA-VIV Blouse</td>\n",
       "      <td>1</td>\n",
       "      <td>Women/Tops &amp; Blouses/Blouse</td>\n",
       "      <td>Target</td>\n",
       "      <td>10.0</td>\n",
       "      <td>1</td>\n",
       "      <td>Adorable top with a hint of lace and a key hol...</td>\n",
       "    </tr>\n",
       "    <tr>\n",
       "      <th>3</th>\n",
       "      <td>3</td>\n",
       "      <td>Leather Horse Statues</td>\n",
       "      <td>1</td>\n",
       "      <td>Home/Home Décor/Home Décor Accents</td>\n",
       "      <td>NaN</td>\n",
       "      <td>35.0</td>\n",
       "      <td>1</td>\n",
       "      <td>New with tags. Leather horses. Retail for [rm]...</td>\n",
       "    </tr>\n",
       "    <tr>\n",
       "      <th>4</th>\n",
       "      <td>4</td>\n",
       "      <td>24K GOLD plated rose</td>\n",
       "      <td>1</td>\n",
       "      <td>Women/Jewelry/Necklaces</td>\n",
       "      <td>NaN</td>\n",
       "      <td>44.0</td>\n",
       "      <td>0</td>\n",
       "      <td>Complete with certificate of authenticity</td>\n",
       "    </tr>\n",
       "  </tbody>\n",
       "</table>\n",
       "</div>"
      ],
      "text/plain": [
       "   train_id                                 name  item_condition_id  \\\n",
       "0         0  MLB Cincinnati Reds T Shirt Size XL                  3   \n",
       "1         1     Razer BlackWidow Chroma Keyboard                  3   \n",
       "2         2                       AVA-VIV Blouse                  1   \n",
       "3         3                Leather Horse Statues                  1   \n",
       "4         4                 24K GOLD plated rose                  1   \n",
       "\n",
       "                                       category_name brand_name  price  \\\n",
       "0                                  Men/Tops/T-shirts        NaN   10.0   \n",
       "1  Electronics/Computers & Tablets/Components & P...      Razer   52.0   \n",
       "2                        Women/Tops & Blouses/Blouse     Target   10.0   \n",
       "3                 Home/Home Décor/Home Décor Accents        NaN   35.0   \n",
       "4                            Women/Jewelry/Necklaces        NaN   44.0   \n",
       "\n",
       "   shipping                                   item_description  \n",
       "0         1                                 No description yet  \n",
       "1         0  This keyboard is in great condition and works ...  \n",
       "2         1  Adorable top with a hint of lace and a key hol...  \n",
       "3         1  New with tags. Leather horses. Retail for [rm]...  \n",
       "4         0          Complete with certificate of authenticity  "
      ]
     },
     "execution_count": 3,
     "metadata": {},
     "output_type": "execute_result"
    }
   ],
   "source": [
    "# check data\n",
    "train_data_set.head(5)"
   ]
  },
  {
   "cell_type": "code",
   "execution_count": 4,
   "metadata": {},
   "outputs": [
    {
     "name": "stdout",
     "output_type": "stream",
     "text": [
      "There are unique brands: 4809\n",
      "of which 632682 have no brand assigned\n"
     ]
    },
    {
     "data": {
      "text/plain": [
       "brand_name\n",
       "PINK                 54088\n",
       "Nike                 54043\n",
       "Victoria's Secret    48036\n",
       "LuLaRoe              31024\n",
       "Apple                17322\n",
       "FOREVER 21           15186\n",
       "Nintendo             15007\n",
       "Lululemon            14558\n",
       "Michael Kors         13928\n",
       "American Eagle       13254\n",
       "Rae Dunn             12305\n",
       "Sephora              12172\n",
       "Coach                10463\n",
       "Disney               10360\n",
       "Bath & Body Works    10354\n",
       "Adidas               10202\n",
       "Funko                 9237\n",
       "Under Armour          8461\n",
       "Sony                  7994\n",
       "Old Navy              7567\n",
       "dtype: int64"
      ]
     },
     "execution_count": 4,
     "metadata": {},
     "output_type": "execute_result"
    }
   ],
   "source": [
    "# group by brands and check the most popular\n",
    "brands = train_data_set.groupby(['brand_name']).size()\n",
    "\n",
    "print('There are unique brands:', brands.shape[0])\n",
    "print('of which {} have no brand assigned'.format(train_data_set[train_data_set['brand_name'].isnull()].shape[0]))\n",
    "\n",
    "brands.sort_values(ascending=False).head(20)"
   ]
  },
  {
   "cell_type": "code",
   "execution_count": 5,
   "metadata": {
    "scrolled": false
   },
   "outputs": [
    {
     "data": {
      "image/png": "[encoded data removed]",
      "text/plain": [
       "<Figure size 1080x720 with 1 Axes>"
      ]
     },
     "metadata": {
      "needs_background": "light"
     },
     "output_type": "display_data"
    }
   ],
   "source": [
    "# Top 50 common Brands\n",
    "top_brands = train_data_set['brand_name'].value_counts()[0:50].reset_index()\\\n",
    "            .rename(columns={'index': 'brand_name', 'brand_name':'count'})\n",
    "\n",
    "plt.figure(figsize=(15,10))\n",
    "ax = sns.barplot(x=\"brand_name\", y=\"count\", data=top_brands, palette='Paired')\n",
    "ax.set_xticklabels(ax.get_xticklabels(),rotation=90)\n",
    "\n",
    "# set title\n",
    "ax.set_title('Top most popular brands')\n",
    "plt.show()"
   ]
  },
  {
   "cell_type": "code",
   "execution_count": 6,
   "metadata": {},
   "outputs": [
    {
     "data": {
      "image/png": "[encoded data removed]",
      "text/plain": [
       "<Figure size 1080x720 with 1 Axes>"
      ]
     },
     "metadata": {
      "needs_background": "light"
     },
     "output_type": "display_data"
    }
   ],
   "source": [
    "# Top 50 expensive brands\n",
    "top_expensive = train_data_set.groupby('brand_name', axis=0).mean()\n",
    "df_top_expensive = pd.DataFrame(top_expensive.sort_values('price', ascending = False)\\\n",
    "                                ['price'][0:50].reset_index())\n",
    "\n",
    "\n",
    "plt.figure(figsize=(15, 10))\n",
    "ax = sns.barplot(x=\"brand_name\", y=\"price\", data=df_top_expensive, palette='Paired')\n",
    "ax.set_xticklabels(ax.get_xticklabels(), rotation=90, fontsize=12)\n",
    "\n",
    "# set title\n",
    "ax.set_title('Top 20 Expensive Brand')\n",
    "plt.show()"
   ]
  },
  {
   "cell_type": "code",
   "execution_count": 7,
   "metadata": {},
   "outputs": [
    {
     "data": {
      "image/png": "[encoded data removed]",
      "text/plain": [
       "<Figure size 1080x720 with 1 Axes>"
      ]
     },
     "metadata": {
      "needs_background": "light"
     },
     "output_type": "display_data"
    }
   ],
   "source": [
    "# price distribution for items with and without shiping\n",
    "\n",
    "shipping = train_data_set[train_data_set['shipping']==1]['price']\n",
    "no_shipping = train_data_set[train_data_set['shipping']==0]['price']\n",
    "\n",
    "plt.figure(figsize=(15, 10))\n",
    "plt.hist(shipping, bins=50, range=[0,250], alpha=0.5, label='Price WITH shipping', color='orange')\n",
    "plt.hist(no_shipping, bins=50, range=[0,250], alpha=0.3, label='Price NO shipping', color='blue')\n",
    "plt.title('Price distrubution with and without shipping', fontsize=15)\n",
    "\n",
    "plt.xlabel('Price', fontsize=20)\n",
    "plt.ylabel('Samples', fontsize=20)\n",
    "plt.legend()\n",
    "\n",
    "plt.show()"
   ]
  },
  {
   "cell_type": "code",
   "execution_count": 8,
   "metadata": {},
   "outputs": [
    {
     "data": {
      "image/png": "[encoded data removed]",
      "text/plain": [
       "<Figure size 1080x720 with 1 Axes>"
      ]
     },
     "metadata": {
      "needs_background": "light"
     },
     "output_type": "display_data"
    }
   ],
   "source": [
    "# item condition distribution\n",
    "\n",
    "plt.figure(figsize=(15, 10))\n",
    "\n",
    "ax = sns.distplot(train_data_set['item_condition_id'], kde=False)\n",
    "\n",
    "plt.title('Item condition distribution', fontsize=20)\n",
    "plt.xlabel('Item condition', fontsize=20)\n",
    "plt.ylabel('Samples', fontsize=15)\n",
    "\n",
    "plt.show()"
   ]
  },
  {
   "cell_type": "code",
   "execution_count": 9,
   "metadata": {},
   "outputs": [
    {
     "name": "stdout",
     "output_type": "stream",
     "text": [
      "There are 82489 items with no description\n"
     ]
    },
    {
     "data": {
      "text/html": [
       "<div>\n",
       "<style scoped>\n",
       "    .dataframe tbody tr th:only-of-type {\n",
       "        vertical-align: middle;\n",
       "    }\n",
       "\n",
       "    .dataframe tbody tr th {\n",
       "        vertical-align: top;\n",
       "    }\n",
       "\n",
       "    .dataframe thead th {\n",
       "        text-align: right;\n",
       "    }\n",
       "</style>\n",
       "<table border=\"1\" class=\"dataframe\">\n",
       "  <thead>\n",
       "    <tr style=\"text-align: right;\">\n",
       "      <th></th>\n",
       "      <th>train_id</th>\n",
       "      <th>name</th>\n",
       "      <th>item_condition_id</th>\n",
       "      <th>category_name</th>\n",
       "      <th>brand_name</th>\n",
       "      <th>price</th>\n",
       "      <th>shipping</th>\n",
       "      <th>item_description</th>\n",
       "    </tr>\n",
       "  </thead>\n",
       "  <tbody>\n",
       "    <tr>\n",
       "      <th>0</th>\n",
       "      <td>0</td>\n",
       "      <td>MLB Cincinnati Reds T Shirt Size XL</td>\n",
       "      <td>3</td>\n",
       "      <td>Men/Tops/T-shirts</td>\n",
       "      <td>NaN</td>\n",
       "      <td>10.0</td>\n",
       "      <td>1</td>\n",
       "      <td>No description yet</td>\n",
       "    </tr>\n",
       "    <tr>\n",
       "      <th>13</th>\n",
       "      <td>13</td>\n",
       "      <td>Sharpener and eraser</td>\n",
       "      <td>1</td>\n",
       "      <td>Other/Office supplies/School Supplies</td>\n",
       "      <td>Scholastic</td>\n",
       "      <td>4.0</td>\n",
       "      <td>1</td>\n",
       "      <td>No description yet</td>\n",
       "    </tr>\n",
       "    <tr>\n",
       "      <th>31</th>\n",
       "      <td>31</td>\n",
       "      <td>New Lularoe OS leggings, stars</td>\n",
       "      <td>1</td>\n",
       "      <td>Women/Athletic Apparel/Pants, Tights, Leggings</td>\n",
       "      <td>NaN</td>\n",
       "      <td>50.0</td>\n",
       "      <td>1</td>\n",
       "      <td>No description yet</td>\n",
       "    </tr>\n",
       "    <tr>\n",
       "      <th>90</th>\n",
       "      <td>90</td>\n",
       "      <td>Jewel holder</td>\n",
       "      <td>2</td>\n",
       "      <td>Home/Storage &amp; Organization/Jewelry Boxes &amp; Or...</td>\n",
       "      <td>Target</td>\n",
       "      <td>7.0</td>\n",
       "      <td>1</td>\n",
       "      <td>No description yet</td>\n",
       "    </tr>\n",
       "    <tr>\n",
       "      <th>117</th>\n",
       "      <td>117</td>\n",
       "      <td>Eyeko liquid eyeliner</td>\n",
       "      <td>1</td>\n",
       "      <td>Beauty/Makeup/Eyes</td>\n",
       "      <td>NaN</td>\n",
       "      <td>5.0</td>\n",
       "      <td>1</td>\n",
       "      <td>No description yet</td>\n",
       "    </tr>\n",
       "  </tbody>\n",
       "</table>\n",
       "</div>"
      ],
      "text/plain": [
       "     train_id                                 name  item_condition_id  \\\n",
       "0           0  MLB Cincinnati Reds T Shirt Size XL                  3   \n",
       "13         13                 Sharpener and eraser                  1   \n",
       "31         31       New Lularoe OS leggings, stars                  1   \n",
       "90         90                         Jewel holder                  2   \n",
       "117       117                Eyeko liquid eyeliner                  1   \n",
       "\n",
       "                                         category_name  brand_name  price  \\\n",
       "0                                    Men/Tops/T-shirts         NaN   10.0   \n",
       "13               Other/Office supplies/School Supplies  Scholastic    4.0   \n",
       "31      Women/Athletic Apparel/Pants, Tights, Leggings         NaN   50.0   \n",
       "90   Home/Storage & Organization/Jewelry Boxes & Or...      Target    7.0   \n",
       "117                                 Beauty/Makeup/Eyes         NaN    5.0   \n",
       "\n",
       "     shipping    item_description  \n",
       "0           1  No description yet  \n",
       "13          1  No description yet  \n",
       "31          1  No description yet  \n",
       "90          1  No description yet  \n",
       "117         1  No description yet  "
      ]
     },
     "execution_count": 9,
     "metadata": {},
     "output_type": "execute_result"
    }
   ],
   "source": [
    "# items with no description\n",
    "no_description = train_data_set[train_data_set['item_description']=='No description yet']\n",
    "print('There are {} items with no description'.format(no_description.shape[0]))\n",
    "\n",
    "# select top 5\n",
    "no_description.head(5)"
   ]
  },
  {
   "cell_type": "code",
   "execution_count": 10,
   "metadata": {},
   "outputs": [
    {
     "data": {
      "text/plain": [
       "<Figure size 1080x720 with 0 Axes>"
      ]
     },
     "metadata": {},
     "output_type": "display_data"
    },
    {
     "data": {
      "image/png": "[encoded data removed]",
      "text/plain": [
       "<Figure size 432x432 with 3 Axes>"
      ]
     },
     "metadata": {
      "needs_background": "light"
     },
     "output_type": "display_data"
    }
   ],
   "source": [
    "# looking for correlations between price and item condition\n",
    "# expect to get higher price from items in condition = 1, cheaper as condition = 5\n",
    "# there is not a very clear correlation other than bad items tend to be cheaper\n",
    "\n",
    "plt.figure(figsize=(15, 10))\n",
    "sns.jointplot(x=\"item_condition_id\", y=\"price\", data=train_data_set)\n",
    "\n",
    "plt.show()"
   ]
  },
  {
   "cell_type": "code",
   "execution_count": 11,
   "metadata": {
    "scrolled": false
   },
   "outputs": [
    {
     "data": {
      "image/png": "[encoded data removed]",
      "text/plain": [
       "<Figure size 1080x720 with 1 Axes>"
      ]
     },
     "metadata": {
      "needs_background": "light"
     },
     "output_type": "display_data"
    }
   ],
   "source": [
    "# Check prices, everything seems to be on the \"cheaper side\"\n",
    "\n",
    "plt.figure(figsize=(15, 10))\n",
    "ax = sns.distplot(train_data_set['price'], label='Price')\n",
    "plt.xlabel('Price', fontsize=20)\n",
    "\n",
    "plt.legend()\n",
    "plt.show()"
   ]
  },
  {
   "cell_type": "markdown",
   "metadata": {},
   "source": [
    "# Data wrangling and Cleansing\n",
    "\n",
    "* There are <b>874</b> entries with <b>price = 0/free</b>, should we drop them? as it does not make sence and will confuse our model I think.\n",
    "* Replace <b>NaN</b> values with empty spaces?"
   ]
  },
  {
   "cell_type": "code",
   "execution_count": 12,
   "metadata": {},
   "outputs": [
    {
     "data": {
      "text/html": [
       "<div>\n",
       "<style scoped>\n",
       "    .dataframe tbody tr th:only-of-type {\n",
       "        vertical-align: middle;\n",
       "    }\n",
       "\n",
       "    .dataframe tbody tr th {\n",
       "        vertical-align: top;\n",
       "    }\n",
       "\n",
       "    .dataframe thead th {\n",
       "        text-align: right;\n",
       "    }\n",
       "</style>\n",
       "<table border=\"1\" class=\"dataframe\">\n",
       "  <thead>\n",
       "    <tr style=\"text-align: right;\">\n",
       "      <th></th>\n",
       "      <th>train_id</th>\n",
       "      <th>name</th>\n",
       "      <th>item_condition_id</th>\n",
       "      <th>category_name</th>\n",
       "      <th>brand_name</th>\n",
       "      <th>price</th>\n",
       "      <th>shipping</th>\n",
       "      <th>item_description</th>\n",
       "    </tr>\n",
       "  </thead>\n",
       "  <tbody>\n",
       "    <tr>\n",
       "      <th>1325</th>\n",
       "      <td>1325</td>\n",
       "      <td>Alabama Crimson Tide Quality Lanyard</td>\n",
       "      <td>1</td>\n",
       "      <td>Sports &amp; Outdoors/Fan Shop/NCAA</td>\n",
       "      <td>NaN</td>\n",
       "      <td>0.0</td>\n",
       "      <td>1</td>\n",
       "      <td>TOP QUALITY THICK LANYARD Reversible sides wit...</td>\n",
       "    </tr>\n",
       "    <tr>\n",
       "      <th>2544</th>\n",
       "      <td>2544</td>\n",
       "      <td>Levi leggings</td>\n",
       "      <td>3</td>\n",
       "      <td>Women/Jeans/Slim, Skinny</td>\n",
       "      <td>Levi's®</td>\n",
       "      <td>0.0</td>\n",
       "      <td>0</td>\n",
       "      <td>Light wash. Hardly worn. Size 24 but fits like...</td>\n",
       "    </tr>\n",
       "    <tr>\n",
       "      <th>2712</th>\n",
       "      <td>2712</td>\n",
       "      <td>Simple Red Lace Lingerie Top</td>\n",
       "      <td>3</td>\n",
       "      <td>Women/Underwear/G-Strings &amp; Thongs</td>\n",
       "      <td>NaN</td>\n",
       "      <td>0.0</td>\n",
       "      <td>0</td>\n",
       "      <td>Very simple but cute, a little form fitting as...</td>\n",
       "    </tr>\n",
       "    <tr>\n",
       "      <th>3576</th>\n",
       "      <td>3576</td>\n",
       "      <td>Turquoise 15 Pc Makeup Brush Set</td>\n",
       "      <td>1</td>\n",
       "      <td>Beauty/Tools &amp; Accessories/Makeup Brushes &amp; Tools</td>\n",
       "      <td>NaN</td>\n",
       "      <td>0.0</td>\n",
       "      <td>1</td>\n",
       "      <td>1 left!</td>\n",
       "    </tr>\n",
       "    <tr>\n",
       "      <th>3761</th>\n",
       "      <td>3761</td>\n",
       "      <td>Girls size 7/8</td>\n",
       "      <td>3</td>\n",
       "      <td>Kids/Girls (4+)/Tops &amp; T-Shirts</td>\n",
       "      <td>NaN</td>\n",
       "      <td>0.0</td>\n",
       "      <td>1</td>\n",
       "      <td>5 pair gap jean excellent used condition 3 chi...</td>\n",
       "    </tr>\n",
       "  </tbody>\n",
       "</table>\n",
       "</div>"
      ],
      "text/plain": [
       "      train_id                                  name  item_condition_id  \\\n",
       "1325      1325  Alabama Crimson Tide Quality Lanyard                  1   \n",
       "2544      2544                         Levi leggings                  3   \n",
       "2712      2712          Simple Red Lace Lingerie Top                  3   \n",
       "3576      3576      Turquoise 15 Pc Makeup Brush Set                  1   \n",
       "3761      3761                        Girls size 7/8                  3   \n",
       "\n",
       "                                          category_name brand_name  price  \\\n",
       "1325                    Sports & Outdoors/Fan Shop/NCAA        NaN    0.0   \n",
       "2544                           Women/Jeans/Slim, Skinny    Levi's®    0.0   \n",
       "2712                 Women/Underwear/G-Strings & Thongs        NaN    0.0   \n",
       "3576  Beauty/Tools & Accessories/Makeup Brushes & Tools        NaN    0.0   \n",
       "3761                    Kids/Girls (4+)/Tops & T-Shirts        NaN    0.0   \n",
       "\n",
       "      shipping                                   item_description  \n",
       "1325         1  TOP QUALITY THICK LANYARD Reversible sides wit...  \n",
       "2544         0  Light wash. Hardly worn. Size 24 but fits like...  \n",
       "2712         0  Very simple but cute, a little form fitting as...  \n",
       "3576         1                                            1 left!  \n",
       "3761         1  5 pair gap jean excellent used condition 3 chi...  "
      ]
     },
     "execution_count": 12,
     "metadata": {},
     "output_type": "execute_result"
    }
   ],
   "source": [
    "# free items??? price == 0\n",
    "# not very useful\n",
    "\n",
    "train_data_set[train_data_set['price']==0].head(5)"
   ]
  },
  {
   "cell_type": "code",
   "execution_count": 13,
   "metadata": {
    "scrolled": false
   },
   "outputs": [
    {
     "data": {
      "text/html": [
       "<div>\n",
       "<style scoped>\n",
       "    .dataframe tbody tr th:only-of-type {\n",
       "        vertical-align: middle;\n",
       "    }\n",
       "\n",
       "    .dataframe tbody tr th {\n",
       "        vertical-align: top;\n",
       "    }\n",
       "\n",
       "    .dataframe thead th {\n",
       "        text-align: right;\n",
       "    }\n",
       "</style>\n",
       "<table border=\"1\" class=\"dataframe\">\n",
       "  <thead>\n",
       "    <tr style=\"text-align: right;\">\n",
       "      <th></th>\n",
       "      <th>train_id</th>\n",
       "      <th>name</th>\n",
       "      <th>item_condition_id</th>\n",
       "      <th>category_name</th>\n",
       "      <th>brand_name</th>\n",
       "      <th>price</th>\n",
       "      <th>shipping</th>\n",
       "      <th>item_description</th>\n",
       "    </tr>\n",
       "  </thead>\n",
       "  <tbody>\n",
       "    <tr>\n",
       "      <th>0</th>\n",
       "      <td>0</td>\n",
       "      <td>MLB Cincinnati Reds T Shirt Size XL</td>\n",
       "      <td>3</td>\n",
       "      <td>Men/Tops/T-shirts</td>\n",
       "      <td>Unknown</td>\n",
       "      <td>10.0</td>\n",
       "      <td>1</td>\n",
       "      <td>No description yet</td>\n",
       "    </tr>\n",
       "    <tr>\n",
       "      <th>1</th>\n",
       "      <td>1</td>\n",
       "      <td>Razer BlackWidow Chroma Keyboard</td>\n",
       "      <td>3</td>\n",
       "      <td>Electronics/Computers &amp; Tablets/Components &amp; P...</td>\n",
       "      <td>Razer</td>\n",
       "      <td>52.0</td>\n",
       "      <td>0</td>\n",
       "      <td>This keyboard is in great condition and works ...</td>\n",
       "    </tr>\n",
       "    <tr>\n",
       "      <th>2</th>\n",
       "      <td>2</td>\n",
       "      <td>AVA-VIV Blouse</td>\n",
       "      <td>1</td>\n",
       "      <td>Women/Tops &amp; Blouses/Blouse</td>\n",
       "      <td>Target</td>\n",
       "      <td>10.0</td>\n",
       "      <td>1</td>\n",
       "      <td>Adorable top with a hint of lace and a key hol...</td>\n",
       "    </tr>\n",
       "    <tr>\n",
       "      <th>3</th>\n",
       "      <td>3</td>\n",
       "      <td>Leather Horse Statues</td>\n",
       "      <td>1</td>\n",
       "      <td>Home/Home Décor/Home Décor Accents</td>\n",
       "      <td>Unknown</td>\n",
       "      <td>35.0</td>\n",
       "      <td>1</td>\n",
       "      <td>New with tags. Leather horses. Retail for [rm]...</td>\n",
       "    </tr>\n",
       "    <tr>\n",
       "      <th>4</th>\n",
       "      <td>4</td>\n",
       "      <td>24K GOLD plated rose</td>\n",
       "      <td>1</td>\n",
       "      <td>Women/Jewelry/Necklaces</td>\n",
       "      <td>Unknown</td>\n",
       "      <td>44.0</td>\n",
       "      <td>0</td>\n",
       "      <td>Complete with certificate of authenticity</td>\n",
       "    </tr>\n",
       "    <tr>\n",
       "      <th>5</th>\n",
       "      <td>5</td>\n",
       "      <td>Bundled items requested for Ruie</td>\n",
       "      <td>3</td>\n",
       "      <td>Women/Other/Other</td>\n",
       "      <td>Unknown</td>\n",
       "      <td>59.0</td>\n",
       "      <td>0</td>\n",
       "      <td>Banana republic bottoms, Candies skirt with ma...</td>\n",
       "    </tr>\n",
       "    <tr>\n",
       "      <th>6</th>\n",
       "      <td>6</td>\n",
       "      <td>Acacia pacific tides santorini top</td>\n",
       "      <td>3</td>\n",
       "      <td>Women/Swimwear/Two-Piece</td>\n",
       "      <td>Acacia Swimwear</td>\n",
       "      <td>64.0</td>\n",
       "      <td>0</td>\n",
       "      <td>Size small but straps slightly shortened to fi...</td>\n",
       "    </tr>\n",
       "    <tr>\n",
       "      <th>7</th>\n",
       "      <td>7</td>\n",
       "      <td>Girls cheer and tumbling bundle of 7</td>\n",
       "      <td>3</td>\n",
       "      <td>Sports &amp; Outdoors/Apparel/Girls</td>\n",
       "      <td>Soffe</td>\n",
       "      <td>6.0</td>\n",
       "      <td>1</td>\n",
       "      <td>You get three pairs of Sophie cheer shorts siz...</td>\n",
       "    </tr>\n",
       "    <tr>\n",
       "      <th>8</th>\n",
       "      <td>8</td>\n",
       "      <td>Girls Nike Pro shorts</td>\n",
       "      <td>3</td>\n",
       "      <td>Sports &amp; Outdoors/Apparel/Girls</td>\n",
       "      <td>Nike</td>\n",
       "      <td>19.0</td>\n",
       "      <td>0</td>\n",
       "      <td>Girls Size small Plus green. Three shorts total.</td>\n",
       "    </tr>\n",
       "    <tr>\n",
       "      <th>9</th>\n",
       "      <td>9</td>\n",
       "      <td>Porcelain clown doll checker pants VTG</td>\n",
       "      <td>3</td>\n",
       "      <td>Vintage &amp; Collectibles/Collectibles/Doll</td>\n",
       "      <td>Unknown</td>\n",
       "      <td>8.0</td>\n",
       "      <td>0</td>\n",
       "      <td>I realized his pants are on backwards after th...</td>\n",
       "    </tr>\n",
       "  </tbody>\n",
       "</table>\n",
       "</div>"
      ],
      "text/plain": [
       "   train_id                                    name  item_condition_id  \\\n",
       "0         0     MLB Cincinnati Reds T Shirt Size XL                  3   \n",
       "1         1        Razer BlackWidow Chroma Keyboard                  3   \n",
       "2         2                          AVA-VIV Blouse                  1   \n",
       "3         3                   Leather Horse Statues                  1   \n",
       "4         4                    24K GOLD plated rose                  1   \n",
       "5         5        Bundled items requested for Ruie                  3   \n",
       "6         6      Acacia pacific tides santorini top                  3   \n",
       "7         7    Girls cheer and tumbling bundle of 7                  3   \n",
       "8         8                   Girls Nike Pro shorts                  3   \n",
       "9         9  Porcelain clown doll checker pants VTG                  3   \n",
       "\n",
       "                                       category_name       brand_name  price  \\\n",
       "0                                  Men/Tops/T-shirts          Unknown   10.0   \n",
       "1  Electronics/Computers & Tablets/Components & P...            Razer   52.0   \n",
       "2                        Women/Tops & Blouses/Blouse           Target   10.0   \n",
       "3                 Home/Home Décor/Home Décor Accents          Unknown   35.0   \n",
       "4                            Women/Jewelry/Necklaces          Unknown   44.0   \n",
       "5                                  Women/Other/Other          Unknown   59.0   \n",
       "6                           Women/Swimwear/Two-Piece  Acacia Swimwear   64.0   \n",
       "7                    Sports & Outdoors/Apparel/Girls            Soffe    6.0   \n",
       "8                    Sports & Outdoors/Apparel/Girls             Nike   19.0   \n",
       "9           Vintage & Collectibles/Collectibles/Doll          Unknown    8.0   \n",
       "\n",
       "   shipping                                   item_description  \n",
       "0         1                                 No description yet  \n",
       "1         0  This keyboard is in great condition and works ...  \n",
       "2         1  Adorable top with a hint of lace and a key hol...  \n",
       "3         1  New with tags. Leather horses. Retail for [rm]...  \n",
       "4         0          Complete with certificate of authenticity  \n",
       "5         0  Banana republic bottoms, Candies skirt with ma...  \n",
       "6         0  Size small but straps slightly shortened to fi...  \n",
       "7         1  You get three pairs of Sophie cheer shorts siz...  \n",
       "8         0   Girls Size small Plus green. Three shorts total.  \n",
       "9         0  I realized his pants are on backwards after th...  "
      ]
     },
     "execution_count": 13,
     "metadata": {},
     "output_type": "execute_result"
    }
   ],
   "source": [
    "# data cleansing\n",
    "\n",
    "# rename Nan to unkown brand\n",
    "train_data_set['brand_name'].fillna('Unknown', inplace=True)\n",
    "\n",
    "# keep only items that have a price\n",
    "train_data_set = train_data_set[train_data_set['price']!=0]\n",
    "\n",
    "# replace NaN values with empty cells\n",
    "train_data_set.fillna('', inplace=True)\n",
    "\n",
    "train_data_set.head(10)"
   ]
  },
  {
   "cell_type": "markdown",
   "metadata": {},
   "source": [
    "### Transforming strings\n",
    "contains some functions to transform sentences\n",
    "\n",
    "* remove english stopwords:\n",
    "    * <b>remove_stop_words(sentence)</b>\n",
    "        * should dicuss if we need to remove words like 'no', 'not'\n",
    "        * full list of nltk words cell below.\n",
    "* make sentence to lowercase:\n",
    "    * <b>to_lower_case(sentence)</b>\n",
    "* remove_numbers from sentence:\n",
    "    * <b>remove_numbers(sentence)</b> \n",
    "* remove special characters from sentence expcept white spaces:\n",
    "    * <b>remove_special_chars(sentence)</b>\n",
    "    \n",
    "Apply these transformation to colums 'item_description' and 'name'"
   ]
  },
  {
   "cell_type": "code",
   "execution_count": 14,
   "metadata": {},
   "outputs": [
    {
     "name": "stdout",
     "output_type": "stream",
     "text": [
      "full list of stop words:\n",
      " ['i', 'me', 'my', 'myself', 'we', 'our', 'ours', 'ourselves', 'you', \"you're\", \"you've\", \"you'll\", \"you'd\", 'your', 'yours', 'yourself', 'yourselves', 'he', 'him', 'his', 'himself', 'she', \"she's\", 'her', 'hers', 'herself', 'it', \"it's\", 'its', 'itself', 'they', 'them', 'their', 'theirs', 'themselves', 'what', 'which', 'who', 'whom', 'this', 'that', \"that'll\", 'these', 'those', 'am', 'is', 'are', 'was', 'were', 'be', 'been', 'being', 'have', 'has', 'had', 'having', 'do', 'does', 'did', 'doing', 'a', 'an', 'the', 'and', 'but', 'if', 'or', 'because', 'as', 'until', 'while', 'of', 'at', 'by', 'for', 'with', 'about', 'against', 'between', 'into', 'through', 'during', 'before', 'after', 'above', 'below', 'to', 'from', 'up', 'down', 'in', 'out', 'on', 'off', 'over', 'under', 'again', 'further', 'then', 'once', 'here', 'there', 'when', 'where', 'why', 'how', 'all', 'any', 'both', 'each', 'few', 'more', 'most', 'other', 'some', 'such', 'no', 'nor', 'not', 'only', 'own', 'same', 'so', 'than', 'too', 'very', 's', 't', 'can', 'will', 'just', 'don', \"don't\", 'should', \"should've\", 'now', 'd', 'll', 'm', 'o', 're', 've', 'y', 'ain', 'aren', \"aren't\", 'couldn', \"couldn't\", 'didn', \"didn't\", 'doesn', \"doesn't\", 'hadn', \"hadn't\", 'hasn', \"hasn't\", 'haven', \"haven't\", 'isn', \"isn't\", 'ma', 'mightn', \"mightn't\", 'mustn', \"mustn't\", 'needn', \"needn't\", 'shan', \"shan't\", 'shouldn', \"shouldn't\", 'wasn', \"wasn't\", 'weren', \"weren't\", 'won', \"won't\", 'wouldn', \"wouldn't\"]\n",
      "# words: 179\n"
     ]
    }
   ],
   "source": [
    "# should we keep some words from this list?\n",
    "# ('no', 'nor', 'not', 'few') do they indicate something useful like negative description?\n",
    "print('full list of stop words:\\n', eng_stp_words)\n",
    "# 179 words\n",
    "print('# words:', len(eng_stp_words))\n",
    "\n",
    "# use this string to ged rid of nltk library\n",
    "#['i', 'me', 'my', 'myself', 'we', 'our', 'ours', 'ourselves','you', \"you're\", \"you've\", \"you'll\", \"you'd\", 'your', 'yours', 'yourself', 'yourselves', 'he', 'him', 'his', 'himself', 'she', \"she's\", 'her', 'hers', 'herself', 'it', \"it's\", 'its', 'itself', 'they', 'them', 'their', 'theirs', 'themselves', 'what', 'which', 'who', 'whom', 'this', 'that', \"that'll\", 'these', 'those', 'am', 'is', 'are', 'was', 'were', 'be', 'been', 'being', 'have', 'has', 'had', 'having', 'do', 'does', 'did', 'doing', 'a', 'an', 'the', 'and', 'but', 'if', 'or', 'because', 'as', 'until', 'while', 'of', 'at', 'by', 'for', 'with', 'about', 'against', 'between', 'into', 'through', 'during', 'before', 'after', 'above', 'below', 'to', 'from', 'up', 'down', 'in', 'out', 'on', 'off', 'over', 'under', 'again', 'further', 'then', 'once', 'here', 'there', 'when', 'where', 'why', 'how', 'all', 'any', 'both', 'each', 'few', 'more', 'most', 'other', 'some', 'such', 'no', 'nor', 'not', 'only', 'own', 'same', 'so', 'than', 'too', 'very', 's', 't', 'can', 'will', 'just', 'don', \"don't\", 'should', \"should've\", 'now', 'd', 'll', 'm', 'o', 're', 've', 'y', 'ain', 'aren', \"aren't\", 'couldn', \"couldn't\", 'didn', \"didn't\", 'doesn', \"doesn't\", 'hadn', \"hadn't\", 'hasn', \"hasn't\", 'haven', \"haven't\", 'isn', \"isn't\", 'ma', 'mightn', \"mightn't\", 'mustn', \"mustn't\", 'needn', \"needn't\", 'shan', \"shan't\", 'shouldn', \"shouldn't\", 'wasn', \"wasn't\", 'weren', \"weren't\", 'won', \"won't\", 'wouldn', \"wouldn't\"]\n"
   ]
  },
  {
   "cell_type": "code",
   "execution_count": 15,
   "metadata": {},
   "outputs": [],
   "source": [
    "# cdata transformation functions\n",
    "\n",
    "def remove_stop_words(sentence):\n",
    "    \"\"\" using the nltk lib, gets rid of english stopwords \"\"\"\n",
    "    \n",
    "    sentence = ' '.join([w for w in sentence.split(' ') if w not in eng_stp_words])\n",
    "    \n",
    "    return sentence\n",
    "\n",
    "def to_lower_case(sentence):\n",
    "    \"\"\" returns lower case \"\"\"\n",
    "    \n",
    "    lower_sentence = sentence.lower()\n",
    "    \n",
    "    return lower_sentence\n",
    "\n",
    "def remove_numbers(sentence):\n",
    "    \"\"\" removes numeric values from sentence using regular expression \"\"\"\n",
    "    \n",
    "    sentence_no_digit = re.sub(r'\\d+', '', sentence)\n",
    "    \n",
    "    return sentence_no_digit\n",
    "\n",
    "def remove_special_chars(sentence):\n",
    "    \"\"\" removes special characters from sentence using regular expression \"\"\"\n",
    "    \n",
    "    # remove special characters EXCEPT white spaces\n",
    "    sentence_no_spchar = re.sub(r'\\W+',' ', sentence)\n",
    "    \n",
    "    return sentence_no_spchar\n",
    "\n",
    "def clean_sentence(sentence):\n",
    "    \"\"\" piles up cleaning functions defined by the team \"\"\"\n",
    "    \n",
    "    # remove special characters\n",
    "    sentence = remove_special_chars(sentence)\n",
    "    # remove numbers\n",
    "    sentence = remove_numbers(sentence)\n",
    "    # lowercase\n",
    "    sentence = to_lower_case(sentence)\n",
    "    # remove stopwords\n",
    "    sentence = remove_stop_words(sentence)\n",
    "\n",
    "    return sentence\n",
    "\n",
    "# test #\n",
    "# print(clean_sentence('Hello World! this is TesT 54 TO remove $ = speciaL CHars & keep words'))"
   ]
  },
  {
   "cell_type": "code",
   "execution_count": 16,
   "metadata": {},
   "outputs": [],
   "source": [
    "# clean sentence from description and adds to new column 'item_description_cln'\n",
    "# takes some time to apply changes... let's go for coffee\n",
    "\n",
    "train_data_set['item_description'] = train_data_set['item_description'].apply(clean_sentence)\n",
    "train_data_set['name'] = train_data_set['name'].apply(clean_sentence)"
   ]
  },
  {
   "cell_type": "code",
   "execution_count": 17,
   "metadata": {
    "scrolled": false
   },
   "outputs": [
    {
     "data": {
      "text/html": [
       "<div>\n",
       "<style scoped>\n",
       "    .dataframe tbody tr th:only-of-type {\n",
       "        vertical-align: middle;\n",
       "    }\n",
       "\n",
       "    .dataframe tbody tr th {\n",
       "        vertical-align: top;\n",
       "    }\n",
       "\n",
       "    .dataframe thead th {\n",
       "        text-align: right;\n",
       "    }\n",
       "</style>\n",
       "<table border=\"1\" class=\"dataframe\">\n",
       "  <thead>\n",
       "    <tr style=\"text-align: right;\">\n",
       "      <th></th>\n",
       "      <th>train_id</th>\n",
       "      <th>name</th>\n",
       "      <th>item_condition_id</th>\n",
       "      <th>category_name</th>\n",
       "      <th>brand_name</th>\n",
       "      <th>price</th>\n",
       "      <th>shipping</th>\n",
       "      <th>item_description</th>\n",
       "    </tr>\n",
       "  </thead>\n",
       "  <tbody>\n",
       "    <tr>\n",
       "      <th>0</th>\n",
       "      <td>0</td>\n",
       "      <td>mlb cincinnati reds shirt size xl</td>\n",
       "      <td>3</td>\n",
       "      <td>Men/Tops/T-shirts</td>\n",
       "      <td>Unknown</td>\n",
       "      <td>10.0</td>\n",
       "      <td>1</td>\n",
       "      <td>description yet</td>\n",
       "    </tr>\n",
       "    <tr>\n",
       "      <th>1</th>\n",
       "      <td>1</td>\n",
       "      <td>razer blackwidow chroma keyboard</td>\n",
       "      <td>3</td>\n",
       "      <td>Electronics/Computers &amp; Tablets/Components &amp; P...</td>\n",
       "      <td>Razer</td>\n",
       "      <td>52.0</td>\n",
       "      <td>0</td>\n",
       "      <td>keyboard great condition works like came box p...</td>\n",
       "    </tr>\n",
       "    <tr>\n",
       "      <th>2</th>\n",
       "      <td>2</td>\n",
       "      <td>ava viv blouse</td>\n",
       "      <td>1</td>\n",
       "      <td>Women/Tops &amp; Blouses/Blouse</td>\n",
       "      <td>Target</td>\n",
       "      <td>10.0</td>\n",
       "      <td>1</td>\n",
       "      <td>adorable top hint lace key hole back pale pink...</td>\n",
       "    </tr>\n",
       "    <tr>\n",
       "      <th>3</th>\n",
       "      <td>3</td>\n",
       "      <td>leather horse statues</td>\n",
       "      <td>1</td>\n",
       "      <td>Home/Home Décor/Home Décor Accents</td>\n",
       "      <td>Unknown</td>\n",
       "      <td>35.0</td>\n",
       "      <td>1</td>\n",
       "      <td>new tags leather horses retail rm stand foot h...</td>\n",
       "    </tr>\n",
       "    <tr>\n",
       "      <th>4</th>\n",
       "      <td>4</td>\n",
       "      <td>k gold plated rose</td>\n",
       "      <td>1</td>\n",
       "      <td>Women/Jewelry/Necklaces</td>\n",
       "      <td>Unknown</td>\n",
       "      <td>44.0</td>\n",
       "      <td>0</td>\n",
       "      <td>complete certificate authenticity</td>\n",
       "    </tr>\n",
       "  </tbody>\n",
       "</table>\n",
       "</div>"
      ],
      "text/plain": [
       "   train_id                               name  item_condition_id  \\\n",
       "0         0  mlb cincinnati reds shirt size xl                  3   \n",
       "1         1   razer blackwidow chroma keyboard                  3   \n",
       "2         2                     ava viv blouse                  1   \n",
       "3         3              leather horse statues                  1   \n",
       "4         4                 k gold plated rose                  1   \n",
       "\n",
       "                                       category_name brand_name  price  \\\n",
       "0                                  Men/Tops/T-shirts    Unknown   10.0   \n",
       "1  Electronics/Computers & Tablets/Components & P...      Razer   52.0   \n",
       "2                        Women/Tops & Blouses/Blouse     Target   10.0   \n",
       "3                 Home/Home Décor/Home Décor Accents    Unknown   35.0   \n",
       "4                            Women/Jewelry/Necklaces    Unknown   44.0   \n",
       "\n",
       "   shipping                                   item_description  \n",
       "0         1                                    description yet  \n",
       "1         0  keyboard great condition works like came box p...  \n",
       "2         1  adorable top hint lace key hole back pale pink...  \n",
       "3         1  new tags leather horses retail rm stand foot h...  \n",
       "4         0                  complete certificate authenticity  "
      ]
     },
     "execution_count": 17,
     "metadata": {},
     "output_type": "execute_result"
    }
   ],
   "source": [
    "# clean item description and name\n",
    "train_data_set.head()"
   ]
  },
  {
   "cell_type": "markdown",
   "metadata": {},
   "source": [
    "### Feature Engineering\n",
    "\n",
    "For this part we are going to suggest to split the category into sub-categories, reason being is that Mercari uses multiple categories (Women/Jewelry/Necklaces) names separeted by forward slash, by splitting into sub-categories we could find futher information. \n",
    "\n",
    "example: which items tend to be more expensive? : Men vs Female\n"
   ]
  },
  {
   "cell_type": "code",
   "execution_count": 18,
   "metadata": {},
   "outputs": [],
   "source": [
    "def catego_to_subcategos(category_name):\n",
    "    \"\"\" this function will split the category into multiple sub categories \"\"\"\n",
    "    \n",
    "    # try as some of the entries do not have 3 categories\n",
    "    try:\n",
    "        category_1, category_2, category_3 = category_name.split('/')\n",
    "        return category_1, category_2, category_3\n",
    "    except:\n",
    "        return np.nan,np.nan,np.nan\n"
   ]
  },
  {
   "cell_type": "code",
   "execution_count": 19,
   "metadata": {},
   "outputs": [],
   "source": [
    "# split category into sub-categories\n",
    "train_data_set['category_1'],train_data_set['category_2'],train_data_set['category_3']=\\\n",
    "zip(*train_data_set['category_name'].apply(catego_to_subcategos))\n"
   ]
  },
  {
   "cell_type": "code",
   "execution_count": 20,
   "metadata": {},
   "outputs": [
    {
     "data": {
      "text/html": [
       "<div>\n",
       "<style scoped>\n",
       "    .dataframe tbody tr th:only-of-type {\n",
       "        vertical-align: middle;\n",
       "    }\n",
       "\n",
       "    .dataframe tbody tr th {\n",
       "        vertical-align: top;\n",
       "    }\n",
       "\n",
       "    .dataframe thead th {\n",
       "        text-align: right;\n",
       "    }\n",
       "</style>\n",
       "<table border=\"1\" class=\"dataframe\">\n",
       "  <thead>\n",
       "    <tr style=\"text-align: right;\">\n",
       "      <th></th>\n",
       "      <th>train_id</th>\n",
       "      <th>name</th>\n",
       "      <th>item_condition_id</th>\n",
       "      <th>brand_name</th>\n",
       "      <th>price</th>\n",
       "      <th>shipping</th>\n",
       "      <th>item_description</th>\n",
       "      <th>category_1</th>\n",
       "      <th>category_2</th>\n",
       "      <th>category_3</th>\n",
       "    </tr>\n",
       "  </thead>\n",
       "  <tbody>\n",
       "    <tr>\n",
       "      <th>0</th>\n",
       "      <td>0</td>\n",
       "      <td>mlb cincinnati reds shirt size xl</td>\n",
       "      <td>3</td>\n",
       "      <td>Unknown</td>\n",
       "      <td>10.0</td>\n",
       "      <td>1</td>\n",
       "      <td>description yet</td>\n",
       "      <td>Men</td>\n",
       "      <td>Tops</td>\n",
       "      <td>T-shirts</td>\n",
       "    </tr>\n",
       "    <tr>\n",
       "      <th>1</th>\n",
       "      <td>1</td>\n",
       "      <td>razer blackwidow chroma keyboard</td>\n",
       "      <td>3</td>\n",
       "      <td>Razer</td>\n",
       "      <td>52.0</td>\n",
       "      <td>0</td>\n",
       "      <td>keyboard great condition works like came box p...</td>\n",
       "      <td>Electronics</td>\n",
       "      <td>Computers &amp; Tablets</td>\n",
       "      <td>Components &amp; Parts</td>\n",
       "    </tr>\n",
       "    <tr>\n",
       "      <th>2</th>\n",
       "      <td>2</td>\n",
       "      <td>ava viv blouse</td>\n",
       "      <td>1</td>\n",
       "      <td>Target</td>\n",
       "      <td>10.0</td>\n",
       "      <td>1</td>\n",
       "      <td>adorable top hint lace key hole back pale pink...</td>\n",
       "      <td>Women</td>\n",
       "      <td>Tops &amp; Blouses</td>\n",
       "      <td>Blouse</td>\n",
       "    </tr>\n",
       "    <tr>\n",
       "      <th>3</th>\n",
       "      <td>3</td>\n",
       "      <td>leather horse statues</td>\n",
       "      <td>1</td>\n",
       "      <td>Unknown</td>\n",
       "      <td>35.0</td>\n",
       "      <td>1</td>\n",
       "      <td>new tags leather horses retail rm stand foot h...</td>\n",
       "      <td>Home</td>\n",
       "      <td>Home Décor</td>\n",
       "      <td>Home Décor Accents</td>\n",
       "    </tr>\n",
       "    <tr>\n",
       "      <th>4</th>\n",
       "      <td>4</td>\n",
       "      <td>k gold plated rose</td>\n",
       "      <td>1</td>\n",
       "      <td>Unknown</td>\n",
       "      <td>44.0</td>\n",
       "      <td>0</td>\n",
       "      <td>complete certificate authenticity</td>\n",
       "      <td>Women</td>\n",
       "      <td>Jewelry</td>\n",
       "      <td>Necklaces</td>\n",
       "    </tr>\n",
       "  </tbody>\n",
       "</table>\n",
       "</div>"
      ],
      "text/plain": [
       "   train_id                               name  item_condition_id brand_name  \\\n",
       "0         0  mlb cincinnati reds shirt size xl                  3    Unknown   \n",
       "1         1   razer blackwidow chroma keyboard                  3      Razer   \n",
       "2         2                     ava viv blouse                  1     Target   \n",
       "3         3              leather horse statues                  1    Unknown   \n",
       "4         4                 k gold plated rose                  1    Unknown   \n",
       "\n",
       "   price  shipping                                   item_description  \\\n",
       "0   10.0         1                                    description yet   \n",
       "1   52.0         0  keyboard great condition works like came box p...   \n",
       "2   10.0         1  adorable top hint lace key hole back pale pink...   \n",
       "3   35.0         1  new tags leather horses retail rm stand foot h...   \n",
       "4   44.0         0                  complete certificate authenticity   \n",
       "\n",
       "    category_1           category_2          category_3  \n",
       "0          Men                 Tops            T-shirts  \n",
       "1  Electronics  Computers & Tablets  Components & Parts  \n",
       "2        Women       Tops & Blouses              Blouse  \n",
       "3         Home           Home Décor  Home Décor Accents  \n",
       "4        Women              Jewelry           Necklaces  "
      ]
     },
     "execution_count": 20,
     "metadata": {},
     "output_type": "execute_result"
    }
   ],
   "source": [
    "train_data_set.drop(['category_name'], axis=1, inplace=True)\n",
    "train_data_set.head()"
   ]
  },
  {
   "cell_type": "code",
   "execution_count": 21,
   "metadata": {},
   "outputs": [
    {
     "name": "stdout",
     "output_type": "stream",
     "text": [
      "11\n",
      "114\n",
      "865\n"
     ]
    }
   ],
   "source": [
    "print(len(train_data_set['category_1'].unique()))\n",
    "print(len(train_data_set['category_2'].unique()))\n",
    "print(len(train_data_set['category_3'].unique()))"
   ]
  },
  {
   "cell_type": "code",
   "execution_count": 22,
   "metadata": {},
   "outputs": [
    {
     "data": {
      "image/png": "[encoded data removed]",
      "text/plain": [
       "<Figure size 1080x720 with 1 Axes>"
      ]
     },
     "metadata": {
      "needs_background": "light"
     },
     "output_type": "display_data"
    }
   ],
   "source": [
    "# There is a total of 10 category 1\n",
    "plt.figure(figsize=(15, 10))\n",
    "x = train_data_set['category_1']\n",
    "y = train_data_set['category_1'].value_counts().index\n",
    "\n",
    "sns.countplot(x, order=y, palette='Paired')\n",
    "\n",
    "plt.title('Top Categories 1', fontsize=15)\n",
    "plt.xlabel('Category 1', fontsize=15)\n",
    "plt.ylabel('Items in category', fontsize=15)\n",
    "plt.xticks(rotation=-45)\n",
    "\n",
    "plt.show()"
   ]
  },
  {
   "cell_type": "code",
   "execution_count": 23,
   "metadata": {},
   "outputs": [
    {
     "data": {
      "image/png": "[encoded data removed]",
      "text/plain": [
       "<Figure size 1080x720 with 1 Axes>"
      ]
     },
     "metadata": {
      "needs_background": "light"
     },
     "output_type": "display_data"
    }
   ],
   "source": [
    "# plot category 2  \n",
    "plt.figure(figsize=(15, 10))\n",
    "x = train_data_set['category_2']\n",
    "y = train_data_set['category_2'].value_counts().index[:10]\n",
    "\n",
    "sns.countplot(x, order=y, palette='Paired')\n",
    "\n",
    "plt.title('Top Categories 2', fontsize=15)\n",
    "plt.xlabel('Category 2', fontsize=15)\n",
    "plt.ylabel('Items in category', fontsize=15)\n",
    "plt.xticks(rotation=-45)\n",
    "\n",
    "plt.show()"
   ]
  },
  {
   "cell_type": "code",
   "execution_count": 24,
   "metadata": {},
   "outputs": [
    {
     "data": {
      "image/png": "[encoded data removed]",
      "text/plain": [
       "<Figure size 1080x720 with 1 Axes>"
      ]
     },
     "metadata": {
      "needs_background": "light"
     },
     "output_type": "display_data"
    }
   ],
   "source": [
    "# plot category 3\n",
    "plt.figure(figsize=(15, 10))\n",
    "x = train_data_set['category_3']\n",
    "y = train_data_set['category_3'].value_counts().index[:10]\n",
    "\n",
    "sns.countplot(x, order=y, palette='Paired')\n",
    "\n",
    "plt.title('Top Categories 3', fontsize=15)\n",
    "plt.xlabel('Category 3', fontsize=15)\n",
    "plt.ylabel('Items in category', fontsize=15)\n",
    "plt.xticks(rotation=-45)\n",
    "\n",
    "plt.show()"
   ]
  },
  {
   "cell_type": "code",
   "execution_count": 25,
   "metadata": {},
   "outputs": [
    {
     "data": {
      "text/html": [
       "<div>\n",
       "<style scoped>\n",
       "    .dataframe tbody tr th:only-of-type {\n",
       "        vertical-align: middle;\n",
       "    }\n",
       "\n",
       "    .dataframe tbody tr th {\n",
       "        vertical-align: top;\n",
       "    }\n",
       "\n",
       "    .dataframe thead th {\n",
       "        text-align: right;\n",
       "    }\n",
       "</style>\n",
       "<table border=\"1\" class=\"dataframe\">\n",
       "  <thead>\n",
       "    <tr style=\"text-align: right;\">\n",
       "      <th></th>\n",
       "      <th>train_id</th>\n",
       "      <th>name</th>\n",
       "      <th>item_condition_id</th>\n",
       "      <th>brand_name</th>\n",
       "      <th>price</th>\n",
       "      <th>shipping</th>\n",
       "      <th>item_description</th>\n",
       "      <th>category_1</th>\n",
       "      <th>category_2</th>\n",
       "      <th>category_3</th>\n",
       "    </tr>\n",
       "  </thead>\n",
       "  <tbody>\n",
       "    <tr>\n",
       "      <th>0</th>\n",
       "      <td>0</td>\n",
       "      <td>mlb cincinnati reds shirt size xl</td>\n",
       "      <td>3</td>\n",
       "      <td>Unknown</td>\n",
       "      <td>10.0</td>\n",
       "      <td>1</td>\n",
       "      <td>description yet</td>\n",
       "      <td>Men</td>\n",
       "      <td>Tops</td>\n",
       "      <td>T-shirts</td>\n",
       "    </tr>\n",
       "    <tr>\n",
       "      <th>1</th>\n",
       "      <td>1</td>\n",
       "      <td>razer blackwidow chroma keyboard</td>\n",
       "      <td>3</td>\n",
       "      <td>Razer</td>\n",
       "      <td>52.0</td>\n",
       "      <td>0</td>\n",
       "      <td>keyboard great condition works like came box p...</td>\n",
       "      <td>Electronics</td>\n",
       "      <td>Computers &amp; Tablets</td>\n",
       "      <td>Components &amp; Parts</td>\n",
       "    </tr>\n",
       "    <tr>\n",
       "      <th>2</th>\n",
       "      <td>2</td>\n",
       "      <td>ava viv blouse</td>\n",
       "      <td>1</td>\n",
       "      <td>Target</td>\n",
       "      <td>10.0</td>\n",
       "      <td>1</td>\n",
       "      <td>adorable top hint lace key hole back pale pink...</td>\n",
       "      <td>Women</td>\n",
       "      <td>Tops &amp; Blouses</td>\n",
       "      <td>Blouse</td>\n",
       "    </tr>\n",
       "    <tr>\n",
       "      <th>3</th>\n",
       "      <td>3</td>\n",
       "      <td>leather horse statues</td>\n",
       "      <td>1</td>\n",
       "      <td>Unknown</td>\n",
       "      <td>35.0</td>\n",
       "      <td>1</td>\n",
       "      <td>new tags leather horses retail rm stand foot h...</td>\n",
       "      <td>Home</td>\n",
       "      <td>Home Décor</td>\n",
       "      <td>Home Décor Accents</td>\n",
       "    </tr>\n",
       "    <tr>\n",
       "      <th>4</th>\n",
       "      <td>4</td>\n",
       "      <td>k gold plated rose</td>\n",
       "      <td>1</td>\n",
       "      <td>Unknown</td>\n",
       "      <td>44.0</td>\n",
       "      <td>0</td>\n",
       "      <td>complete certificate authenticity</td>\n",
       "      <td>Women</td>\n",
       "      <td>Jewelry</td>\n",
       "      <td>Necklaces</td>\n",
       "    </tr>\n",
       "  </tbody>\n",
       "</table>\n",
       "</div>"
      ],
      "text/plain": [
       "   train_id                               name  item_condition_id brand_name  \\\n",
       "0         0  mlb cincinnati reds shirt size xl                  3    Unknown   \n",
       "1         1   razer blackwidow chroma keyboard                  3      Razer   \n",
       "2         2                     ava viv blouse                  1     Target   \n",
       "3         3              leather horse statues                  1    Unknown   \n",
       "4         4                 k gold plated rose                  1    Unknown   \n",
       "\n",
       "   price  shipping                                   item_description  \\\n",
       "0   10.0         1                                    description yet   \n",
       "1   52.0         0  keyboard great condition works like came box p...   \n",
       "2   10.0         1  adorable top hint lace key hole back pale pink...   \n",
       "3   35.0         1  new tags leather horses retail rm stand foot h...   \n",
       "4   44.0         0                  complete certificate authenticity   \n",
       "\n",
       "    category_1           category_2          category_3  \n",
       "0          Men                 Tops            T-shirts  \n",
       "1  Electronics  Computers & Tablets  Components & Parts  \n",
       "2        Women       Tops & Blouses              Blouse  \n",
       "3         Home           Home Décor  Home Décor Accents  \n",
       "4        Women              Jewelry           Necklaces  "
      ]
     },
     "execution_count": 25,
     "metadata": {},
     "output_type": "execute_result"
    }
   ],
   "source": [
    "train_data_set.head()"
   ]
  },
  {
   "cell_type": "code",
   "execution_count": 26,
   "metadata": {},
   "outputs": [],
   "source": [
    "train_data_set['category_1'].fillna(value='', inplace=True)\n",
    "train_data_set['category_2'].fillna(value='', inplace=True)\n",
    "train_data_set['category_3'].fillna(value='', inplace=True)"
   ]
  },
  {
   "cell_type": "code",
   "execution_count": 64,
   "metadata": {},
   "outputs": [],
   "source": [
    "# Apply Count Vectorizer to \"name\", this converts it into a sparse matrix \n",
    "cv = CountVectorizer()\n",
    "\n",
    "X_name = cv.fit_transform(train_data_set['name'])\n",
    "X_categ_1 = cv.fit_transform(train_data_set['category_1'])\n",
    "X_categ_2 = cv.fit_transform(train_data_set['category_2'])\n",
    "X_categ_3 = cv.fit_transform(train_data_set['category_3'])"
   ]
  },
  {
   "cell_type": "code",
   "execution_count": 65,
   "metadata": {},
   "outputs": [],
   "source": [
    "tv = TfidfVectorizer(max_features=55000, ngram_range=(1, 2), stop_words='english')\n",
    "X_description = tv.fit_transform(train_data_set['item_description'])"
   ]
  },
  {
   "cell_type": "code",
   "execution_count": 66,
   "metadata": {},
   "outputs": [],
   "source": [
    "lb = LabelBinarizer(sparse_output=True)\n",
    "X_brand = lb.fit_transform(train_data_set['brand_name'])"
   ]
  },
  {
   "cell_type": "code",
   "execution_count": 67,
   "metadata": {},
   "outputs": [],
   "source": [
    "X_cond = csr_matrix(pd.get_dummies(train_data_set['item_condition_id'], sparse=True).values)\n",
    "X_ship = csr_matrix(pd.get_dummies(train_data_set['shipping'], sparse=True).values)                         "
   ]
  },
  {
   "cell_type": "code",
   "execution_count": 76,
   "metadata": {},
   "outputs": [],
   "source": [
    "# final sparse matrix append all matrix horizontally\n",
    "X_train = hstack((X_name,\n",
    "                  X_cond,\n",
    "                  X_ship,\n",
    "                  X_description,\n",
    "                  X_brand,\n",
    "                  X_categ_1,\n",
    "                  X_categ_2,\n",
    "                  X_categ_3)\n",
    "                ).tocsr()"
   ]
  },
  {
   "cell_type": "code",
   "execution_count": 69,
   "metadata": {},
   "outputs": [],
   "source": [
    "# prepate training Y\n",
    "y = np.log1p(train_data_set['price'])"
   ]
  },
  {
   "cell_type": "code",
   "execution_count": 70,
   "metadata": {},
   "outputs": [],
   "source": [
    "def rmsle(y, y_hat):\n",
    "    rmsle = np.sqrt(np.mean(np.power(np.log1p(y)-np.log1p(y_hat), 2)))\n",
    "    return rmsle"
   ]
  },
  {
   "cell_type": "code",
   "execution_count": 71,
   "metadata": {},
   "outputs": [],
   "source": [
    "class RidgeRegression():\n",
    "    \"\"\" Ridge regression model \"\"\"\n",
    "    \n",
    "    def __init__(self, lam=0.1):\n",
    "        self.lam = lam\n",
    "\n",
    "    def fit(self, X, y):\n",
    "        C = X.T.dot(X) + self.lam*np.eye(X.shape[1])\n",
    "        self.w = np.linalg.inv(C).dot(X.T.dot(y))\n",
    "\n",
    "    def predict(self, X):\n",
    "        return X.dot(self.w)\n",
    "\n",
    "    def get_params(self, deep=True):\n",
    "        return {\"lmbda\": self.lam}\n",
    "\n",
    "    def set_params(self, lam=0.1):\n",
    "        self.lam = lam\n",
    "        return self"
   ]
  },
  {
   "cell_type": "code",
   "execution_count": 77,
   "metadata": {},
   "outputs": [
    {
     "name": "stdout",
     "output_type": "stream",
     "text": [
      "Fitting Ridge Model\n",
      "[238.10159540176392] Ridge completed.\n"
     ]
    }
   ],
   "source": [
    "# RIDGE REGRESSION\n",
    "\n",
    "start_time = time.time()\n",
    "model = Ridge(solver = \"sag\", fit_intercept=False)\n",
    "print(\"Fitting Ridge Model\")\n",
    "model.fit(X_train, y)\n",
    "# preds_valid = model.predict(X_valid)\n",
    "\n",
    "print('[{}] Ridge completed.'.format(time.time() - start_time))\n",
    "#print(\"Ridge rmsle: \"+str(rmsle(np.expm1(y_valid), np.expm1(preds_valid))))"
   ]
  },
  {
   "cell_type": "code",
   "execution_count": 64,
   "metadata": {},
   "outputs": [
    {
     "name": "stdout",
     "output_type": "stream",
     "text": [
      "Fitting Linear Model\n",
      "[0.00013017654418945312] Ridge completed.\n"
     ]
    }
   ],
   "source": [
    "# LINEAR REGRESSION\n",
    "\n",
    "start_time = time.time()\n",
    "\n",
    "l_model = LinearRegression(fit_intercept=False)\n",
    "print(\"Fitting Linear Model\")\n",
    "#l_model.fit(sparse_merge, y)\n",
    "\n",
    "print('[{}] Linear completed.'.format(time.time() - start_time))"
   ]
  },
  {
   "cell_type": "code",
   "execution_count": 76,
   "metadata": {},
   "outputs": [
    {
     "name": "stdout",
     "output_type": "stream",
     "text": [
      "Fitting Regresion Forest Model\n",
      "[0.0008475780487060547] Regresion Forest completed.\n"
     ]
    }
   ],
   "source": [
    "# RANODM FOREST \n",
    "from sklearn.ensemble import RandomForestRegressor\n",
    "start_time = time.time()\n",
    "\n",
    "#rf_model = RandomForestRegressor(n_jobs=-1, min_samples_leaf=2, n_estimators=200)\n",
    "#rf_model.fit(sparse_merge, y)\n",
    "\n",
    "print(\"Fitting Regresion Forest Model\")\n",
    "#l_model.fit(sparse_merge, y)\n",
    "\n",
    "print('[{}] Regresion Forest completed.'.format(time.time() - start_time))\n"
   ]
  },
  {
   "cell_type": "code",
   "execution_count": 78,
   "metadata": {},
   "outputs": [],
   "source": [
    "train_predicitons = model.predict(X_train)"
   ]
  },
  {
   "cell_type": "code",
   "execution_count": 79,
   "metadata": {},
   "outputs": [
    {
     "name": "stdout",
     "output_type": "stream",
     "text": [
      "Ridge rmsle: 0.4259749353294753\n"
     ]
    }
   ],
   "source": [
    "print(\"Ridge rmsle: \"+str(rmsle(np.expm1(y), np.expm1(train_predicitons))))"
   ]
  },
  {
   "cell_type": "code",
   "execution_count": 80,
   "metadata": {},
   "outputs": [
    {
     "name": "stdout",
     "output_type": "stream",
     "text": [
      "9.19400116810078\n",
      "89.47364722866146\n",
      "10.558849851659076\n",
      "20.890029467752903\n",
      "20.1381738642395\n",
      "49.64983523028405\n",
      "69.63938220223741\n",
      "18.06615552551727\n",
      "17.985332490428377\n",
      "25.879145228657272\n"
     ]
    }
   ],
   "source": [
    "for i in np.expm1(train_predicitons[0:10]):\n",
    "    print(i)"
   ]
  },
  {
   "cell_type": "code",
   "execution_count": 81,
   "metadata": {},
   "outputs": [
    {
     "data": {
      "text/plain": [
       "0    10.0\n",
       "1    52.0\n",
       "2    10.0\n",
       "3    35.0\n",
       "4    44.0\n",
       "5    59.0\n",
       "6    64.0\n",
       "7     6.0\n",
       "8    19.0\n",
       "9     8.0\n",
       "Name: price, dtype: float64"
      ]
     },
     "execution_count": 81,
     "metadata": {},
     "output_type": "execute_result"
    }
   ],
   "source": [
    "train_data_set['price'].head(10)"
   ]
  }
 ],
 "metadata": {
  "kernelspec": {
   "display_name": "Python 3",
   "language": "python",
   "name": "python3"
  },
  "language_info": {
   "codemirror_mode": {
    "name": "ipython",
    "version": 3
   },
   "file_extension": ".py",
   "mimetype": "text/x-python",
   "name": "python",
   "nbconvert_exporter": "python",
   "pygments_lexer": "ipython3",
   "version": "3.6.8"
  }
 },
 "nbformat": 4,
 "nbformat_minor": 2
}
