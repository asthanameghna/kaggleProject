{
 "cells": [
  {
   "cell_type": "code",
   "execution_count": 1,
   "metadata": {},
   "outputs": [
    {
     "name": "stderr",
     "output_type": "stream",
     "text": [
      "/Users/Marcus/anaconda3/lib/python3.6/site-packages/h5py/__init__.py:36: FutureWarning: Conversion of the second argument of issubdtype from `float` to `np.floating` is deprecated. In future, it will be treated as `np.float64 == np.dtype(float).type`.\n",
      "  from ._conv import register_converters as _register_converters\n",
      "Using TensorFlow backend.\n"
     ]
    }
   ],
   "source": [
    "import csv, time\n",
    "import numpy as np\n",
    "import pandas as pd\n",
    "from collections import defaultdict\n",
    "\n",
    "from scipy.sparse import csr_matrix, hstack\n",
    "from sklearn.feature_extraction.text import CountVectorizer, TfidfVectorizer\n",
    "from sklearn.model_selection import train_test_split\n",
    "\n",
    "# Neural Network\n",
    "import keras\n",
    "import keras.backend as K\n",
    "from keras.layers import Dense\n",
    "from keras.models import Sequential\n",
    "from keras.callbacks import EarlyStopping"
   ]
  },
  {
   "cell_type": "code",
   "execution_count": 2,
   "metadata": {},
   "outputs": [],
   "source": [
    "# Record total notebook run time\n",
    "notebook_start = time.time()"
   ]
  },
  {
   "cell_type": "code",
   "execution_count": 3,
   "metadata": {},
   "outputs": [
    {
     "name": "stdout",
     "output_type": "stream",
     "text": [
      "Parsing data from TSV files...\n"
     ]
    },
    {
     "name": "stderr",
     "output_type": "stream",
     "text": [
      "/Users/Marcus/anaconda3/lib/python3.6/site-packages/numpy/lib/arraysetops.py:472: FutureWarning: elementwise comparison failed; returning scalar instead, but in the future will perform elementwise comparison\n",
      "  mask |= (ar1 == a)\n"
     ]
    },
    {
     "name": "stdout",
     "output_type": "stream",
     "text": [
      "Done. Took 7.89s\n"
     ]
    }
   ],
   "source": [
    "print('Parsing data from TSV files...')\n",
    "start_time = time.time()\n",
    "df_train = pd.read_csv('train.tsv', delimiter='\\t', index_col=['train_id'])\n",
    "df_test = pd.read_csv('test.tsv', delimiter='\\t', index_col=['test_id'])\n",
    "print(f'Done. Took {time.time() - start_time:.2f}s')"
   ]
  },
  {
   "cell_type": "code",
   "execution_count": 4,
   "metadata": {},
   "outputs": [
    {
     "name": "stdout",
     "output_type": "stream",
     "text": [
      "Dropped 874 zero-price entries\n"
     ]
    }
   ],
   "source": [
    "# Drop entries where price is zero\n",
    "initial_size = df_train.shape[0]\n",
    "df_train = df_train.drop(df_train[(df_train['price'] == 0)].index)\n",
    "print(f'Dropped {initial_size - df_train.shape[0]} zero-price entries')"
   ]
  },
  {
   "cell_type": "markdown",
   "metadata": {},
   "source": [
    "## X/y split"
   ]
  },
  {
   "cell_type": "code",
   "execution_count": 5,
   "metadata": {},
   "outputs": [
    {
     "data": {
      "text/html": [
       "<div>\n",
       "<style scoped>\n",
       "    .dataframe tbody tr th:only-of-type {\n",
       "        vertical-align: middle;\n",
       "    }\n",
       "\n",
       "    .dataframe tbody tr th {\n",
       "        vertical-align: top;\n",
       "    }\n",
       "\n",
       "    .dataframe thead th {\n",
       "        text-align: right;\n",
       "    }\n",
       "</style>\n",
       "<table border=\"1\" class=\"dataframe\">\n",
       "  <thead>\n",
       "    <tr style=\"text-align: right;\">\n",
       "      <th></th>\n",
       "      <th>name</th>\n",
       "      <th>item_condition_id</th>\n",
       "      <th>category_name</th>\n",
       "      <th>brand_name</th>\n",
       "      <th>shipping</th>\n",
       "      <th>item_description</th>\n",
       "    </tr>\n",
       "    <tr>\n",
       "      <th>train_id</th>\n",
       "      <th></th>\n",
       "      <th></th>\n",
       "      <th></th>\n",
       "      <th></th>\n",
       "      <th></th>\n",
       "      <th></th>\n",
       "    </tr>\n",
       "  </thead>\n",
       "  <tbody>\n",
       "    <tr>\n",
       "      <th>0</th>\n",
       "      <td>MLB Cincinnati Reds T Shirt Size XL</td>\n",
       "      <td>3</td>\n",
       "      <td>Men/Tops/T-shirts</td>\n",
       "      <td>NaN</td>\n",
       "      <td>1</td>\n",
       "      <td>No description yet</td>\n",
       "    </tr>\n",
       "    <tr>\n",
       "      <th>1</th>\n",
       "      <td>Razer BlackWidow Chroma Keyboard</td>\n",
       "      <td>3</td>\n",
       "      <td>Electronics/Computers &amp; Tablets/Components &amp; P...</td>\n",
       "      <td>Razer</td>\n",
       "      <td>0</td>\n",
       "      <td>This keyboard is in great condition and works ...</td>\n",
       "    </tr>\n",
       "    <tr>\n",
       "      <th>2</th>\n",
       "      <td>AVA-VIV Blouse</td>\n",
       "      <td>1</td>\n",
       "      <td>Women/Tops &amp; Blouses/Blouse</td>\n",
       "      <td>Target</td>\n",
       "      <td>1</td>\n",
       "      <td>Adorable top with a hint of lace and a key hol...</td>\n",
       "    </tr>\n",
       "    <tr>\n",
       "      <th>3</th>\n",
       "      <td>Leather Horse Statues</td>\n",
       "      <td>1</td>\n",
       "      <td>Home/Home Décor/Home Décor Accents</td>\n",
       "      <td>NaN</td>\n",
       "      <td>1</td>\n",
       "      <td>New with tags. Leather horses. Retail for [rm]...</td>\n",
       "    </tr>\n",
       "    <tr>\n",
       "      <th>4</th>\n",
       "      <td>24K GOLD plated rose</td>\n",
       "      <td>1</td>\n",
       "      <td>Women/Jewelry/Necklaces</td>\n",
       "      <td>NaN</td>\n",
       "      <td>0</td>\n",
       "      <td>Complete with certificate of authenticity</td>\n",
       "    </tr>\n",
       "  </tbody>\n",
       "</table>\n",
       "</div>"
      ],
      "text/plain": [
       "                                         name  item_condition_id  \\\n",
       "train_id                                                           \n",
       "0         MLB Cincinnati Reds T Shirt Size XL                  3   \n",
       "1            Razer BlackWidow Chroma Keyboard                  3   \n",
       "2                              AVA-VIV Blouse                  1   \n",
       "3                       Leather Horse Statues                  1   \n",
       "4                        24K GOLD plated rose                  1   \n",
       "\n",
       "                                              category_name brand_name  \\\n",
       "train_id                                                                 \n",
       "0                                         Men/Tops/T-shirts        NaN   \n",
       "1         Electronics/Computers & Tablets/Components & P...      Razer   \n",
       "2                               Women/Tops & Blouses/Blouse     Target   \n",
       "3                        Home/Home Décor/Home Décor Accents        NaN   \n",
       "4                                   Women/Jewelry/Necklaces        NaN   \n",
       "\n",
       "          shipping                                   item_description  \n",
       "train_id                                                               \n",
       "0                1                                 No description yet  \n",
       "1                0  This keyboard is in great condition and works ...  \n",
       "2                1  Adorable top with a hint of lace and a key hol...  \n",
       "3                1  New with tags. Leather horses. Retail for [rm]...  \n",
       "4                0          Complete with certificate of authenticity  "
      ]
     },
     "execution_count": 5,
     "metadata": {},
     "output_type": "execute_result"
    }
   ],
   "source": [
    "# We will now split the dataframe into X (features/inputs) and y (target variable).\n",
    "y = df_train.loc[:, 'price']\n",
    "y = pd.to_numeric(y)\n",
    "\n",
    "X = df_train\n",
    "del X['price']\n",
    "\n",
    "X.head()"
   ]
  },
  {
   "cell_type": "markdown",
   "metadata": {},
   "source": [
    "## Exploring data"
   ]
  },
  {
   "cell_type": "code",
   "execution_count": 6,
   "metadata": {
    "scrolled": false
   },
   "outputs": [
    {
     "name": "stdout",
     "output_type": "stream",
     "text": [
      "Total brands: 4807\n",
      "\n",
      "Number of entries with 3 categories: 1470962\n",
      "Number of entries with null categories: 6314\n",
      "Number of entries with 5 categories: 3055\n",
      "Number of entries with 4 categories: 1330\n"
     ]
    }
   ],
   "source": [
    "# Count of unique brands\n",
    "brand_counts = X.groupby('brand_name').apply(lambda x: x.index.nunique())\n",
    "print(f'Total brands: {len(brand_counts)}\\n')\n",
    "\n",
    "# Count of category lengths\n",
    "num_categories_dict = defaultdict(int)\n",
    "for i, category in enumerate(X['category_name']):\n",
    "    if type(category) != str:\n",
    "        num_categories_dict['null'] += 1\n",
    "        continue\n",
    "    else:\n",
    "        categories = category.split('/')\n",
    "        num_categories = len(categories)\n",
    "        num_categories_dict[num_categories] += 1\n",
    "        \n",
    "for k, v in num_categories_dict.items():\n",
    "    print(f'Number of entries with {k} categories: {v}')"
   ]
  },
  {
   "cell_type": "markdown",
   "metadata": {},
   "source": [
    "## Data preparation"
   ]
  },
  {
   "cell_type": "markdown",
   "metadata": {},
   "source": [
    "### Deal with missing data"
   ]
  },
  {
   "cell_type": "code",
   "execution_count": 7,
   "metadata": {},
   "outputs": [],
   "source": [
    "# Replace NaN with ''\n",
    "X['brand_name'] = X['brand_name'].fillna('')\n",
    "\n",
    "# Replace NaN and 'No description yet' with ''\n",
    "X['item_description'] = X['item_description'].apply(lambda x: '' if x=='No description yet' or type(x) != str else x)"
   ]
  },
  {
   "cell_type": "markdown",
   "metadata": {},
   "source": [
    "### Split categories"
   ]
  },
  {
   "cell_type": "code",
   "execution_count": 8,
   "metadata": {},
   "outputs": [
    {
     "data": {
      "text/html": [
       "<div>\n",
       "<style scoped>\n",
       "    .dataframe tbody tr th:only-of-type {\n",
       "        vertical-align: middle;\n",
       "    }\n",
       "\n",
       "    .dataframe tbody tr th {\n",
       "        vertical-align: top;\n",
       "    }\n",
       "\n",
       "    .dataframe thead th {\n",
       "        text-align: right;\n",
       "    }\n",
       "</style>\n",
       "<table border=\"1\" class=\"dataframe\">\n",
       "  <thead>\n",
       "    <tr style=\"text-align: right;\">\n",
       "      <th></th>\n",
       "      <th>name</th>\n",
       "      <th>item_condition_id</th>\n",
       "      <th>category_name</th>\n",
       "      <th>brand_name</th>\n",
       "      <th>shipping</th>\n",
       "      <th>item_description</th>\n",
       "      <th>category1</th>\n",
       "      <th>category2</th>\n",
       "      <th>category3</th>\n",
       "    </tr>\n",
       "    <tr>\n",
       "      <th>train_id</th>\n",
       "      <th></th>\n",
       "      <th></th>\n",
       "      <th></th>\n",
       "      <th></th>\n",
       "      <th></th>\n",
       "      <th></th>\n",
       "      <th></th>\n",
       "      <th></th>\n",
       "      <th></th>\n",
       "    </tr>\n",
       "  </thead>\n",
       "  <tbody>\n",
       "    <tr>\n",
       "      <th>0</th>\n",
       "      <td>MLB Cincinnati Reds T Shirt Size XL</td>\n",
       "      <td>3</td>\n",
       "      <td>Men/Tops/T-shirts</td>\n",
       "      <td></td>\n",
       "      <td>1</td>\n",
       "      <td></td>\n",
       "      <td>Men</td>\n",
       "      <td>Tops</td>\n",
       "      <td>T-shirts</td>\n",
       "    </tr>\n",
       "    <tr>\n",
       "      <th>1</th>\n",
       "      <td>Razer BlackWidow Chroma Keyboard</td>\n",
       "      <td>3</td>\n",
       "      <td>Electronics/Computers &amp; Tablets/Components &amp; P...</td>\n",
       "      <td>Razer</td>\n",
       "      <td>0</td>\n",
       "      <td>This keyboard is in great condition and works ...</td>\n",
       "      <td>Electronics</td>\n",
       "      <td>Computers &amp; Tablets</td>\n",
       "      <td>Components &amp; Parts</td>\n",
       "    </tr>\n",
       "    <tr>\n",
       "      <th>2</th>\n",
       "      <td>AVA-VIV Blouse</td>\n",
       "      <td>1</td>\n",
       "      <td>Women/Tops &amp; Blouses/Blouse</td>\n",
       "      <td>Target</td>\n",
       "      <td>1</td>\n",
       "      <td>Adorable top with a hint of lace and a key hol...</td>\n",
       "      <td>Women</td>\n",
       "      <td>Tops &amp; Blouses</td>\n",
       "      <td>Blouse</td>\n",
       "    </tr>\n",
       "    <tr>\n",
       "      <th>3</th>\n",
       "      <td>Leather Horse Statues</td>\n",
       "      <td>1</td>\n",
       "      <td>Home/Home Décor/Home Décor Accents</td>\n",
       "      <td></td>\n",
       "      <td>1</td>\n",
       "      <td>New with tags. Leather horses. Retail for [rm]...</td>\n",
       "      <td>Home</td>\n",
       "      <td>Home Décor</td>\n",
       "      <td>Home Décor Accents</td>\n",
       "    </tr>\n",
       "    <tr>\n",
       "      <th>4</th>\n",
       "      <td>24K GOLD plated rose</td>\n",
       "      <td>1</td>\n",
       "      <td>Women/Jewelry/Necklaces</td>\n",
       "      <td></td>\n",
       "      <td>0</td>\n",
       "      <td>Complete with certificate of authenticity</td>\n",
       "      <td>Women</td>\n",
       "      <td>Jewelry</td>\n",
       "      <td>Necklaces</td>\n",
       "    </tr>\n",
       "  </tbody>\n",
       "</table>\n",
       "</div>"
      ],
      "text/plain": [
       "                                         name  item_condition_id  \\\n",
       "train_id                                                           \n",
       "0         MLB Cincinnati Reds T Shirt Size XL                  3   \n",
       "1            Razer BlackWidow Chroma Keyboard                  3   \n",
       "2                              AVA-VIV Blouse                  1   \n",
       "3                       Leather Horse Statues                  1   \n",
       "4                        24K GOLD plated rose                  1   \n",
       "\n",
       "                                              category_name brand_name  \\\n",
       "train_id                                                                 \n",
       "0                                         Men/Tops/T-shirts              \n",
       "1         Electronics/Computers & Tablets/Components & P...      Razer   \n",
       "2                               Women/Tops & Blouses/Blouse     Target   \n",
       "3                        Home/Home Décor/Home Décor Accents              \n",
       "4                                   Women/Jewelry/Necklaces              \n",
       "\n",
       "          shipping                                   item_description  \\\n",
       "train_id                                                                \n",
       "0                1                                                      \n",
       "1                0  This keyboard is in great condition and works ...   \n",
       "2                1  Adorable top with a hint of lace and a key hol...   \n",
       "3                1  New with tags. Leather horses. Retail for [rm]...   \n",
       "4                0          Complete with certificate of authenticity   \n",
       "\n",
       "            category1            category2           category3  \n",
       "train_id                                                        \n",
       "0                 Men                 Tops            T-shirts  \n",
       "1         Electronics  Computers & Tablets  Components & Parts  \n",
       "2               Women       Tops & Blouses              Blouse  \n",
       "3                Home           Home Décor  Home Décor Accents  \n",
       "4               Women              Jewelry           Necklaces  "
      ]
     },
     "execution_count": 8,
     "metadata": {},
     "output_type": "execute_result"
    }
   ],
   "source": [
    "# Split category into 3 columns (cat1/cat2/cat3 -> separate columns). NaN returns ''\n",
    "def split_categories(category, level):\n",
    "    if type(category) != str:\n",
    "        return ''\n",
    "    else:\n",
    "        categories = category.split('/')\n",
    "        return categories[level]\n",
    "        \n",
    "X['category1'] = X['category_name'].apply(lambda x: split_categories(x, 0))\n",
    "X['category2'] = X['category_name'].apply(lambda x: split_categories(x, 1))\n",
    "X['category3'] = X['category_name'].apply(lambda x: split_categories(x, 2))\n",
    "\n",
    "X.head()"
   ]
  },
  {
   "cell_type": "markdown",
   "metadata": {},
   "source": [
    "### Create dummy variables (one-hot encoding)"
   ]
  },
  {
   "cell_type": "code",
   "execution_count": 9,
   "metadata": {},
   "outputs": [
    {
     "name": "stdout",
     "output_type": "stream",
     "text": [
      "Creating dummy variables and storing as sparse matrices...\n",
      "Done. Time taken: 160.85s\n"
     ]
    }
   ],
   "source": [
    "start_time = time.time()\n",
    "\n",
    "print('Creating dummy variables and storing as sparse matrices...')\n",
    "X_brand = csr_matrix(pd.get_dummies(X['brand_name'], sparse=True, prefix='brand'))\n",
    "X_cat1 = csr_matrix(pd.get_dummies(X['category1'], sparse=True, prefix='cat1'))\n",
    "X_cat2 = csr_matrix(pd.get_dummies(X['category2'], sparse=True, prefix='cat2'))\n",
    "X_cat3 = csr_matrix(pd.get_dummies(X['category3'], sparse=True, prefix='cat3'))\n",
    "X_cond = csr_matrix(pd.get_dummies(X['item_condition_id'], sparse=True, prefix='cond'))\n",
    "X_ship = csr_matrix(pd.get_dummies(X['shipping'], sparse=True, prefix='ship'))\n",
    "\n",
    "print(f'Done. Time taken: {time.time() - start_time:.2f}s')"
   ]
  },
  {
   "cell_type": "markdown",
   "metadata": {},
   "source": [
    "### Transform name and item_description"
   ]
  },
  {
   "cell_type": "code",
   "execution_count": 10,
   "metadata": {},
   "outputs": [
    {
     "name": "stdout",
     "output_type": "stream",
     "text": [
      "Vectorising name...\n",
      "Done. Time taken: 7.61s\n",
      "\n",
      "Vectorising item description...\n",
      "Done. Time taken: 86.35s\n"
     ]
    }
   ],
   "source": [
    "cv_name = CountVectorizer(max_features=20000, lowercase=True, token_pattern='\\w+', ngram_range=(1,1))\n",
    "tv_desc = TfidfVectorizer(max_features=20000, lowercase=True, token_pattern='\\w+', ngram_range=(1,2))\n",
    "\n",
    "# Vectorise name\n",
    "start_time = time.time()\n",
    "print('Vectorising name...')\n",
    "X_name = cv_name.fit_transform(X['name'])\n",
    "print(f'Done. Time taken: {time.time() - start_time:.2f}s\\n')\n",
    "\n",
    "# Vectorise item description\n",
    "start_time = time.time()\n",
    "print('Vectorising item description...')\n",
    "X_desc = tv_desc.fit_transform(X['item_description'])\n",
    "print(f'Done. Time taken: {time.time() - start_time:.2f}s')"
   ]
  },
  {
   "cell_type": "markdown",
   "metadata": {},
   "source": [
    "### Combine features and prepare for training"
   ]
  },
  {
   "cell_type": "code",
   "execution_count": 11,
   "metadata": {},
   "outputs": [
    {
     "name": "stdout",
     "output_type": "stream",
     "text": [
      "Feature dimensions:\n",
      "(1481661, 20000)\n",
      "(1481661, 5)\n",
      "(1481661, 2)\n",
      "(1481661, 20000)\n",
      "(1481661, 4808)\n",
      "(1481661, 11)\n",
      "(1481661, 114)\n",
      "(1481661, 871)\n"
     ]
    }
   ],
   "source": [
    "print('Feature dimensions:')\n",
    "for feature in (X_name,\n",
    "                X_cond,\n",
    "                X_ship,\n",
    "                X_desc,\n",
    "                X_brand,\n",
    "                X_cat1,\n",
    "                X_cat2,\n",
    "                X_cat3):\n",
    "    print(feature.shape)"
   ]
  },
  {
   "cell_type": "code",
   "execution_count": 12,
   "metadata": {},
   "outputs": [
    {
     "name": "stdout",
     "output_type": "stream",
     "text": [
      "Creating overall input data...\n",
      "Done. Time taken: 4.27s\n"
     ]
    }
   ],
   "source": [
    "start_time = time.time()\n",
    "print('Creating overall input data...')\n",
    "\n",
    "# Create final sparse matrix for X\n",
    "X_input = hstack((X_name,\n",
    "                  X_cond,\n",
    "                  X_ship,\n",
    "                  X_desc,\n",
    "                  X_brand,\n",
    "                  X_cat1,\n",
    "                  X_cat2,\n",
    "                  X_cat3)\n",
    "                ).tocsr()\n",
    "\n",
    "# y -> numpy array, then log(y+1)\n",
    "y_input = np.array(y).reshape(-1,1)\n",
    "y_input = np.log1p(y_input)\n",
    "\n",
    "print(f'Done. Time taken: {time.time() - start_time:.2f}s')"
   ]
  },
  {
   "cell_type": "code",
   "execution_count": 13,
   "metadata": {},
   "outputs": [
    {
     "name": "stdout",
     "output_type": "stream",
     "text": [
      "(1481661, 45811)\n",
      "(1481661, 1)\n"
     ]
    }
   ],
   "source": [
    "print(X_input.shape)\n",
    "print(y_input.shape)"
   ]
  },
  {
   "cell_type": "code",
   "execution_count": 14,
   "metadata": {},
   "outputs": [
    {
     "name": "stdout",
     "output_type": "stream",
     "text": [
      "Creating train/validation split...\n",
      "Done. Time taken: 2.36s\n",
      "\n",
      "Train shapes\n",
      "X: (1333494, 45811)\n",
      "Y: (1333494, 1)\n",
      "\n",
      "Validation shapes\n",
      "X: (148167, 45811)\n",
      "Y: (148167, 1)\n"
     ]
    }
   ],
   "source": [
    "start_time = time.time()\n",
    "print('Creating train/validation split...')\n",
    "\n",
    "X_train, X_val, y_train, y_val = train_test_split(X_input, y_input, test_size=0.1)\n",
    "\n",
    "print(f'Done. Time taken: {time.time() - start_time:.2f}s\\n')\n",
    "\n",
    "print(f'Train shapes\\nX: {X_train.shape}\\nY: {y_train.shape}\\n')\n",
    "print(f'Validation shapes\\nX: {X_val.shape}\\nY: {y_val.shape}')"
   ]
  },
  {
   "cell_type": "markdown",
   "metadata": {},
   "source": [
    "## Neural Network"
   ]
  },
  {
   "cell_type": "code",
   "execution_count": 15,
   "metadata": {},
   "outputs": [],
   "source": [
    "## Keras functions\n",
    "def r2_metric(y, y_hat):\n",
    "    RSS = K.sum(K.square(y - y_hat))\n",
    "    TSS = K.sum(K.square(y - K.mean(y)))\n",
    "    r2 = 1 - RSS / (TSS + K.epsilon())\n",
    "    return r2\n",
    "\n",
    "def RMSLE_metric(y, y_hat):    \n",
    "    RMSLE = K.sqrt(K.mean(K.square(y_hat - y)))\n",
    "    return RMSLE\n",
    "\n",
    "## Numpy functions\n",
    "def calc_r2(y, y_hat):\n",
    "    RSS = np.sum((y - y_hat)**2)\n",
    "    TSS = np.sum((y - np.mean(y))**2)\n",
    "    r2 = 1 - RSS / TSS\n",
    "    return r2\n",
    "\n",
    "def calc_RMSLE(y, y_hat):\n",
    "    RMSLE = np.sqrt(np.mean((np.log(y_hat + 1) - np.log(y + 1))**2))\n",
    "    return RMSLE"
   ]
  },
  {
   "cell_type": "code",
   "execution_count": 16,
   "metadata": {
    "scrolled": false
   },
   "outputs": [
    {
     "name": "stdout",
     "output_type": "stream",
     "text": [
      "_________________________________________________________________\n",
      "Layer (type)                 Output Shape              Param #   \n",
      "=================================================================\n",
      "input_1 (InputLayer)         (None, 45811)             0         \n",
      "_________________________________________________________________\n",
      "dense_1 (Dense)              (None, 192)               8795904   \n",
      "_________________________________________________________________\n",
      "dense_2 (Dense)              (None, 64)                12352     \n",
      "_________________________________________________________________\n",
      "dense_3 (Dense)              (None, 64)                4160      \n",
      "_________________________________________________________________\n",
      "dense_4 (Dense)              (None, 1)                 65        \n",
      "=================================================================\n",
      "Total params: 8,812,481\n",
      "Trainable params: 8,812,481\n",
      "Non-trainable params: 0\n",
      "_________________________________________________________________\n",
      "None\n"
     ]
    }
   ],
   "source": [
    "model_input = keras.Input(shape=(X_input.shape[1],), dtype='float32', sparse=True)\n",
    "hidden1 = keras.layers.Dense(192, activation='relu')(model_input)\n",
    "hidden2 = keras.layers.Dense(64, activation='relu')(hidden1)\n",
    "hidden3 = keras.layers.Dense(64, activation='relu')(hidden2)\n",
    "model_output = keras.layers.Dense(1)(hidden3)\n",
    "\n",
    "model = keras.Model(model_input, model_output)\n",
    "model.compile(loss='mean_squared_error', optimizer=keras.optimizers.adam(lr=3e-3), metrics=[RMSLE_metric])\n",
    "print(model.summary())"
   ]
  },
  {
   "cell_type": "code",
   "execution_count": 17,
   "metadata": {},
   "outputs": [
    {
     "name": "stdout",
     "output_type": "stream",
     "text": [
      "Train on 1333494 samples, validate on 148167 samples\n",
      "Epoch 1/1\n",
      "1333494/1333494 [==============================] - 55s 41us/step - loss: 0.3097 - RMSLE_metric: 0.5060 - val_loss: 0.1964 - val_RMSLE_metric: 0.4430\n",
      "\n",
      "Train on 1333494 samples, validate on 148167 samples\n",
      "Epoch 1/1\n",
      "1333494/1333494 [==============================] - 35s 26us/step - loss: 0.1621 - RMSLE_metric: 0.4026 - val_loss: 0.1831 - val_RMSLE_metric: 0.4279\n",
      "\n",
      "Training finished. Time taken: 90.80s\n"
     ]
    }
   ],
   "source": [
    "epochs = 2\n",
    "training_start = time.time() # 0.5036,0.4439 / 0.4071,0.4332\n",
    "\n",
    "# Epochs done via for loop so we can increase batch size over time\n",
    "for i in range(1, epochs+1): # verbose ~3.5% slower\n",
    "    epoch_start = time.time()\n",
    "    # print(f'Epoch {i}/{epochs}')\n",
    "    model.fit(X_train, y_train, batch_size=2048*i, epochs=1, validation_data=(X_val, y_val), verbose=1,\n",
    "              callbacks=[EarlyStopping(patience=1, monitor='val_loss', restore_best_weights=True)])\n",
    "    print()\n",
    "    # print(f'Finished. Time taken: {time.time() - epoch_start:.2f}s')\n",
    "    \n",
    "print(f'Training finished. Time taken: {time.time() - training_start:.2f}s')"
   ]
  },
  {
   "cell_type": "code",
   "execution_count": 18,
   "metadata": {},
   "outputs": [
    {
     "name": "stdout",
     "output_type": "stream",
     "text": [
      "1333494/1333494 [==============================] - 47s 35us/step\n",
      "148167/148167 [==============================] - 5s 35us/step\n"
     ]
    }
   ],
   "source": [
    "# Get train/validation predictions\n",
    "y_hat_train = model.predict(X_train, verbose=1)\n",
    "y_hat_val = model.predict(X_val, verbose=1)"
   ]
  },
  {
   "cell_type": "code",
   "execution_count": 19,
   "metadata": {},
   "outputs": [
    {
     "name": "stdout",
     "output_type": "stream",
     "text": [
      "RMSLE\n",
      "Train: 0.3623\n",
      "Val: 0.4279\n",
      "\n",
      "r2\n",
      "Train: 0.6531\n",
      "Val: 0.5291\n",
      "\n",
      "log r2\n",
      "Train: 0.7641\n",
      "Val: 0.6706\n"
     ]
    }
   ],
   "source": [
    "# Root mean squared logarithmic error\n",
    "RMSLE_train = calc_RMSLE(np.expm1(y_train), np.expm1(y_hat_train))\n",
    "RMSLE_val = calc_RMSLE(np.expm1(y_val), np.expm1(y_hat_val))\n",
    "print(f'RMSLE\\nTrain: {RMSLE_train:.4f}\\nVal: {RMSLE_val:.4f}\\n')\n",
    "# Best | Train: 0.3272 | Val: 0.4254 | 20k/20k CV/TV\n",
    "\n",
    "# R squared (fraction of variance explained)\n",
    "# Non-log\n",
    "r2_train = calc_r2(np.expm1(y_train), np.expm1(y_hat_train))\n",
    "r2_val = calc_r2(np.expm1(y_val), np.expm1(y_hat_val))\n",
    "print(f'r2\\nTrain: {r2_train:.4f}\\nVal: {r2_val:.4f}\\n')\n",
    "\n",
    "# Log\n",
    "log_r2_train = calc_r2(y_train, y_hat_train)\n",
    "log_r2_val = calc_r2(y_val, y_hat_val)\n",
    "print(f'log r2\\nTrain: {log_r2_train:.4f}\\nVal: {log_r2_val:.4f}')"
   ]
  },
  {
   "cell_type": "code",
   "execution_count": 20,
   "metadata": {},
   "outputs": [
    {
     "name": "stdout",
     "output_type": "stream",
     "text": [
      "Total notebook run time: 418.64s\n"
     ]
    }
   ],
   "source": [
    "print(f'Total notebook run time: {time.time() - notebook_start:.2f}s')"
   ]
  },
  {
   "cell_type": "markdown",
   "metadata": {},
   "source": [
    "## Bonus stuff"
   ]
  },
  {
   "cell_type": "markdown",
   "metadata": {},
   "source": [
    "### Ridge regression (for comparison)"
   ]
  },
  {
   "cell_type": "code",
   "execution_count": 21,
   "metadata": {},
   "outputs": [
    {
     "name": "stdout",
     "output_type": "stream",
     "text": [
      "Fitting ridge regression...\n",
      "Done. Time taken: 164.31s\n"
     ]
    }
   ],
   "source": [
    "from sklearn.linear_model import Ridge\n",
    "\n",
    "start_time = time.time()\n",
    "model2 = Ridge(solver='sag', fit_intercept=False)\n",
    "print('Fitting ridge regression...')\n",
    "model2.fit(X_train, y_train)\n",
    "print(f'Done. Time taken: {time.time() - start_time:.2f}s')"
   ]
  },
  {
   "cell_type": "code",
   "execution_count": 22,
   "metadata": {},
   "outputs": [
    {
     "name": "stdout",
     "output_type": "stream",
     "text": [
      "RMSLE\n",
      "Train: 0.4239\n",
      "Val: 0.4404\n",
      "\n",
      "r2\n",
      "Train: 0.4833\n",
      "Val: 0.4551\n",
      "\n",
      "log r2\n",
      "Train: 0.6424\n",
      "Val: 0.6137\n"
     ]
    }
   ],
   "source": [
    "y_hat_train2 = model2.predict(X_train)\n",
    "y_hat_val2 = model2.predict(X_val)\n",
    "\n",
    "RMSLE_train2 = calc_RMSLE(np.exp(y_train), np.exp(y_hat_train2))\n",
    "RMSLE_val2 = calc_RMSLE(np.exp(y_val), np.exp(y_hat_val2))\n",
    "\n",
    "print(f'RMSLE\\nTrain: {RMSLE_train2:.4f}\\nVal: {RMSLE_val2:.4f}\\n')\n",
    "\n",
    "r2_train2 = calc_r2(np.exp(y_train), np.exp(y_hat_train2))\n",
    "r2_val2 = calc_r2(np.exp(y_val), np.exp(y_hat_val2))\n",
    "\n",
    "print(f'r2\\nTrain: {r2_train2:.4f}\\nVal: {r2_val2:.4f}\\n')\n",
    "\n",
    "log_r2_train2 = calc_r2(y_train, y_hat_train2)\n",
    "log_r2_val2 = calc_r2(y_val, y_hat_val2)\n",
    "\n",
    "print(f'log r2\\nTrain: {log_r2_train2:.4f}\\nVal: {log_r2_val2:.4f}')"
   ]
  }
 ],
 "metadata": {
  "kernelspec": {
   "display_name": "Python 3",
   "language": "python",
   "name": "python3"
  },
  "language_info": {
   "codemirror_mode": {
    "name": "ipython",
    "version": 3
   },
   "file_extension": ".py",
   "mimetype": "text/x-python",
   "name": "python",
   "nbconvert_exporter": "python",
   "pygments_lexer": "ipython3",
   "version": "3.6.5"
  }
 },
 "nbformat": 4,
 "nbformat_minor": 2
}
