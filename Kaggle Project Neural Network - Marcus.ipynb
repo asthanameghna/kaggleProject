{
 "cells": [
  {
   "cell_type": "code",
   "execution_count": 1,
   "metadata": {},
   "outputs": [
    {
     "name": "stderr",
     "output_type": "stream",
     "text": [
      "/Users/Marcus/anaconda3/lib/python3.6/site-packages/h5py/__init__.py:36: FutureWarning: Conversion of the second argument of issubdtype from `float` to `np.floating` is deprecated. In future, it will be treated as `np.float64 == np.dtype(float).type`.\n",
      "  from ._conv import register_converters as _register_converters\n",
      "Using TensorFlow backend.\n"
     ]
    }
   ],
   "source": [
    "import csv, string, re, time, nltk, sys\n",
    "import numpy as np\n",
    "import pandas as pd\n",
    "from collections import defaultdict\n",
    "\n",
    "from scipy.sparse import csr_matrix, hstack\n",
    "from sklearn.feature_extraction.text import TfidfVectorizer, CountVectorizer\n",
    "from sklearn.preprocessing import LabelBinarizer\n",
    "from sklearn.model_selection import train_test_split\n",
    "stopwords = nltk.corpus.stopwords.words('english')\n",
    "\n",
    "# Neural Network\n",
    "import keras\n",
    "import keras.backend as K\n",
    "from keras.layers import Dense\n",
    "from keras.callbacks import EarlyStopping\n",
    "from keras.models import Sequential"
   ]
  },
  {
   "cell_type": "code",
   "execution_count": 2,
   "metadata": {},
   "outputs": [],
   "source": [
    "# Record total notebook run time\n",
    "notebook_start = time.time()"
   ]
  },
  {
   "cell_type": "code",
   "execution_count": 3,
   "metadata": {},
   "outputs": [
    {
     "name": "stdout",
     "output_type": "stream",
     "text": [
      "Parsing data from TSV files...\n"
     ]
    },
    {
     "name": "stderr",
     "output_type": "stream",
     "text": [
      "/Users/Marcus/anaconda3/lib/python3.6/site-packages/numpy/lib/arraysetops.py:472: FutureWarning: elementwise comparison failed; returning scalar instead, but in the future will perform elementwise comparison\n",
      "  mask |= (ar1 == a)\n"
     ]
    },
    {
     "name": "stdout",
     "output_type": "stream",
     "text": [
      "Done. Took 8.04s\n"
     ]
    }
   ],
   "source": [
    "print('Parsing data from TSV files...')\n",
    "start_time = time.time()\n",
    "df_train = pd.read_csv('train.tsv', delimiter='\\t', index_col=['train_id'])\n",
    "df_test = pd.read_csv('test.tsv', delimiter='\\t', index_col=['test_id'])\n",
    "print(f'Done. Took {time.time()-start_time:.2f}s')"
   ]
  },
  {
   "cell_type": "code",
   "execution_count": 4,
   "metadata": {},
   "outputs": [
    {
     "data": {
      "text/html": [
       "<div>\n",
       "<style scoped>\n",
       "    .dataframe tbody tr th:only-of-type {\n",
       "        vertical-align: middle;\n",
       "    }\n",
       "\n",
       "    .dataframe tbody tr th {\n",
       "        vertical-align: top;\n",
       "    }\n",
       "\n",
       "    .dataframe thead th {\n",
       "        text-align: right;\n",
       "    }\n",
       "</style>\n",
       "<table border=\"1\" class=\"dataframe\">\n",
       "  <thead>\n",
       "    <tr style=\"text-align: right;\">\n",
       "      <th></th>\n",
       "      <th>name</th>\n",
       "      <th>item_condition_id</th>\n",
       "      <th>category_name</th>\n",
       "      <th>brand_name</th>\n",
       "      <th>price</th>\n",
       "      <th>shipping</th>\n",
       "      <th>item_description</th>\n",
       "    </tr>\n",
       "    <tr>\n",
       "      <th>train_id</th>\n",
       "      <th></th>\n",
       "      <th></th>\n",
       "      <th></th>\n",
       "      <th></th>\n",
       "      <th></th>\n",
       "      <th></th>\n",
       "      <th></th>\n",
       "    </tr>\n",
       "  </thead>\n",
       "  <tbody>\n",
       "    <tr>\n",
       "      <th>0</th>\n",
       "      <td>MLB Cincinnati Reds T Shirt Size XL</td>\n",
       "      <td>3</td>\n",
       "      <td>Men/Tops/T-shirts</td>\n",
       "      <td>NaN</td>\n",
       "      <td>10.0</td>\n",
       "      <td>1</td>\n",
       "      <td>No description yet</td>\n",
       "    </tr>\n",
       "    <tr>\n",
       "      <th>1</th>\n",
       "      <td>Razer BlackWidow Chroma Keyboard</td>\n",
       "      <td>3</td>\n",
       "      <td>Electronics/Computers &amp; Tablets/Components &amp; P...</td>\n",
       "      <td>Razer</td>\n",
       "      <td>52.0</td>\n",
       "      <td>0</td>\n",
       "      <td>This keyboard is in great condition and works ...</td>\n",
       "    </tr>\n",
       "    <tr>\n",
       "      <th>2</th>\n",
       "      <td>AVA-VIV Blouse</td>\n",
       "      <td>1</td>\n",
       "      <td>Women/Tops &amp; Blouses/Blouse</td>\n",
       "      <td>Target</td>\n",
       "      <td>10.0</td>\n",
       "      <td>1</td>\n",
       "      <td>Adorable top with a hint of lace and a key hol...</td>\n",
       "    </tr>\n",
       "    <tr>\n",
       "      <th>3</th>\n",
       "      <td>Leather Horse Statues</td>\n",
       "      <td>1</td>\n",
       "      <td>Home/Home Décor/Home Décor Accents</td>\n",
       "      <td>NaN</td>\n",
       "      <td>35.0</td>\n",
       "      <td>1</td>\n",
       "      <td>New with tags. Leather horses. Retail for [rm]...</td>\n",
       "    </tr>\n",
       "    <tr>\n",
       "      <th>4</th>\n",
       "      <td>24K GOLD plated rose</td>\n",
       "      <td>1</td>\n",
       "      <td>Women/Jewelry/Necklaces</td>\n",
       "      <td>NaN</td>\n",
       "      <td>44.0</td>\n",
       "      <td>0</td>\n",
       "      <td>Complete with certificate of authenticity</td>\n",
       "    </tr>\n",
       "  </tbody>\n",
       "</table>\n",
       "</div>"
      ],
      "text/plain": [
       "                                         name  item_condition_id  \\\n",
       "train_id                                                           \n",
       "0         MLB Cincinnati Reds T Shirt Size XL                  3   \n",
       "1            Razer BlackWidow Chroma Keyboard                  3   \n",
       "2                              AVA-VIV Blouse                  1   \n",
       "3                       Leather Horse Statues                  1   \n",
       "4                        24K GOLD plated rose                  1   \n",
       "\n",
       "                                              category_name brand_name  price  \\\n",
       "train_id                                                                        \n",
       "0                                         Men/Tops/T-shirts        NaN   10.0   \n",
       "1         Electronics/Computers & Tablets/Components & P...      Razer   52.0   \n",
       "2                               Women/Tops & Blouses/Blouse     Target   10.0   \n",
       "3                        Home/Home Décor/Home Décor Accents        NaN   35.0   \n",
       "4                                   Women/Jewelry/Necklaces        NaN   44.0   \n",
       "\n",
       "          shipping                                   item_description  \n",
       "train_id                                                               \n",
       "0                1                                 No description yet  \n",
       "1                0  This keyboard is in great condition and works ...  \n",
       "2                1  Adorable top with a hint of lace and a key hol...  \n",
       "3                1  New with tags. Leather horses. Retail for [rm]...  \n",
       "4                0          Complete with certificate of authenticity  "
      ]
     },
     "execution_count": 4,
     "metadata": {},
     "output_type": "execute_result"
    }
   ],
   "source": [
    "df_train.head()"
   ]
  },
  {
   "cell_type": "code",
   "execution_count": 5,
   "metadata": {},
   "outputs": [
    {
     "name": "stdout",
     "output_type": "stream",
     "text": [
      "Dropped 874 zero-price entries\n"
     ]
    }
   ],
   "source": [
    "# Drop price\n",
    "initial_size = df_train.shape[0]\n",
    "df_train = df_train.drop(df_train[(df_train['price'] == 0)].index)\n",
    "print(f'Dropped {initial_size - df_train.shape[0]} zero-price entries')"
   ]
  },
  {
   "cell_type": "markdown",
   "metadata": {},
   "source": [
    "## X/y split"
   ]
  },
  {
   "cell_type": "code",
   "execution_count": 6,
   "metadata": {},
   "outputs": [],
   "source": [
    "# We will now split the dataframe into X (features/inputs) and y (target variable).\n",
    "y = df_train.loc[:, 'price']\n",
    "y = pd.to_numeric(y)\n",
    "\n",
    "X = df_train\n",
    "del X['price']"
   ]
  },
  {
   "cell_type": "code",
   "execution_count": 7,
   "metadata": {},
   "outputs": [
    {
     "data": {
      "text/html": [
       "<div>\n",
       "<style scoped>\n",
       "    .dataframe tbody tr th:only-of-type {\n",
       "        vertical-align: middle;\n",
       "    }\n",
       "\n",
       "    .dataframe tbody tr th {\n",
       "        vertical-align: top;\n",
       "    }\n",
       "\n",
       "    .dataframe thead th {\n",
       "        text-align: right;\n",
       "    }\n",
       "</style>\n",
       "<table border=\"1\" class=\"dataframe\">\n",
       "  <thead>\n",
       "    <tr style=\"text-align: right;\">\n",
       "      <th></th>\n",
       "      <th>name</th>\n",
       "      <th>item_condition_id</th>\n",
       "      <th>category_name</th>\n",
       "      <th>brand_name</th>\n",
       "      <th>shipping</th>\n",
       "      <th>item_description</th>\n",
       "    </tr>\n",
       "    <tr>\n",
       "      <th>train_id</th>\n",
       "      <th></th>\n",
       "      <th></th>\n",
       "      <th></th>\n",
       "      <th></th>\n",
       "      <th></th>\n",
       "      <th></th>\n",
       "    </tr>\n",
       "  </thead>\n",
       "  <tbody>\n",
       "    <tr>\n",
       "      <th>0</th>\n",
       "      <td>MLB Cincinnati Reds T Shirt Size XL</td>\n",
       "      <td>3</td>\n",
       "      <td>Men/Tops/T-shirts</td>\n",
       "      <td>NaN</td>\n",
       "      <td>1</td>\n",
       "      <td>No description yet</td>\n",
       "    </tr>\n",
       "    <tr>\n",
       "      <th>1</th>\n",
       "      <td>Razer BlackWidow Chroma Keyboard</td>\n",
       "      <td>3</td>\n",
       "      <td>Electronics/Computers &amp; Tablets/Components &amp; P...</td>\n",
       "      <td>Razer</td>\n",
       "      <td>0</td>\n",
       "      <td>This keyboard is in great condition and works ...</td>\n",
       "    </tr>\n",
       "    <tr>\n",
       "      <th>2</th>\n",
       "      <td>AVA-VIV Blouse</td>\n",
       "      <td>1</td>\n",
       "      <td>Women/Tops &amp; Blouses/Blouse</td>\n",
       "      <td>Target</td>\n",
       "      <td>1</td>\n",
       "      <td>Adorable top with a hint of lace and a key hol...</td>\n",
       "    </tr>\n",
       "    <tr>\n",
       "      <th>3</th>\n",
       "      <td>Leather Horse Statues</td>\n",
       "      <td>1</td>\n",
       "      <td>Home/Home Décor/Home Décor Accents</td>\n",
       "      <td>NaN</td>\n",
       "      <td>1</td>\n",
       "      <td>New with tags. Leather horses. Retail for [rm]...</td>\n",
       "    </tr>\n",
       "    <tr>\n",
       "      <th>4</th>\n",
       "      <td>24K GOLD plated rose</td>\n",
       "      <td>1</td>\n",
       "      <td>Women/Jewelry/Necklaces</td>\n",
       "      <td>NaN</td>\n",
       "      <td>0</td>\n",
       "      <td>Complete with certificate of authenticity</td>\n",
       "    </tr>\n",
       "  </tbody>\n",
       "</table>\n",
       "</div>"
      ],
      "text/plain": [
       "                                         name  item_condition_id  \\\n",
       "train_id                                                           \n",
       "0         MLB Cincinnati Reds T Shirt Size XL                  3   \n",
       "1            Razer BlackWidow Chroma Keyboard                  3   \n",
       "2                              AVA-VIV Blouse                  1   \n",
       "3                       Leather Horse Statues                  1   \n",
       "4                        24K GOLD plated rose                  1   \n",
       "\n",
       "                                              category_name brand_name  \\\n",
       "train_id                                                                 \n",
       "0                                         Men/Tops/T-shirts        NaN   \n",
       "1         Electronics/Computers & Tablets/Components & P...      Razer   \n",
       "2                               Women/Tops & Blouses/Blouse     Target   \n",
       "3                        Home/Home Décor/Home Décor Accents        NaN   \n",
       "4                                   Women/Jewelry/Necklaces        NaN   \n",
       "\n",
       "          shipping                                   item_description  \n",
       "train_id                                                               \n",
       "0                1                                 No description yet  \n",
       "1                0  This keyboard is in great condition and works ...  \n",
       "2                1  Adorable top with a hint of lace and a key hol...  \n",
       "3                1  New with tags. Leather horses. Retail for [rm]...  \n",
       "4                0          Complete with certificate of authenticity  "
      ]
     },
     "execution_count": 7,
     "metadata": {},
     "output_type": "execute_result"
    }
   ],
   "source": [
    "X.head()"
   ]
  },
  {
   "cell_type": "markdown",
   "metadata": {},
   "source": [
    "## Category"
   ]
  },
  {
   "cell_type": "code",
   "execution_count": 8,
   "metadata": {
    "scrolled": false
   },
   "outputs": [
    {
     "name": "stdout",
     "output_type": "stream",
     "text": [
      "Number of entries with 3 categories: 1470962\n",
      "Number of entries with null categories: 6314\n",
      "Number of entries with 5 categories: 3055\n",
      "Number of entries with 4 categories: 1330\n"
     ]
    }
   ],
   "source": [
    "# Exploring data\n",
    "num_categories_dict = defaultdict(int)\n",
    "for i, category in enumerate(X['category_name']):\n",
    "    if type(category) != str:\n",
    "        num_categories_dict['null'] += 1\n",
    "        continue\n",
    "    else:\n",
    "        categories = category.split('/')\n",
    "        num_categories = len(categories)\n",
    "        num_categories_dict[num_categories] += 1\n",
    "        \n",
    "for k, v in num_categories_dict.items():\n",
    "    print(f'Number of entries with {k} categories: {v}')"
   ]
  },
  {
   "cell_type": "code",
   "execution_count": 9,
   "metadata": {},
   "outputs": [],
   "source": [
    "# Split category into 3 columns (cat1/cat2/cat3 -> separate columns)\n",
    "def split_categories(category, level):\n",
    "    if type(category) != str:\n",
    "        return 'null'\n",
    "    else:\n",
    "        categories = category.split('/')\n",
    "        return categories[level]\n",
    "        \n",
    "X['category1'] = X['category_name'].apply(lambda x: split_categories(x, 0))\n",
    "X['category2'] = X['category_name'].apply(lambda x: split_categories(x, 1))\n",
    "X['category3'] = X['category_name'].apply(lambda x: split_categories(x, 2))\n",
    "\n",
    "#X.head()"
   ]
  },
  {
   "cell_type": "markdown",
   "metadata": {},
   "source": [
    "## Brand name"
   ]
  },
  {
   "cell_type": "code",
   "execution_count": 10,
   "metadata": {},
   "outputs": [
    {
     "name": "stdout",
     "output_type": "stream",
     "text": [
      "Total brands: 4807\n",
      "Brands with fewer than 5 instances: 2418\n"
     ]
    }
   ],
   "source": [
    "threshold = 5\n",
    "brand_counts = X.groupby('brand_name').apply(lambda x: x.index.nunique())\n",
    "low_brand_counts = brand_counts[brand_counts < threshold]\n",
    "print(f'Total brands: {len(brand_counts)}\\nBrands with fewer than {threshold} instances: {len(low_brand_counts)}')\n",
    "\n",
    "# Convert missing data - and brands with less than 'threshold' instances - to brand \"Other\"\n",
    "X['brand_name'] = X['brand_name'].apply(lambda x: 'Other' if (x in low_brand_counts or type(x) != str) else x)"
   ]
  },
  {
   "cell_type": "markdown",
   "metadata": {},
   "source": [
    "## Dummy variables (one-hot encoding)"
   ]
  },
  {
   "cell_type": "code",
   "execution_count": 11,
   "metadata": {},
   "outputs": [
    {
     "name": "stdout",
     "output_type": "stream",
     "text": [
      "Creating dummy variables and storing as sparse matrices...\n",
      "Done. Time taken: 88.15s\n"
     ]
    }
   ],
   "source": [
    "start_time = time.time()\n",
    "\n",
    "print('Creating dummy variables and storing as sparse matrices...')\n",
    "X_brand = csr_matrix(pd.get_dummies(X['brand_name'], sparse=True, prefix='brand'))\n",
    "X_cat1 = csr_matrix(pd.get_dummies(X['category1'], sparse=True, prefix='cat1'))\n",
    "X_cat2 = csr_matrix(pd.get_dummies(X['category2'], sparse=True, prefix='cat2'))\n",
    "X_cat3 = csr_matrix(pd.get_dummies(X['category3'], sparse=True, prefix='cat3'))\n",
    "X_cond = csr_matrix(pd.get_dummies(X['item_condition_id'], sparse=True, prefix='cond'))\n",
    "X_ship = csr_matrix(pd.get_dummies(X['shipping'], sparse=True, prefix='ship'))\n",
    "\n",
    "print(f'Done. Time taken: {time.time() - start_time:.2f}s')"
   ]
  },
  {
   "cell_type": "markdown",
   "metadata": {},
   "source": [
    "## Cleaning name and item description"
   ]
  },
  {
   "cell_type": "code",
   "execution_count": 12,
   "metadata": {},
   "outputs": [],
   "source": [
    "def format_string(s):\n",
    "    \"\"\"\n",
    "    Takes a string as input and 'cleans' it.\n",
    "    \"\"\"\n",
    "    # Lowercase\n",
    "    s = s.lower()\n",
    "    # Remove hyperlinks\n",
    "    s = re.sub(r'https?:\\/\\/.*\\/\\w*', '', s)\n",
    "    # Replace hyphens with a space\n",
    "    s = s.replace('-', ' ')\n",
    "    # Remove punctuation (important that we removed hyperlinks before this stage)\n",
    "    s = re.sub(r'[^\\w\\s]', '', s)\n",
    "    # Remove words with <=2 letters\n",
    "    s = re.sub(r'\\b\\w{1,2}\\b', '', s)\n",
    "    # Replace excess whitespace with a single space, then strip the whitespace on the edges of the string\n",
    "    s = re.sub(r'\\s\\s+', ' ', s)\n",
    "    s = s.strip()\n",
    "    \n",
    "    # Break sentence into tokens, remove stopwords and stem the string\n",
    "    s = ' '.join([stemmer.stem(token) for token in s.split(' ') if token not in stopwords])\n",
    "    return s"
   ]
  },
  {
   "cell_type": "code",
   "execution_count": 13,
   "metadata": {},
   "outputs": [
    {
     "name": "stdout",
     "output_type": "stream",
     "text": [
      "Cleaning name and item description...\n",
      "Done. Time taken: 677.94s\n"
     ]
    },
    {
     "data": {
      "text/html": [
       "<div>\n",
       "<style scoped>\n",
       "    .dataframe tbody tr th:only-of-type {\n",
       "        vertical-align: middle;\n",
       "    }\n",
       "\n",
       "    .dataframe tbody tr th {\n",
       "        vertical-align: top;\n",
       "    }\n",
       "\n",
       "    .dataframe thead th {\n",
       "        text-align: right;\n",
       "    }\n",
       "</style>\n",
       "<table border=\"1\" class=\"dataframe\">\n",
       "  <thead>\n",
       "    <tr style=\"text-align: right;\">\n",
       "      <th></th>\n",
       "      <th>name</th>\n",
       "      <th>item_condition_id</th>\n",
       "      <th>category_name</th>\n",
       "      <th>brand_name</th>\n",
       "      <th>shipping</th>\n",
       "      <th>item_description</th>\n",
       "      <th>category1</th>\n",
       "      <th>category2</th>\n",
       "      <th>category3</th>\n",
       "    </tr>\n",
       "    <tr>\n",
       "      <th>train_id</th>\n",
       "      <th></th>\n",
       "      <th></th>\n",
       "      <th></th>\n",
       "      <th></th>\n",
       "      <th></th>\n",
       "      <th></th>\n",
       "      <th></th>\n",
       "      <th></th>\n",
       "      <th></th>\n",
       "    </tr>\n",
       "  </thead>\n",
       "  <tbody>\n",
       "    <tr>\n",
       "      <th>0</th>\n",
       "      <td>mlb cincinnati red shirt size</td>\n",
       "      <td>3</td>\n",
       "      <td>Men/Tops/T-shirts</td>\n",
       "      <td>Other</td>\n",
       "      <td>1</td>\n",
       "      <td>None</td>\n",
       "      <td>Men</td>\n",
       "      <td>Tops</td>\n",
       "      <td>T-shirts</td>\n",
       "    </tr>\n",
       "    <tr>\n",
       "      <th>1</th>\n",
       "      <td>razer blackwidow chroma keyboard</td>\n",
       "      <td>3</td>\n",
       "      <td>Electronics/Computers &amp; Tablets/Components &amp; P...</td>\n",
       "      <td>Razer</td>\n",
       "      <td>0</td>\n",
       "      <td>keyboard great condit work like came box port ...</td>\n",
       "      <td>Electronics</td>\n",
       "      <td>Computers &amp; Tablets</td>\n",
       "      <td>Components &amp; Parts</td>\n",
       "    </tr>\n",
       "    <tr>\n",
       "      <th>2</th>\n",
       "      <td>ava viv blous</td>\n",
       "      <td>1</td>\n",
       "      <td>Women/Tops &amp; Blouses/Blouse</td>\n",
       "      <td>Target</td>\n",
       "      <td>1</td>\n",
       "      <td>ador top hint lace key hole back pale pink als...</td>\n",
       "      <td>Women</td>\n",
       "      <td>Tops &amp; Blouses</td>\n",
       "      <td>Blouse</td>\n",
       "    </tr>\n",
       "    <tr>\n",
       "      <th>3</th>\n",
       "      <td>leather hors statu</td>\n",
       "      <td>1</td>\n",
       "      <td>Home/Home Décor/Home Décor Accents</td>\n",
       "      <td>Other</td>\n",
       "      <td>1</td>\n",
       "      <td>new tag leather hors retail stand foot high so...</td>\n",
       "      <td>Home</td>\n",
       "      <td>Home Décor</td>\n",
       "      <td>Home Décor Accents</td>\n",
       "    </tr>\n",
       "    <tr>\n",
       "      <th>4</th>\n",
       "      <td>24k gold plate rose</td>\n",
       "      <td>1</td>\n",
       "      <td>Women/Jewelry/Necklaces</td>\n",
       "      <td>Other</td>\n",
       "      <td>0</td>\n",
       "      <td>complet certif authent</td>\n",
       "      <td>Women</td>\n",
       "      <td>Jewelry</td>\n",
       "      <td>Necklaces</td>\n",
       "    </tr>\n",
       "  </tbody>\n",
       "</table>\n",
       "</div>"
      ],
      "text/plain": [
       "                                      name  item_condition_id  \\\n",
       "train_id                                                        \n",
       "0            mlb cincinnati red shirt size                  3   \n",
       "1         razer blackwidow chroma keyboard                  3   \n",
       "2                            ava viv blous                  1   \n",
       "3                       leather hors statu                  1   \n",
       "4                      24k gold plate rose                  1   \n",
       "\n",
       "                                              category_name brand_name  \\\n",
       "train_id                                                                 \n",
       "0                                         Men/Tops/T-shirts      Other   \n",
       "1         Electronics/Computers & Tablets/Components & P...      Razer   \n",
       "2                               Women/Tops & Blouses/Blouse     Target   \n",
       "3                        Home/Home Décor/Home Décor Accents      Other   \n",
       "4                                   Women/Jewelry/Necklaces      Other   \n",
       "\n",
       "          shipping                                   item_description  \\\n",
       "train_id                                                                \n",
       "0                1                                               None   \n",
       "1                0  keyboard great condit work like came box port ...   \n",
       "2                1  ador top hint lace key hole back pale pink als...   \n",
       "3                1  new tag leather hors retail stand foot high so...   \n",
       "4                0                             complet certif authent   \n",
       "\n",
       "            category1            category2           category3  \n",
       "train_id                                                        \n",
       "0                 Men                 Tops            T-shirts  \n",
       "1         Electronics  Computers & Tablets  Components & Parts  \n",
       "2               Women       Tops & Blouses              Blouse  \n",
       "3                Home           Home Décor  Home Décor Accents  \n",
       "4               Women              Jewelry           Necklaces  "
      ]
     },
     "execution_count": 13,
     "metadata": {},
     "output_type": "execute_result"
    }
   ],
   "source": [
    "stemmer = nltk.stem.porter.PorterStemmer()\n",
    "\n",
    "start_time = time.time()\n",
    "\n",
    "print('Cleaning name and item description...')\n",
    "X['name'] = X['name'].apply(lambda x: format_string(x))\n",
    "X['item_description'] = X['item_description'].apply(lambda x: 'None' if x=='No description yet' or type(x) != str else format_string(x))\n",
    "\n",
    "print(f'Done. Time taken: {time.time() - start_time:.2f}s')\n",
    "X.head()"
   ]
  },
  {
   "cell_type": "markdown",
   "metadata": {},
   "source": [
    "## Transform name and item_description"
   ]
  },
  {
   "cell_type": "code",
   "execution_count": 14,
   "metadata": {},
   "outputs": [
    {
     "name": "stdout",
     "output_type": "stream",
     "text": [
      "Vectorising name...\n",
      "Done. Time taken: 14.70s\n",
      "\n",
      "Vectorising item description...\n",
      "Done. Time taken: 77.06s\n"
     ]
    }
   ],
   "source": [
    "cv = CountVectorizer(max_features=5000, ngram_range=(1,1))\n",
    "tv = TfidfVectorizer(max_features=5000, ngram_range=(1,2))\n",
    "\n",
    "# Vectorise name\n",
    "start_time = time.time()\n",
    "print('Vectorising name...')\n",
    "X_name = cv.fit_transform(X['name'])\n",
    "print(f'Done. Time taken: {time.time() - start_time:.2f}s\\n')\n",
    "\n",
    "# Vectorise item description\n",
    "start_time = time.time()\n",
    "print('Vectorising item description...')\n",
    "X_desc = tv.fit_transform(X['item_description'])\n",
    "print(f'Done. Time taken: {time.time() - start_time:.2f}s')"
   ]
  },
  {
   "cell_type": "code",
   "execution_count": 15,
   "metadata": {},
   "outputs": [
    {
     "name": "stdout",
     "output_type": "stream",
     "text": [
      "Feature dimensions:\n",
      "(1481661, 5000)\n",
      "(1481661, 5)\n",
      "(1481661, 2)\n",
      "(1481661, 5000)\n",
      "(1481661, 2390)\n",
      "(1481661, 11)\n",
      "(1481661, 114)\n",
      "(1481661, 871)\n"
     ]
    }
   ],
   "source": [
    "print('Feature dimensions:')\n",
    "for feature in (X_name,\n",
    "                X_cond,\n",
    "                X_ship,\n",
    "                X_desc,\n",
    "                X_brand,\n",
    "                X_cat1,\n",
    "                X_cat2,\n",
    "                X_cat3):\n",
    "    print(feature.shape)"
   ]
  },
  {
   "cell_type": "code",
   "execution_count": 16,
   "metadata": {},
   "outputs": [
    {
     "name": "stdout",
     "output_type": "stream",
     "text": [
      "Creating overall input data...\n",
      "Done. Time taken: 2.80s\n"
     ]
    }
   ],
   "source": [
    "start_time = time.time()\n",
    "print('Creating overall input data...')\n",
    "\n",
    "# Create final sparse matrix for X\n",
    "X_input = hstack((X_name,\n",
    "                  X_cond,\n",
    "                  X_ship,\n",
    "                  X_desc,\n",
    "                  X_brand,\n",
    "                  X_cat1,\n",
    "                  X_cat2,\n",
    "                  X_cat3)\n",
    "                ).tocsr()\n",
    "\n",
    "# y -> numpy array, then log(y+1)\n",
    "y_input = np.array(y).reshape(-1,1)\n",
    "y_input = np.log1p(y_input)\n",
    "\n",
    "print(f'Done. Time taken: {time.time() - start_time:.2f}s')"
   ]
  },
  {
   "cell_type": "code",
   "execution_count": 17,
   "metadata": {},
   "outputs": [
    {
     "name": "stdout",
     "output_type": "stream",
     "text": [
      "(1481661, 13393)\n",
      "(1481661, 1)\n"
     ]
    }
   ],
   "source": [
    "print(X_input.shape)\n",
    "print(y_input.shape)"
   ]
  },
  {
   "cell_type": "code",
   "execution_count": 18,
   "metadata": {},
   "outputs": [
    {
     "name": "stdout",
     "output_type": "stream",
     "text": [
      "Creating train/val split...\n",
      "Done. Time taken: 1.60s\n",
      "\n",
      "Train shapes\n",
      "X: (1333494, 13393)\n",
      "Y: (1333494, 1)\n",
      "\n",
      "Validation shapes\n",
      "X: (148167, 13393)\n",
      "Y: (148167, 1)\n"
     ]
    }
   ],
   "source": [
    "start_time = time.time()\n",
    "print('Creating train/val split...')\n",
    "\n",
    "X_train, X_val, y_train, y_val = train_test_split(X_input, y_input, test_size=0.1, random_state=8)\n",
    "\n",
    "print(f'Done. Time taken: {time.time() - start_time:.2f}s\\n')\n",
    "\n",
    "print(f'Train shapes\\nX: {X_train.shape}\\nY: {y_train.shape}\\n')\n",
    "print(f'Validation shapes\\nX: {X_val.shape}\\nY: {y_val.shape}')"
   ]
  },
  {
   "cell_type": "markdown",
   "metadata": {},
   "source": [
    "## Neural Network"
   ]
  },
  {
   "cell_type": "code",
   "execution_count": 19,
   "metadata": {},
   "outputs": [],
   "source": [
    "## Keras functions\n",
    "def r2_metric(y, y_hat):\n",
    "    RSS = K.sum(K.square(y - y_hat))\n",
    "    TSS = K.sum(K.square(y - K.mean(y)))\n",
    "    r2 = 1 - RSS / (TSS + K.epsilon())\n",
    "    return r2\n",
    "\n",
    "def RMSLE_metric(y, y_hat):    \n",
    "    RMSLE = K.sqrt(K.mean(K.square(y_hat - y)))\n",
    "    return RMSLE\n",
    "\n",
    "## Numpy functions\n",
    "def calc_r2(y, y_hat):\n",
    "    RSS = np.sum((y - y_hat)**2)\n",
    "    TSS = np.sum((y - np.mean(y))**2)\n",
    "    r2 = 1 - RSS / TSS\n",
    "    return r2\n",
    "\n",
    "def calc_RMSLE(y, y_hat):\n",
    "    RMSLE = np.sqrt(np.mean((np.log(y_hat + 1) - np.log(y + 1))**2))\n",
    "    return RMSLE"
   ]
  },
  {
   "cell_type": "code",
   "execution_count": 20,
   "metadata": {
    "scrolled": false
   },
   "outputs": [
    {
     "name": "stdout",
     "output_type": "stream",
     "text": [
      "_________________________________________________________________\n",
      "Layer (type)                 Output Shape              Param #   \n",
      "=================================================================\n",
      "dense_1 (Dense)              (None, 50)                669700    \n",
      "_________________________________________________________________\n",
      "dense_2 (Dense)              (None, 50)                2550      \n",
      "_________________________________________________________________\n",
      "dense_3 (Dense)              (None, 1)                 51        \n",
      "=================================================================\n",
      "Total params: 672,301\n",
      "Trainable params: 672,301\n",
      "Non-trainable params: 0\n",
      "_________________________________________________________________\n",
      "None\n"
     ]
    }
   ],
   "source": [
    "# Fully connected network\n",
    "model = Sequential()\n",
    "model.add(Dense(50, input_dim=X_input.shape[1], activation='relu'))\n",
    "model.add(Dense(50, activation='relu'))\n",
    "model.add(Dense(1))\n",
    "model.compile(loss='mean_squared_error', optimizer='adam', metrics=[r2_metric])\n",
    "print(model.summary())"
   ]
  },
  {
   "cell_type": "code",
   "execution_count": 21,
   "metadata": {},
   "outputs": [
    {
     "name": "stdout",
     "output_type": "stream",
     "text": [
      "Train on 1333494 samples, validate on 148167 samples\n",
      "Epoch 1/3\n",
      "1333494/1333494 [==============================] - 363s 272us/step - loss: 0.2321 - r2_metric: 0.5484 - val_loss: 0.2042 - val_r2_metric: 0.6012\n",
      "Epoch 2/3\n",
      "1333494/1333494 [==============================] - 266s 200us/step - loss: 0.1914 - r2_metric: 0.6261 - val_loss: 0.1971 - val_r2_metric: 0.6140\n",
      "Epoch 3/3\n",
      "1333494/1333494 [==============================] - 266s 200us/step - loss: 0.1757 - r2_metric: 0.6560 - val_loss: 0.1931 - val_r2_metric: 0.6241\n"
     ]
    }
   ],
   "source": [
    "history = model.fit(X_train, y_train, batch_size=32, epochs=3, validation_data=(X_val, y_val), # 16,1\n",
    "                    callbacks=[EarlyStopping(patience=1, monitor='val_loss', restore_best_weights=True)])"
   ]
  },
  {
   "cell_type": "code",
   "execution_count": 22,
   "metadata": {},
   "outputs": [
    {
     "name": "stdout",
     "output_type": "stream",
     "text": [
      "1333494/1333494 [==============================] - 93s 70us/step\n",
      "(1333494, 1)\n",
      "148167/148167 [==============================] - 10s 69us/step\n",
      "(148167, 1)\n"
     ]
    }
   ],
   "source": [
    "# Get train/validation predictions\n",
    "y_hat_train = model.predict(X_train, verbose=1)\n",
    "print(y_hat_train.shape)\n",
    "\n",
    "y_hat_val = model.predict(X_val, verbose=1)\n",
    "print(y_hat_val.shape)"
   ]
  },
  {
   "cell_type": "code",
   "execution_count": 23,
   "metadata": {},
   "outputs": [
    {
     "name": "stdout",
     "output_type": "stream",
     "text": [
      "RMSLE\n",
      "Train: 0.3980\n",
      "Val: 0.4395\n",
      "\n",
      "r2\n",
      "Train: 0.5676\n",
      "Val: 0.5175\n",
      "\n",
      "log r2\n",
      "Train: 0.7153\n",
      "Val: 0.6539\n"
     ]
    }
   ],
   "source": [
    "RMSLE_train = calc_RMSLE(np.expm1(y_train), np.expm1(y_hat_train))\n",
    "RMSLE_val = calc_RMSLE(np.expm1(y_val), np.expm1(y_hat_val))\n",
    "\n",
    "print(f'RMSLE\\nTrain: {RMSLE_train:.4f}\\nVal: {RMSLE_val:.4f}\\n') # Best: 0.4577 / 0.4701\n",
    "# 0.3900 / 0.4400 | runtime=1605.62s | 5k feature limit, <5 brands, (1,1)/(1,2) ngrams -> CV categories & BL brands\n",
    "# 0.3962 / 0.4384 | runtime=1402.01s | 5k feature limit, <5 brands, (1,1)/(1,2) ngrams -> cat/brands as dummies\n",
    "\n",
    "r2_train = calc_r2(np.expm1(y_train), np.expm1(y_hat_train))\n",
    "r2_val = calc_r2(np.expm1(y_val), np.expm1(y_hat_val))\n",
    "\n",
    "print(f'r2\\nTrain: {r2_train:.4f}\\nVal: {r2_val:.4f}\\n')\n",
    "\n",
    "log_r2_train = calc_r2(y_train, y_hat_train)\n",
    "log_r2_val = calc_r2(y_val, y_hat_val)\n",
    "\n",
    "print(f'log r2\\nTrain: {log_r2_train:.4f}\\nVal: {log_r2_val:.4f}')"
   ]
  },
  {
   "cell_type": "code",
   "execution_count": 24,
   "metadata": {},
   "outputs": [
    {
     "name": "stdout",
     "output_type": "stream",
     "text": [
      "Total notebook run time: 1877.89s\n"
     ]
    }
   ],
   "source": [
    "print(f'Total notebook run time: {time.time() - notebook_start:.2f}s')"
   ]
  },
  {
   "cell_type": "markdown",
   "metadata": {},
   "source": [
    "## Bonus stuff"
   ]
  },
  {
   "cell_type": "markdown",
   "metadata": {},
   "source": [
    "### Ridge regression (for comparison)"
   ]
  },
  {
   "cell_type": "code",
   "execution_count": 25,
   "metadata": {},
   "outputs": [
    {
     "name": "stdout",
     "output_type": "stream",
     "text": [
      "Fitting ridge regression...\n",
      "Done. Time taken: 120.08s\n"
     ]
    }
   ],
   "source": [
    "from sklearn.linear_model import Ridge\n",
    "\n",
    "start_time = time.time()\n",
    "model2 = Ridge(solver='sag', fit_intercept=False)\n",
    "print('Fitting ridge regression...')\n",
    "model2.fit(X_train, y_train)\n",
    "print(f'Done. Time taken: {time.time() - start_time:.2f}s')"
   ]
  },
  {
   "cell_type": "code",
   "execution_count": 26,
   "metadata": {},
   "outputs": [
    {
     "name": "stdout",
     "output_type": "stream",
     "text": [
      "RMSLE\n",
      "Train: 0.4561\n",
      "Val: 0.4610\n",
      "\n",
      "r2\n",
      "Train: 0.4138\n",
      "Val: 0.4174\n",
      "\n",
      "log r2\n",
      "Train: 0.5861\n",
      "Val: 0.5783\n"
     ]
    }
   ],
   "source": [
    "y_hat_train2 = model2.predict(X_train)\n",
    "y_hat_val2 = model2.predict(X_val)\n",
    "\n",
    "RMSLE_train2 = calc_RMSLE(np.exp(y_train), np.exp(y_hat_train2))\n",
    "RMSLE_val2 = calc_RMSLE(np.exp(y_val), np.exp(y_hat_val2))\n",
    "\n",
    "print(f'RMSLE\\nTrain: {RMSLE_train2:.4f}\\nVal: {RMSLE_val2:.4f}\\n')\n",
    "\n",
    "r2_train2 = calc_r2(np.exp(y_train), np.exp(y_hat_train2))\n",
    "r2_val2 = calc_r2(np.exp(y_val), np.exp(y_hat_val2))\n",
    "\n",
    "print(f'r2\\nTrain: {r2_train2:.4f}\\nVal: {r2_val2:.4f}\\n')\n",
    "\n",
    "log_r2_train2 = calc_r2(y_train, y_hat_train2)\n",
    "log_r2_val2 = calc_r2(y_val, y_hat_val2)\n",
    "\n",
    "print(f'log r2\\nTrain: {log_r2_train2:.4f}\\nVal: {log_r2_val2:.4f}')"
   ]
  },
  {
   "cell_type": "markdown",
   "metadata": {},
   "source": [
    "### Generate N-grams (manually)"
   ]
  },
  {
   "cell_type": "code",
   "execution_count": 27,
   "metadata": {},
   "outputs": [],
   "source": [
    "# def generate_ngrams(string, n=2):\n",
    "#     if type(string) != str:\n",
    "#         return []\n",
    "#     # Break sentence into tokens\n",
    "#     tokens = [token for token in string.split(' ')]\n",
    "#     if len(tokens) < n:\n",
    "#         return []\n",
    "#     return list(nltk.ngrams(tokens, n))"
   ]
  },
  {
   "cell_type": "code",
   "execution_count": 28,
   "metadata": {},
   "outputs": [],
   "source": [
    "# start_time = time.time()\n",
    "# print('Creating ngrams...')\n",
    "\n",
    "# name_ngrams = list(X_train['name'].apply(lambda x: generate_ngrams(x, 2)))\n",
    "# desc_ngrams = list(X_train['item_description'].apply(lambda x: generate_ngrams(x, 2)))\n",
    "# for i in name_ngrams:\n",
    "#     ngrams += i  \n",
    "# for i in desc_ngrams:\n",
    "#     ngrams += i  \n",
    "\n",
    "# print(f'Done. Time taken: {time.time() - start_time:.2f}s')\n",
    "    \n",
    "# top_ngrams = pd.Series(ngrams).value_counts().head(200).keys()\n",
    "# print(list(top_ngrams))"
   ]
  },
  {
   "cell_type": "code",
   "execution_count": 29,
   "metadata": {},
   "outputs": [],
   "source": [
    "# ngram_counts = pd.Series(ngrams).value_counts()\n",
    "\n",
    "# # point_one_pct = int(len(X_train) * 0.001)\n",
    "# # point_one_ngrams = list(ngram_counts[ngram_counts > point_one_pct].keys())\n",
    "# # print(len(point_one_ngrams))\n",
    "\n",
    "# one_pct = int(len(X_train) * 0.01)\n",
    "# one_ngrams = list(ngram_counts[ngram_counts > one_pct].keys())\n",
    "# print(len(one_ngrams))"
   ]
  },
  {
   "cell_type": "code",
   "execution_count": 30,
   "metadata": {
    "scrolled": false
   },
   "outputs": [],
   "source": [
    "# start_time = time.time()\n",
    "# print('Creating new columns for ngrams...')\n",
    "# for ngram in point_one_ngrams:\n",
    "#     col_name = f'desc_{ngram[0]}_{ngram[1]}'\n",
    "#     print(col_name)\n",
    "#     #X_train[col_name] =\n",
    "#     temp1 = X_train['item_description'].apply(lambda x: 1 if ngram in generate_ngrams(x) else 0)\n",
    "#     temp2 = X_train['name'].apply(lambda x: 1 if ngram in generate_ngrams(x) else 0)\n",
    "#     #print(temp1 | temp2)\n",
    "#     break\n",
    "    \n",
    "# print(f'Done. Time taken: {time.time() - start_time:.2f}s')"
   ]
  }
 ],
 "metadata": {
  "kernelspec": {
   "display_name": "Python 3",
   "language": "python",
   "name": "python3"
  },
  "language_info": {
   "codemirror_mode": {
    "name": "ipython",
    "version": 3
   },
   "file_extension": ".py",
   "mimetype": "text/x-python",
   "name": "python",
   "nbconvert_exporter": "python",
   "pygments_lexer": "ipython3",
   "version": "3.6.5"
  }
 },
 "nbformat": 4,
 "nbformat_minor": 2
}
